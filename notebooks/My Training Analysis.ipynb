{
 "cells": [
  {
   "cell_type": "markdown",
   "id": "1ef3161e",
   "metadata": {},
   "source": [
    "# 🏃‍♀️ Triathlon Data Science: Predicting Fitness Fatigue & Overtraining Risk\n",
    "\n",
    "Welcome to my personal data science project where I explore my own Garmin activity data to identify potential signs of overtraining or fatigue. This notebook serves as the first step: Exploratory Data Analysis (EDA).\n",
    "\n",
    "## 🎯 Goal\n",
    "\n",
    "The goal of this project is to use wearable fitness data (heart rate, activity type, training load) to find patterns that may signal overtraining or upcoming burnout. The longer-term goal is to build a lightweight model that flags risky training periods based on this data.\n"
   ]
  },
  {
   "cell_type": "markdown",
   "id": "0e7d1378",
   "metadata": {},
   "source": [
    "## 📥 Load and Preview Data"
   ]
  },
  {
   "cell_type": "code",
   "execution_count": 78,
   "id": "c175f210",
   "metadata": {},
   "outputs": [
    {
     "data": {
      "text/html": [
       "<div>\n",
       "<style scoped>\n",
       "    .dataframe tbody tr th:only-of-type {\n",
       "        vertical-align: middle;\n",
       "    }\n",
       "\n",
       "    .dataframe tbody tr th {\n",
       "        vertical-align: top;\n",
       "    }\n",
       "\n",
       "    .dataframe thead th {\n",
       "        text-align: right;\n",
       "    }\n",
       "</style>\n",
       "<table border=\"1\" class=\"dataframe\">\n",
       "  <thead>\n",
       "    <tr style=\"text-align: right;\">\n",
       "      <th></th>\n",
       "      <th>Activiteittype</th>\n",
       "      <th>Datum</th>\n",
       "      <th>Favoriet</th>\n",
       "      <th>Titel</th>\n",
       "      <th>Afstand</th>\n",
       "      <th>Calorieën</th>\n",
       "      <th>Tijd</th>\n",
       "      <th>Gem. HS</th>\n",
       "      <th>Max. HS</th>\n",
       "      <th>Training effect aeroob</th>\n",
       "      <th>...</th>\n",
       "      <th>Max ademh</th>\n",
       "      <th>Stresswijziging</th>\n",
       "      <th>Stress vooraf</th>\n",
       "      <th>Stress achteraf</th>\n",
       "      <th>Gemiddelde stress</th>\n",
       "      <th>Max stress</th>\n",
       "      <th>Tijd bewogen</th>\n",
       "      <th>Verstreken tijd</th>\n",
       "      <th>Minimum hoogte</th>\n",
       "      <th>Maximum hoogte</th>\n",
       "    </tr>\n",
       "  </thead>\n",
       "  <tbody>\n",
       "    <tr>\n",
       "      <th>0</th>\n",
       "      <td>Hardlopen</td>\n",
       "      <td>2025-05-19 09:50:28</td>\n",
       "      <td>False</td>\n",
       "      <td>Amsterdam Hardlopen</td>\n",
       "      <td>5.48</td>\n",
       "      <td>281</td>\n",
       "      <td>00:28:01</td>\n",
       "      <td>151</td>\n",
       "      <td>169</td>\n",
       "      <td>3.2</td>\n",
       "      <td>...</td>\n",
       "      <td>--</td>\n",
       "      <td>--</td>\n",
       "      <td>--</td>\n",
       "      <td>--</td>\n",
       "      <td>--</td>\n",
       "      <td>--</td>\n",
       "      <td>00:27:52</td>\n",
       "      <td>00:34:55</td>\n",
       "      <td>1</td>\n",
       "      <td>10</td>\n",
       "    </tr>\n",
       "    <tr>\n",
       "      <th>1</th>\n",
       "      <td>Hardlopen</td>\n",
       "      <td>2025-05-18 20:03:44</td>\n",
       "      <td>False</td>\n",
       "      <td>Amsterdam Hardlopen</td>\n",
       "      <td>5.25</td>\n",
       "      <td>280</td>\n",
       "      <td>00:30:28</td>\n",
       "      <td>141</td>\n",
       "      <td>151</td>\n",
       "      <td>3.0</td>\n",
       "      <td>...</td>\n",
       "      <td>--</td>\n",
       "      <td>--</td>\n",
       "      <td>--</td>\n",
       "      <td>--</td>\n",
       "      <td>--</td>\n",
       "      <td>--</td>\n",
       "      <td>00:30:24</td>\n",
       "      <td>00:30:28</td>\n",
       "      <td>-2</td>\n",
       "      <td>7</td>\n",
       "    </tr>\n",
       "    <tr>\n",
       "      <th>2</th>\n",
       "      <td>Wegwielrennen</td>\n",
       "      <td>2025-05-18 09:22:31</td>\n",
       "      <td>False</td>\n",
       "      <td>Renkum Wegwielrennen</td>\n",
       "      <td>120.19</td>\n",
       "      <td>1,812</td>\n",
       "      <td>04:16:05</td>\n",
       "      <td>151</td>\n",
       "      <td>181</td>\n",
       "      <td>5.0</td>\n",
       "      <td>...</td>\n",
       "      <td>49</td>\n",
       "      <td>--</td>\n",
       "      <td>--</td>\n",
       "      <td>--</td>\n",
       "      <td>--</td>\n",
       "      <td>--</td>\n",
       "      <td>04:15:16</td>\n",
       "      <td>05:04:08</td>\n",
       "      <td>4</td>\n",
       "      <td>108</td>\n",
       "    </tr>\n",
       "    <tr>\n",
       "      <th>3</th>\n",
       "      <td>Hardlopen</td>\n",
       "      <td>2025-05-16 10:52:12</td>\n",
       "      <td>False</td>\n",
       "      <td>Amsterdam Hardlopen</td>\n",
       "      <td>8.83</td>\n",
       "      <td>457</td>\n",
       "      <td>00:47:10</td>\n",
       "      <td>145</td>\n",
       "      <td>167</td>\n",
       "      <td>3.8</td>\n",
       "      <td>...</td>\n",
       "      <td>--</td>\n",
       "      <td>--</td>\n",
       "      <td>--</td>\n",
       "      <td>--</td>\n",
       "      <td>--</td>\n",
       "      <td>--</td>\n",
       "      <td>00:46:55</td>\n",
       "      <td>00:56:41</td>\n",
       "      <td>-2</td>\n",
       "      <td>10</td>\n",
       "    </tr>\n",
       "    <tr>\n",
       "      <th>4</th>\n",
       "      <td>Wegwielrennen</td>\n",
       "      <td>2025-05-15 18:46:39</td>\n",
       "      <td>False</td>\n",
       "      <td>Diemen Wegwielrennen</td>\n",
       "      <td>64.34</td>\n",
       "      <td>944</td>\n",
       "      <td>02:21:15</td>\n",
       "      <td>149</td>\n",
       "      <td>180</td>\n",
       "      <td>5.0</td>\n",
       "      <td>...</td>\n",
       "      <td>44</td>\n",
       "      <td>--</td>\n",
       "      <td>--</td>\n",
       "      <td>--</td>\n",
       "      <td>--</td>\n",
       "      <td>--</td>\n",
       "      <td>02:20:50</td>\n",
       "      <td>02:27:12</td>\n",
       "      <td>-5</td>\n",
       "      <td>11</td>\n",
       "    </tr>\n",
       "  </tbody>\n",
       "</table>\n",
       "<p>5 rows × 52 columns</p>\n",
       "</div>"
      ],
      "text/plain": [
       "  Activiteittype                Datum  Favoriet                 Titel Afstand  \\\n",
       "0      Hardlopen  2025-05-19 09:50:28     False   Amsterdam Hardlopen    5.48   \n",
       "1      Hardlopen  2025-05-18 20:03:44     False   Amsterdam Hardlopen    5.25   \n",
       "2  Wegwielrennen  2025-05-18 09:22:31     False  Renkum Wegwielrennen  120.19   \n",
       "3      Hardlopen  2025-05-16 10:52:12     False   Amsterdam Hardlopen    8.83   \n",
       "4  Wegwielrennen  2025-05-15 18:46:39     False  Diemen Wegwielrennen   64.34   \n",
       "\n",
       "  Calorieën      Tijd Gem. HS Max. HS Training effect aeroob  ... Max ademh  \\\n",
       "0       281  00:28:01     151     169                    3.2  ...        --   \n",
       "1       280  00:30:28     141     151                    3.0  ...        --   \n",
       "2     1,812  04:16:05     151     181                    5.0  ...        49   \n",
       "3       457  00:47:10     145     167                    3.8  ...        --   \n",
       "4       944  02:21:15     149     180                    5.0  ...        44   \n",
       "\n",
       "  Stresswijziging Stress vooraf Stress achteraf Gemiddelde stress Max stress  \\\n",
       "0              --            --              --                --         --   \n",
       "1              --            --              --                --         --   \n",
       "2              --            --              --                --         --   \n",
       "3              --            --              --                --         --   \n",
       "4              --            --              --                --         --   \n",
       "\n",
       "  Tijd bewogen Verstreken tijd Minimum hoogte Maximum hoogte  \n",
       "0     00:27:52        00:34:55              1             10  \n",
       "1     00:30:24        00:30:28             -2              7  \n",
       "2     04:15:16        05:04:08              4            108  \n",
       "3     00:46:55        00:56:41             -2             10  \n",
       "4     02:20:50        02:27:12             -5             11  \n",
       "\n",
       "[5 rows x 52 columns]"
      ]
     },
     "execution_count": 78,
     "metadata": {},
     "output_type": "execute_result"
    }
   ],
   "source": [
    "import pandas as pd\n",
    "df = pd.read_csv('Activities.csv')\n",
    "df.head()"
   ]
  },
  {
   "cell_type": "code",
   "execution_count": 81,
   "id": "c3327eda",
   "metadata": {},
   "outputs": [
    {
     "data": {
      "text/html": [
       "<div>\n",
       "<style scoped>\n",
       "    .dataframe tbody tr th:only-of-type {\n",
       "        vertical-align: middle;\n",
       "    }\n",
       "\n",
       "    .dataframe tbody tr th {\n",
       "        vertical-align: top;\n",
       "    }\n",
       "\n",
       "    .dataframe thead th {\n",
       "        text-align: right;\n",
       "    }\n",
       "</style>\n",
       "<table border=\"1\" class=\"dataframe\">\n",
       "  <thead>\n",
       "    <tr style=\"text-align: right;\">\n",
       "      <th></th>\n",
       "      <th>Datum</th>\n",
       "      <th>Afstand</th>\n",
       "      <th>Calorieën</th>\n",
       "    </tr>\n",
       "  </thead>\n",
       "  <tbody>\n",
       "    <tr>\n",
       "      <th>143</th>\n",
       "      <td>2024-09-08 15:06:30</td>\n",
       "      <td>0.227</td>\n",
       "      <td>43</td>\n",
       "    </tr>\n",
       "    <tr>\n",
       "      <th>144</th>\n",
       "      <td>2024-09-08 08:48:28</td>\n",
       "      <td>0.391</td>\n",
       "      <td>69</td>\n",
       "    </tr>\n",
       "    <tr>\n",
       "      <th>146</th>\n",
       "      <td>2024-09-02 07:08:15</td>\n",
       "      <td>0.817</td>\n",
       "      <td>155</td>\n",
       "    </tr>\n",
       "    <tr>\n",
       "      <th>148</th>\n",
       "      <td>2024-08-31 14:42:52</td>\n",
       "      <td>0.677</td>\n",
       "      <td>154</td>\n",
       "    </tr>\n",
       "    <tr>\n",
       "      <th>149</th>\n",
       "      <td>2024-08-30 14:16:57</td>\n",
       "      <td>1.053</td>\n",
       "      <td>223</td>\n",
       "    </tr>\n",
       "    <tr>\n",
       "      <th>150</th>\n",
       "      <td>2024-08-30 10:17:24</td>\n",
       "      <td>1.436</td>\n",
       "      <td>343</td>\n",
       "    </tr>\n",
       "    <tr>\n",
       "      <th>164</th>\n",
       "      <td>2024-08-11 09:46:50</td>\n",
       "      <td>1.599</td>\n",
       "      <td>384</td>\n",
       "    </tr>\n",
       "    <tr>\n",
       "      <th>219</th>\n",
       "      <td>2024-06-21 12:58:48</td>\n",
       "      <td>0.359</td>\n",
       "      <td>57</td>\n",
       "    </tr>\n",
       "  </tbody>\n",
       "</table>\n",
       "</div>"
      ],
      "text/plain": [
       "                   Datum Afstand Calorieën\n",
       "143  2024-09-08 15:06:30   0.227        43\n",
       "144  2024-09-08 08:48:28   0.391        69\n",
       "146  2024-09-02 07:08:15   0.817       155\n",
       "148  2024-08-31 14:42:52   0.677       154\n",
       "149  2024-08-30 14:16:57   1.053       223\n",
       "150  2024-08-30 10:17:24   1.436       343\n",
       "164  2024-08-11 09:46:50   1.599       384\n",
       "219  2024-06-21 12:58:48   0.359        57"
      ]
     },
     "execution_count": 81,
     "metadata": {},
     "output_type": "execute_result"
    }
   ],
   "source": [
    "# Look at swimming activities whose distances are in meters not km.\n",
    "df[df['Activiteittype'] == 'Zwemmen in open water'][['Datum','Afstand', 'Calorieën']]"
   ]
  },
  {
   "cell_type": "markdown",
   "id": "14df88a9",
   "metadata": {},
   "source": [
    "## 🧼 Data Cleaning"
   ]
  },
  {
   "cell_type": "code",
   "execution_count": 80,
   "id": "fae63ce0",
   "metadata": {},
   "outputs": [],
   "source": [
    "# Step 1: Fix distance ONLY for swimming activities\n",
    "# Remove comma in 'Afstand' (e.g., '1,725') → '1725', then convert to float\n",
    "swim_mask = df['Activiteittype'].isin(['Zwembad', 'Zwemmen in open water'])\n",
    "\n",
    "df.loc[swim_mask, 'Afstand'] = (\n",
    "    df.loc[swim_mask, 'Afstand']\n",
    "    .astype(str)\n",
    "    .str.replace(',', '')        # Remove comma for numbers like '1,725'\n",
    "    .astype(float) / 1000        # Convert meters to kilometers\n",
    ")\n"
   ]
  },
  {
   "cell_type": "code",
   "execution_count": 82,
   "id": "7ed63cdb",
   "metadata": {},
   "outputs": [
    {
     "data": {
      "text/html": [
       "<div>\n",
       "<style scoped>\n",
       "    .dataframe tbody tr th:only-of-type {\n",
       "        vertical-align: middle;\n",
       "    }\n",
       "\n",
       "    .dataframe tbody tr th {\n",
       "        vertical-align: top;\n",
       "    }\n",
       "\n",
       "    .dataframe thead th {\n",
       "        text-align: right;\n",
       "    }\n",
       "</style>\n",
       "<table border=\"1\" class=\"dataframe\">\n",
       "  <thead>\n",
       "    <tr style=\"text-align: right;\">\n",
       "      <th></th>\n",
       "      <th>Activity Type</th>\n",
       "      <th>Date</th>\n",
       "      <th>Favoriet</th>\n",
       "      <th>Titel</th>\n",
       "      <th>Distance (km)</th>\n",
       "      <th>Calories</th>\n",
       "      <th>Duration</th>\n",
       "      <th>Avg Heart Rate</th>\n",
       "      <th>Max Heart Rate</th>\n",
       "      <th>Aerobic TE</th>\n",
       "      <th>...</th>\n",
       "      <th>Max ademh</th>\n",
       "      <th>Stresswijziging</th>\n",
       "      <th>Stress vooraf</th>\n",
       "      <th>Stress achteraf</th>\n",
       "      <th>Gemiddelde stress</th>\n",
       "      <th>Max stress</th>\n",
       "      <th>Moving Time</th>\n",
       "      <th>Elapsed Time</th>\n",
       "      <th>Min Altitude</th>\n",
       "      <th>Max Altitude</th>\n",
       "    </tr>\n",
       "  </thead>\n",
       "  <tbody>\n",
       "    <tr>\n",
       "      <th>0</th>\n",
       "      <td>Hardlopen</td>\n",
       "      <td>2025-05-19 09:50:28</td>\n",
       "      <td>False</td>\n",
       "      <td>Amsterdam Hardlopen</td>\n",
       "      <td>5.48</td>\n",
       "      <td>281</td>\n",
       "      <td>00:28:01</td>\n",
       "      <td>151.0</td>\n",
       "      <td>169.0</td>\n",
       "      <td>3.2</td>\n",
       "      <td>...</td>\n",
       "      <td>--</td>\n",
       "      <td>--</td>\n",
       "      <td>--</td>\n",
       "      <td>--</td>\n",
       "      <td>--</td>\n",
       "      <td>--</td>\n",
       "      <td>00:27:52</td>\n",
       "      <td>00:34:55</td>\n",
       "      <td>1</td>\n",
       "      <td>10</td>\n",
       "    </tr>\n",
       "    <tr>\n",
       "      <th>1</th>\n",
       "      <td>Hardlopen</td>\n",
       "      <td>2025-05-18 20:03:44</td>\n",
       "      <td>False</td>\n",
       "      <td>Amsterdam Hardlopen</td>\n",
       "      <td>5.25</td>\n",
       "      <td>280</td>\n",
       "      <td>00:30:28</td>\n",
       "      <td>141.0</td>\n",
       "      <td>151.0</td>\n",
       "      <td>3.0</td>\n",
       "      <td>...</td>\n",
       "      <td>--</td>\n",
       "      <td>--</td>\n",
       "      <td>--</td>\n",
       "      <td>--</td>\n",
       "      <td>--</td>\n",
       "      <td>--</td>\n",
       "      <td>00:30:24</td>\n",
       "      <td>00:30:28</td>\n",
       "      <td>-2</td>\n",
       "      <td>7</td>\n",
       "    </tr>\n",
       "    <tr>\n",
       "      <th>2</th>\n",
       "      <td>Wegwielrennen</td>\n",
       "      <td>2025-05-18 09:22:31</td>\n",
       "      <td>False</td>\n",
       "      <td>Renkum Wegwielrennen</td>\n",
       "      <td>120.19</td>\n",
       "      <td>1812</td>\n",
       "      <td>04:16:05</td>\n",
       "      <td>151.0</td>\n",
       "      <td>181.0</td>\n",
       "      <td>5.0</td>\n",
       "      <td>...</td>\n",
       "      <td>49</td>\n",
       "      <td>--</td>\n",
       "      <td>--</td>\n",
       "      <td>--</td>\n",
       "      <td>--</td>\n",
       "      <td>--</td>\n",
       "      <td>04:15:16</td>\n",
       "      <td>05:04:08</td>\n",
       "      <td>4</td>\n",
       "      <td>108</td>\n",
       "    </tr>\n",
       "    <tr>\n",
       "      <th>3</th>\n",
       "      <td>Hardlopen</td>\n",
       "      <td>2025-05-16 10:52:12</td>\n",
       "      <td>False</td>\n",
       "      <td>Amsterdam Hardlopen</td>\n",
       "      <td>8.83</td>\n",
       "      <td>457</td>\n",
       "      <td>00:47:10</td>\n",
       "      <td>145.0</td>\n",
       "      <td>167.0</td>\n",
       "      <td>3.8</td>\n",
       "      <td>...</td>\n",
       "      <td>--</td>\n",
       "      <td>--</td>\n",
       "      <td>--</td>\n",
       "      <td>--</td>\n",
       "      <td>--</td>\n",
       "      <td>--</td>\n",
       "      <td>00:46:55</td>\n",
       "      <td>00:56:41</td>\n",
       "      <td>-2</td>\n",
       "      <td>10</td>\n",
       "    </tr>\n",
       "    <tr>\n",
       "      <th>4</th>\n",
       "      <td>Wegwielrennen</td>\n",
       "      <td>2025-05-15 18:46:39</td>\n",
       "      <td>False</td>\n",
       "      <td>Diemen Wegwielrennen</td>\n",
       "      <td>64.34</td>\n",
       "      <td>944</td>\n",
       "      <td>02:21:15</td>\n",
       "      <td>149.0</td>\n",
       "      <td>180.0</td>\n",
       "      <td>5.0</td>\n",
       "      <td>...</td>\n",
       "      <td>44</td>\n",
       "      <td>--</td>\n",
       "      <td>--</td>\n",
       "      <td>--</td>\n",
       "      <td>--</td>\n",
       "      <td>--</td>\n",
       "      <td>02:20:50</td>\n",
       "      <td>02:27:12</td>\n",
       "      <td>-5</td>\n",
       "      <td>11</td>\n",
       "    </tr>\n",
       "  </tbody>\n",
       "</table>\n",
       "<p>5 rows × 52 columns</p>\n",
       "</div>"
      ],
      "text/plain": [
       "   Activity Type                Date  Favoriet                 Titel  \\\n",
       "0      Hardlopen 2025-05-19 09:50:28     False   Amsterdam Hardlopen   \n",
       "1      Hardlopen 2025-05-18 20:03:44     False   Amsterdam Hardlopen   \n",
       "2  Wegwielrennen 2025-05-18 09:22:31     False  Renkum Wegwielrennen   \n",
       "3      Hardlopen 2025-05-16 10:52:12     False   Amsterdam Hardlopen   \n",
       "4  Wegwielrennen 2025-05-15 18:46:39     False  Diemen Wegwielrennen   \n",
       "\n",
       "   Distance (km)  Calories  Duration  Avg Heart Rate  Max Heart Rate  \\\n",
       "0           5.48       281  00:28:01           151.0           169.0   \n",
       "1           5.25       280  00:30:28           141.0           151.0   \n",
       "2         120.19      1812  04:16:05           151.0           181.0   \n",
       "3           8.83       457  00:47:10           145.0           167.0   \n",
       "4          64.34       944  02:21:15           149.0           180.0   \n",
       "\n",
       "   Aerobic TE  ... Max ademh Stresswijziging Stress vooraf Stress achteraf  \\\n",
       "0         3.2  ...        --              --            --              --   \n",
       "1         3.0  ...        --              --            --              --   \n",
       "2         5.0  ...        49              --            --              --   \n",
       "3         3.8  ...        --              --            --              --   \n",
       "4         5.0  ...        44              --            --              --   \n",
       "\n",
       "  Gemiddelde stress Max stress Moving Time Elapsed Time Min Altitude  \\\n",
       "0                --         --    00:27:52     00:34:55            1   \n",
       "1                --         --    00:30:24     00:30:28           -2   \n",
       "2                --         --    04:15:16     05:04:08            4   \n",
       "3                --         --    00:46:55     00:56:41           -2   \n",
       "4                --         --    02:20:50     02:27:12           -5   \n",
       "\n",
       "  Max Altitude  \n",
       "0           10  \n",
       "1            7  \n",
       "2          108  \n",
       "3           10  \n",
       "4           11  \n",
       "\n",
       "[5 rows x 52 columns]"
      ]
     },
     "execution_count": 82,
     "metadata": {},
     "output_type": "execute_result"
    }
   ],
   "source": [
    "df = df.rename(columns={\n",
    "    'Activiteittype': 'Activity Type',\n",
    "    'Datum': 'Date',\n",
    "    'Afstand': 'Distance (km)',\n",
    "    'Calorieën': 'Calories',\n",
    "    'Tijd': 'Duration',\n",
    "    'Gem. HS': 'Avg Heart Rate',\n",
    "    'Max. HS': 'Max Heart Rate',\n",
    "    'Training effect aeroob': 'Aerobic TE',\n",
    "    'Totale stijging': 'Elevation Gain (m)',\n",
    "    'Tijd bewogen': 'Moving Time',\n",
    "    'Verstreken tijd': 'Elapsed Time',\n",
    "    'Minimum hoogte': 'Min Altitude',\n",
    "    'Maximum hoogte': 'Max Altitude'\n",
    "})\n",
    "\n",
    "df['Date'] = pd.to_datetime(df['Date'], errors='coerce')\n",
    "df['Distance (km)'] = pd.to_numeric(df['Distance (km)'], errors='coerce')\n",
    "df['Calories'] = pd.to_numeric(df['Calories'].astype(str).str.replace(',', ''), errors='coerce')\n",
    "df['Avg Heart Rate'] = pd.to_numeric(df['Avg Heart Rate'], errors='coerce')\n",
    "df['Max Heart Rate'] = pd.to_numeric(df['Max Heart Rate'], errors='coerce')\n",
    "df['Aerobic TE'] = pd.to_numeric(df['Aerobic TE'], errors='coerce')\n",
    "df = df.dropna(subset=['Date'])\n",
    "df.head()"
   ]
  },
  {
   "cell_type": "code",
   "execution_count": 85,
   "id": "6288bc06",
   "metadata": {},
   "outputs": [
    {
     "name": "stderr",
     "output_type": "stream",
     "text": [
      "/var/folders/qy/1th4gkcx0vlb__rw8vzpddlh0000gn/T/ipykernel_6473/3878494461.py:14: SettingWithCopyWarning:\n",
      "\n",
      "\n",
      "A value is trying to be set on a copy of a slice from a DataFrame.\n",
      "Try using .loc[row_indexer,col_indexer] = value instead\n",
      "\n",
      "See the caveats in the documentation: https://pandas.pydata.org/pandas-docs/stable/user_guide/indexing.html#returning-a-view-versus-a-copy\n",
      "\n"
     ]
    },
    {
     "data": {
      "text/html": [
       "<div>\n",
       "<style scoped>\n",
       "    .dataframe tbody tr th:only-of-type {\n",
       "        vertical-align: middle;\n",
       "    }\n",
       "\n",
       "    .dataframe tbody tr th {\n",
       "        vertical-align: top;\n",
       "    }\n",
       "\n",
       "    .dataframe thead th {\n",
       "        text-align: right;\n",
       "    }\n",
       "</style>\n",
       "<table border=\"1\" class=\"dataframe\">\n",
       "  <thead>\n",
       "    <tr style=\"text-align: right;\">\n",
       "      <th></th>\n",
       "      <th>Activity Type</th>\n",
       "      <th>Date</th>\n",
       "      <th>Favoriet</th>\n",
       "      <th>Titel</th>\n",
       "      <th>Distance (km)</th>\n",
       "      <th>Calories</th>\n",
       "      <th>Duration</th>\n",
       "      <th>Avg Heart Rate</th>\n",
       "      <th>Max Heart Rate</th>\n",
       "      <th>Aerobic TE</th>\n",
       "      <th>...</th>\n",
       "      <th>Stresswijziging</th>\n",
       "      <th>Stress vooraf</th>\n",
       "      <th>Stress achteraf</th>\n",
       "      <th>Gemiddelde stress</th>\n",
       "      <th>Max stress</th>\n",
       "      <th>Moving Time</th>\n",
       "      <th>Elapsed Time</th>\n",
       "      <th>Min Altitude</th>\n",
       "      <th>Max Altitude</th>\n",
       "      <th>Activity Category</th>\n",
       "    </tr>\n",
       "  </thead>\n",
       "  <tbody>\n",
       "    <tr>\n",
       "      <th>0</th>\n",
       "      <td>Hardlopen</td>\n",
       "      <td>2025-05-19 09:50:28</td>\n",
       "      <td>False</td>\n",
       "      <td>Amsterdam Hardlopen</td>\n",
       "      <td>5.48</td>\n",
       "      <td>281</td>\n",
       "      <td>00:28:01</td>\n",
       "      <td>151.0</td>\n",
       "      <td>169.0</td>\n",
       "      <td>3.2</td>\n",
       "      <td>...</td>\n",
       "      <td>--</td>\n",
       "      <td>--</td>\n",
       "      <td>--</td>\n",
       "      <td>--</td>\n",
       "      <td>--</td>\n",
       "      <td>00:27:52</td>\n",
       "      <td>00:34:55</td>\n",
       "      <td>1</td>\n",
       "      <td>10</td>\n",
       "      <td>Running</td>\n",
       "    </tr>\n",
       "    <tr>\n",
       "      <th>1</th>\n",
       "      <td>Hardlopen</td>\n",
       "      <td>2025-05-18 20:03:44</td>\n",
       "      <td>False</td>\n",
       "      <td>Amsterdam Hardlopen</td>\n",
       "      <td>5.25</td>\n",
       "      <td>280</td>\n",
       "      <td>00:30:28</td>\n",
       "      <td>141.0</td>\n",
       "      <td>151.0</td>\n",
       "      <td>3.0</td>\n",
       "      <td>...</td>\n",
       "      <td>--</td>\n",
       "      <td>--</td>\n",
       "      <td>--</td>\n",
       "      <td>--</td>\n",
       "      <td>--</td>\n",
       "      <td>00:30:24</td>\n",
       "      <td>00:30:28</td>\n",
       "      <td>-2</td>\n",
       "      <td>7</td>\n",
       "      <td>Running</td>\n",
       "    </tr>\n",
       "    <tr>\n",
       "      <th>2</th>\n",
       "      <td>Wegwielrennen</td>\n",
       "      <td>2025-05-18 09:22:31</td>\n",
       "      <td>False</td>\n",
       "      <td>Renkum Wegwielrennen</td>\n",
       "      <td>120.19</td>\n",
       "      <td>1812</td>\n",
       "      <td>04:16:05</td>\n",
       "      <td>151.0</td>\n",
       "      <td>181.0</td>\n",
       "      <td>5.0</td>\n",
       "      <td>...</td>\n",
       "      <td>--</td>\n",
       "      <td>--</td>\n",
       "      <td>--</td>\n",
       "      <td>--</td>\n",
       "      <td>--</td>\n",
       "      <td>04:15:16</td>\n",
       "      <td>05:04:08</td>\n",
       "      <td>4</td>\n",
       "      <td>108</td>\n",
       "      <td>Cycling</td>\n",
       "    </tr>\n",
       "    <tr>\n",
       "      <th>3</th>\n",
       "      <td>Hardlopen</td>\n",
       "      <td>2025-05-16 10:52:12</td>\n",
       "      <td>False</td>\n",
       "      <td>Amsterdam Hardlopen</td>\n",
       "      <td>8.83</td>\n",
       "      <td>457</td>\n",
       "      <td>00:47:10</td>\n",
       "      <td>145.0</td>\n",
       "      <td>167.0</td>\n",
       "      <td>3.8</td>\n",
       "      <td>...</td>\n",
       "      <td>--</td>\n",
       "      <td>--</td>\n",
       "      <td>--</td>\n",
       "      <td>--</td>\n",
       "      <td>--</td>\n",
       "      <td>00:46:55</td>\n",
       "      <td>00:56:41</td>\n",
       "      <td>-2</td>\n",
       "      <td>10</td>\n",
       "      <td>Running</td>\n",
       "    </tr>\n",
       "    <tr>\n",
       "      <th>4</th>\n",
       "      <td>Wegwielrennen</td>\n",
       "      <td>2025-05-15 18:46:39</td>\n",
       "      <td>False</td>\n",
       "      <td>Diemen Wegwielrennen</td>\n",
       "      <td>64.34</td>\n",
       "      <td>944</td>\n",
       "      <td>02:21:15</td>\n",
       "      <td>149.0</td>\n",
       "      <td>180.0</td>\n",
       "      <td>5.0</td>\n",
       "      <td>...</td>\n",
       "      <td>--</td>\n",
       "      <td>--</td>\n",
       "      <td>--</td>\n",
       "      <td>--</td>\n",
       "      <td>--</td>\n",
       "      <td>02:20:50</td>\n",
       "      <td>02:27:12</td>\n",
       "      <td>-5</td>\n",
       "      <td>11</td>\n",
       "      <td>Cycling</td>\n",
       "    </tr>\n",
       "  </tbody>\n",
       "</table>\n",
       "<p>5 rows × 53 columns</p>\n",
       "</div>"
      ],
      "text/plain": [
       "   Activity Type                Date  Favoriet                 Titel  \\\n",
       "0      Hardlopen 2025-05-19 09:50:28     False   Amsterdam Hardlopen   \n",
       "1      Hardlopen 2025-05-18 20:03:44     False   Amsterdam Hardlopen   \n",
       "2  Wegwielrennen 2025-05-18 09:22:31     False  Renkum Wegwielrennen   \n",
       "3      Hardlopen 2025-05-16 10:52:12     False   Amsterdam Hardlopen   \n",
       "4  Wegwielrennen 2025-05-15 18:46:39     False  Diemen Wegwielrennen   \n",
       "\n",
       "   Distance (km)  Calories  Duration  Avg Heart Rate  Max Heart Rate  \\\n",
       "0           5.48       281  00:28:01           151.0           169.0   \n",
       "1           5.25       280  00:30:28           141.0           151.0   \n",
       "2         120.19      1812  04:16:05           151.0           181.0   \n",
       "3           8.83       457  00:47:10           145.0           167.0   \n",
       "4          64.34       944  02:21:15           149.0           180.0   \n",
       "\n",
       "   Aerobic TE  ... Stresswijziging Stress vooraf Stress achteraf  \\\n",
       "0         3.2  ...              --            --              --   \n",
       "1         3.0  ...              --            --              --   \n",
       "2         5.0  ...              --            --              --   \n",
       "3         3.8  ...              --            --              --   \n",
       "4         5.0  ...              --            --              --   \n",
       "\n",
       "  Gemiddelde stress Max stress Moving Time Elapsed Time Min Altitude  \\\n",
       "0                --         --    00:27:52     00:34:55            1   \n",
       "1                --         --    00:30:24     00:30:28           -2   \n",
       "2                --         --    04:15:16     05:04:08            4   \n",
       "3                --         --    00:46:55     00:56:41           -2   \n",
       "4                --         --    02:20:50     02:27:12           -5   \n",
       "\n",
       "  Max Altitude Activity Category  \n",
       "0           10           Running  \n",
       "1            7           Running  \n",
       "2          108           Cycling  \n",
       "3           10           Running  \n",
       "4           11           Cycling  \n",
       "\n",
       "[5 rows x 53 columns]"
      ]
     },
     "execution_count": 85,
     "metadata": {},
     "output_type": "execute_result"
    }
   ],
   "source": [
    "# Define which activities to keep and how to rename them\n",
    "activity_map = {\n",
    "    'Hardlopen': 'Running',\n",
    "    'Wegwielrennen': 'Cycling',\n",
    "    'Virtueel fietsen': 'Cycling',\n",
    "    'Zwembad': 'Swimming',\n",
    "    'Zwemmen in open water': 'Swimming'\n",
    "}\n",
    "\n",
    "# Filter only the activities we want\n",
    "df = df[df['Activity Type'].isin(activity_map.keys())]\n",
    "\n",
    "# Apply mapping to unify activity names\n",
    "df['Activity Category'] = df['Activity Type'].map(activity_map)\n",
    "df.head()"
   ]
  },
  {
   "cell_type": "code",
   "execution_count": 87,
   "id": "7041b9fc",
   "metadata": {},
   "outputs": [
    {
     "name": "stdout",
     "output_type": "stream",
     "text": [
      "📅 Data Summary\n",
      "----------------------------\n",
      "Start date: 2024-06-21\n",
      "End date:   2025-05-19\n",
      "Total activities: 183\n",
      "Activity type counts:\n",
      "Running     86\n",
      "Swimming    55\n",
      "Cycling     42\n",
      "Name: Activity Category, dtype: int64\n"
     ]
    }
   ],
   "source": [
    "print(\"📅 Data Summary\")\n",
    "print(\"----------------------------\")\n",
    "print(f\"Start date: {df['Date'].min().date()}\")\n",
    "print(f\"End date:   {df['Date'].max().date()}\")\n",
    "print(f\"Total activities: {df.shape[0]}\")\n",
    "print(\"Activity type counts:\")\n",
    "print(df['Activity Category'].value_counts())"
   ]
  },
  {
   "cell_type": "markdown",
   "id": "afb622e9",
   "metadata": {},
   "source": [
    "## 📊 Exploratory Data Analysis"
   ]
  },
  {
   "cell_type": "code",
   "execution_count": 89,
   "id": "49543fd0",
   "metadata": {},
   "outputs": [
    {
     "data": {
      "application/vnd.plotly.v1+json": {
       "config": {
        "plotlyServerURL": "https://plot.ly"
       },
       "data": [
        {
         "alignmentgroup": "True",
         "bingroup": "x",
         "hovertemplate": "Activity Type=%{x}<br>count=%{y}<extra></extra>",
         "legendgroup": "Hardlopen",
         "marker": {
          "color": "#636efa",
          "pattern": {
           "shape": ""
          }
         },
         "name": "Hardlopen",
         "offsetgroup": "Hardlopen",
         "orientation": "v",
         "showlegend": true,
         "type": "histogram",
         "x": [
          "Hardlopen",
          "Hardlopen",
          "Hardlopen",
          "Hardlopen",
          "Hardlopen",
          "Hardlopen",
          "Hardlopen",
          "Hardlopen",
          "Hardlopen",
          "Hardlopen",
          "Hardlopen",
          "Hardlopen",
          "Hardlopen",
          "Hardlopen",
          "Hardlopen",
          "Hardlopen",
          "Hardlopen",
          "Hardlopen",
          "Hardlopen",
          "Hardlopen",
          "Hardlopen",
          "Hardlopen",
          "Hardlopen",
          "Hardlopen",
          "Hardlopen",
          "Hardlopen",
          "Hardlopen",
          "Hardlopen",
          "Hardlopen",
          "Hardlopen",
          "Hardlopen",
          "Hardlopen",
          "Hardlopen",
          "Hardlopen",
          "Hardlopen",
          "Hardlopen",
          "Hardlopen",
          "Hardlopen",
          "Hardlopen",
          "Hardlopen",
          "Hardlopen",
          "Hardlopen",
          "Hardlopen",
          "Hardlopen",
          "Hardlopen",
          "Hardlopen",
          "Hardlopen",
          "Hardlopen",
          "Hardlopen",
          "Hardlopen",
          "Hardlopen",
          "Hardlopen",
          "Hardlopen",
          "Hardlopen",
          "Hardlopen",
          "Hardlopen",
          "Hardlopen",
          "Hardlopen",
          "Hardlopen",
          "Hardlopen",
          "Hardlopen",
          "Hardlopen",
          "Hardlopen",
          "Hardlopen",
          "Hardlopen",
          "Hardlopen",
          "Hardlopen",
          "Hardlopen",
          "Hardlopen",
          "Hardlopen",
          "Hardlopen",
          "Hardlopen",
          "Hardlopen",
          "Hardlopen",
          "Hardlopen",
          "Hardlopen",
          "Hardlopen",
          "Hardlopen",
          "Hardlopen",
          "Hardlopen",
          "Hardlopen",
          "Hardlopen",
          "Hardlopen",
          "Hardlopen",
          "Hardlopen",
          "Hardlopen"
         ],
         "xaxis": "x",
         "yaxis": "y"
        },
        {
         "alignmentgroup": "True",
         "bingroup": "x",
         "hovertemplate": "Activity Type=%{x}<br>count=%{y}<extra></extra>",
         "legendgroup": "Zwembad",
         "marker": {
          "color": "#EF553B",
          "pattern": {
           "shape": ""
          }
         },
         "name": "Zwembad",
         "offsetgroup": "Zwembad",
         "orientation": "v",
         "showlegend": true,
         "type": "histogram",
         "x": [
          "Zwembad",
          "Zwembad",
          "Zwembad",
          "Zwembad",
          "Zwembad",
          "Zwembad",
          "Zwembad",
          "Zwembad",
          "Zwembad",
          "Zwembad",
          "Zwembad",
          "Zwembad",
          "Zwembad",
          "Zwembad",
          "Zwembad",
          "Zwembad",
          "Zwembad",
          "Zwembad",
          "Zwembad",
          "Zwembad",
          "Zwembad",
          "Zwembad",
          "Zwembad",
          "Zwembad",
          "Zwembad",
          "Zwembad",
          "Zwembad",
          "Zwembad",
          "Zwembad",
          "Zwembad",
          "Zwembad",
          "Zwembad",
          "Zwembad",
          "Zwembad",
          "Zwembad",
          "Zwembad",
          "Zwembad",
          "Zwembad",
          "Zwembad",
          "Zwembad",
          "Zwembad",
          "Zwembad",
          "Zwembad",
          "Zwembad",
          "Zwembad",
          "Zwembad",
          "Zwembad"
         ],
         "xaxis": "x",
         "yaxis": "y"
        },
        {
         "alignmentgroup": "True",
         "bingroup": "x",
         "hovertemplate": "Activity Type=%{x}<br>count=%{y}<extra></extra>",
         "legendgroup": "Wegwielrennen",
         "marker": {
          "color": "#00cc96",
          "pattern": {
           "shape": ""
          }
         },
         "name": "Wegwielrennen",
         "offsetgroup": "Wegwielrennen",
         "orientation": "v",
         "showlegend": true,
         "type": "histogram",
         "x": [
          "Wegwielrennen",
          "Wegwielrennen",
          "Wegwielrennen",
          "Wegwielrennen",
          "Wegwielrennen",
          "Wegwielrennen",
          "Wegwielrennen",
          "Wegwielrennen",
          "Wegwielrennen",
          "Wegwielrennen",
          "Wegwielrennen",
          "Wegwielrennen",
          "Wegwielrennen",
          "Wegwielrennen",
          "Wegwielrennen",
          "Wegwielrennen",
          "Wegwielrennen",
          "Wegwielrennen",
          "Wegwielrennen",
          "Wegwielrennen",
          "Wegwielrennen",
          "Wegwielrennen",
          "Wegwielrennen",
          "Wegwielrennen",
          "Wegwielrennen",
          "Wegwielrennen",
          "Wegwielrennen",
          "Wegwielrennen",
          "Wegwielrennen",
          "Wegwielrennen",
          "Wegwielrennen",
          "Wegwielrennen",
          "Wegwielrennen",
          "Wegwielrennen",
          "Wegwielrennen",
          "Wegwielrennen",
          "Wegwielrennen"
         ],
         "xaxis": "x",
         "yaxis": "y"
        },
        {
         "alignmentgroup": "True",
         "bingroup": "x",
         "hovertemplate": "Activity Type=%{x}<br>count=%{y}<extra></extra>",
         "legendgroup": "Zwemmen in open water",
         "marker": {
          "color": "#ab63fa",
          "pattern": {
           "shape": ""
          }
         },
         "name": "Zwemmen in open water",
         "offsetgroup": "Zwemmen in open water",
         "orientation": "v",
         "showlegend": true,
         "type": "histogram",
         "x": [
          "Zwemmen in open water",
          "Zwemmen in open water",
          "Zwemmen in open water",
          "Zwemmen in open water",
          "Zwemmen in open water",
          "Zwemmen in open water",
          "Zwemmen in open water",
          "Zwemmen in open water"
         ],
         "xaxis": "x",
         "yaxis": "y"
        },
        {
         "alignmentgroup": "True",
         "bingroup": "x",
         "hovertemplate": "Activity Type=%{x}<br>count=%{y}<extra></extra>",
         "legendgroup": "Virtueel fietsen",
         "marker": {
          "color": "#FFA15A",
          "pattern": {
           "shape": ""
          }
         },
         "name": "Virtueel fietsen",
         "offsetgroup": "Virtueel fietsen",
         "orientation": "v",
         "showlegend": true,
         "type": "histogram",
         "x": [
          "Virtueel fietsen",
          "Virtueel fietsen",
          "Virtueel fietsen",
          "Virtueel fietsen",
          "Virtueel fietsen"
         ],
         "xaxis": "x",
         "yaxis": "y"
        }
       ],
       "layout": {
        "bargap": 0.2,
        "barmode": "relative",
        "legend": {
         "title": {
          "text": "Activity Type"
         },
         "tracegroupgap": 0
        },
        "template": {
         "data": {
          "bar": [
           {
            "error_x": {
             "color": "#2a3f5f"
            },
            "error_y": {
             "color": "#2a3f5f"
            },
            "marker": {
             "line": {
              "color": "#E5ECF6",
              "width": 0.5
             },
             "pattern": {
              "fillmode": "overlay",
              "size": 10,
              "solidity": 0.2
             }
            },
            "type": "bar"
           }
          ],
          "barpolar": [
           {
            "marker": {
             "line": {
              "color": "#E5ECF6",
              "width": 0.5
             },
             "pattern": {
              "fillmode": "overlay",
              "size": 10,
              "solidity": 0.2
             }
            },
            "type": "barpolar"
           }
          ],
          "carpet": [
           {
            "aaxis": {
             "endlinecolor": "#2a3f5f",
             "gridcolor": "white",
             "linecolor": "white",
             "minorgridcolor": "white",
             "startlinecolor": "#2a3f5f"
            },
            "baxis": {
             "endlinecolor": "#2a3f5f",
             "gridcolor": "white",
             "linecolor": "white",
             "minorgridcolor": "white",
             "startlinecolor": "#2a3f5f"
            },
            "type": "carpet"
           }
          ],
          "choropleth": [
           {
            "colorbar": {
             "outlinewidth": 0,
             "ticks": ""
            },
            "type": "choropleth"
           }
          ],
          "contour": [
           {
            "colorbar": {
             "outlinewidth": 0,
             "ticks": ""
            },
            "colorscale": [
             [
              0,
              "#0d0887"
             ],
             [
              0.1111111111111111,
              "#46039f"
             ],
             [
              0.2222222222222222,
              "#7201a8"
             ],
             [
              0.3333333333333333,
              "#9c179e"
             ],
             [
              0.4444444444444444,
              "#bd3786"
             ],
             [
              0.5555555555555556,
              "#d8576b"
             ],
             [
              0.6666666666666666,
              "#ed7953"
             ],
             [
              0.7777777777777778,
              "#fb9f3a"
             ],
             [
              0.8888888888888888,
              "#fdca26"
             ],
             [
              1,
              "#f0f921"
             ]
            ],
            "type": "contour"
           }
          ],
          "contourcarpet": [
           {
            "colorbar": {
             "outlinewidth": 0,
             "ticks": ""
            },
            "type": "contourcarpet"
           }
          ],
          "heatmap": [
           {
            "colorbar": {
             "outlinewidth": 0,
             "ticks": ""
            },
            "colorscale": [
             [
              0,
              "#0d0887"
             ],
             [
              0.1111111111111111,
              "#46039f"
             ],
             [
              0.2222222222222222,
              "#7201a8"
             ],
             [
              0.3333333333333333,
              "#9c179e"
             ],
             [
              0.4444444444444444,
              "#bd3786"
             ],
             [
              0.5555555555555556,
              "#d8576b"
             ],
             [
              0.6666666666666666,
              "#ed7953"
             ],
             [
              0.7777777777777778,
              "#fb9f3a"
             ],
             [
              0.8888888888888888,
              "#fdca26"
             ],
             [
              1,
              "#f0f921"
             ]
            ],
            "type": "heatmap"
           }
          ],
          "heatmapgl": [
           {
            "colorbar": {
             "outlinewidth": 0,
             "ticks": ""
            },
            "colorscale": [
             [
              0,
              "#0d0887"
             ],
             [
              0.1111111111111111,
              "#46039f"
             ],
             [
              0.2222222222222222,
              "#7201a8"
             ],
             [
              0.3333333333333333,
              "#9c179e"
             ],
             [
              0.4444444444444444,
              "#bd3786"
             ],
             [
              0.5555555555555556,
              "#d8576b"
             ],
             [
              0.6666666666666666,
              "#ed7953"
             ],
             [
              0.7777777777777778,
              "#fb9f3a"
             ],
             [
              0.8888888888888888,
              "#fdca26"
             ],
             [
              1,
              "#f0f921"
             ]
            ],
            "type": "heatmapgl"
           }
          ],
          "histogram": [
           {
            "marker": {
             "pattern": {
              "fillmode": "overlay",
              "size": 10,
              "solidity": 0.2
             }
            },
            "type": "histogram"
           }
          ],
          "histogram2d": [
           {
            "colorbar": {
             "outlinewidth": 0,
             "ticks": ""
            },
            "colorscale": [
             [
              0,
              "#0d0887"
             ],
             [
              0.1111111111111111,
              "#46039f"
             ],
             [
              0.2222222222222222,
              "#7201a8"
             ],
             [
              0.3333333333333333,
              "#9c179e"
             ],
             [
              0.4444444444444444,
              "#bd3786"
             ],
             [
              0.5555555555555556,
              "#d8576b"
             ],
             [
              0.6666666666666666,
              "#ed7953"
             ],
             [
              0.7777777777777778,
              "#fb9f3a"
             ],
             [
              0.8888888888888888,
              "#fdca26"
             ],
             [
              1,
              "#f0f921"
             ]
            ],
            "type": "histogram2d"
           }
          ],
          "histogram2dcontour": [
           {
            "colorbar": {
             "outlinewidth": 0,
             "ticks": ""
            },
            "colorscale": [
             [
              0,
              "#0d0887"
             ],
             [
              0.1111111111111111,
              "#46039f"
             ],
             [
              0.2222222222222222,
              "#7201a8"
             ],
             [
              0.3333333333333333,
              "#9c179e"
             ],
             [
              0.4444444444444444,
              "#bd3786"
             ],
             [
              0.5555555555555556,
              "#d8576b"
             ],
             [
              0.6666666666666666,
              "#ed7953"
             ],
             [
              0.7777777777777778,
              "#fb9f3a"
             ],
             [
              0.8888888888888888,
              "#fdca26"
             ],
             [
              1,
              "#f0f921"
             ]
            ],
            "type": "histogram2dcontour"
           }
          ],
          "mesh3d": [
           {
            "colorbar": {
             "outlinewidth": 0,
             "ticks": ""
            },
            "type": "mesh3d"
           }
          ],
          "parcoords": [
           {
            "line": {
             "colorbar": {
              "outlinewidth": 0,
              "ticks": ""
             }
            },
            "type": "parcoords"
           }
          ],
          "pie": [
           {
            "automargin": true,
            "type": "pie"
           }
          ],
          "scatter": [
           {
            "fillpattern": {
             "fillmode": "overlay",
             "size": 10,
             "solidity": 0.2
            },
            "type": "scatter"
           }
          ],
          "scatter3d": [
           {
            "line": {
             "colorbar": {
              "outlinewidth": 0,
              "ticks": ""
             }
            },
            "marker": {
             "colorbar": {
              "outlinewidth": 0,
              "ticks": ""
             }
            },
            "type": "scatter3d"
           }
          ],
          "scattercarpet": [
           {
            "marker": {
             "colorbar": {
              "outlinewidth": 0,
              "ticks": ""
             }
            },
            "type": "scattercarpet"
           }
          ],
          "scattergeo": [
           {
            "marker": {
             "colorbar": {
              "outlinewidth": 0,
              "ticks": ""
             }
            },
            "type": "scattergeo"
           }
          ],
          "scattergl": [
           {
            "marker": {
             "colorbar": {
              "outlinewidth": 0,
              "ticks": ""
             }
            },
            "type": "scattergl"
           }
          ],
          "scattermapbox": [
           {
            "marker": {
             "colorbar": {
              "outlinewidth": 0,
              "ticks": ""
             }
            },
            "type": "scattermapbox"
           }
          ],
          "scatterpolar": [
           {
            "marker": {
             "colorbar": {
              "outlinewidth": 0,
              "ticks": ""
             }
            },
            "type": "scatterpolar"
           }
          ],
          "scatterpolargl": [
           {
            "marker": {
             "colorbar": {
              "outlinewidth": 0,
              "ticks": ""
             }
            },
            "type": "scatterpolargl"
           }
          ],
          "scatterternary": [
           {
            "marker": {
             "colorbar": {
              "outlinewidth": 0,
              "ticks": ""
             }
            },
            "type": "scatterternary"
           }
          ],
          "surface": [
           {
            "colorbar": {
             "outlinewidth": 0,
             "ticks": ""
            },
            "colorscale": [
             [
              0,
              "#0d0887"
             ],
             [
              0.1111111111111111,
              "#46039f"
             ],
             [
              0.2222222222222222,
              "#7201a8"
             ],
             [
              0.3333333333333333,
              "#9c179e"
             ],
             [
              0.4444444444444444,
              "#bd3786"
             ],
             [
              0.5555555555555556,
              "#d8576b"
             ],
             [
              0.6666666666666666,
              "#ed7953"
             ],
             [
              0.7777777777777778,
              "#fb9f3a"
             ],
             [
              0.8888888888888888,
              "#fdca26"
             ],
             [
              1,
              "#f0f921"
             ]
            ],
            "type": "surface"
           }
          ],
          "table": [
           {
            "cells": {
             "fill": {
              "color": "#EBF0F8"
             },
             "line": {
              "color": "white"
             }
            },
            "header": {
             "fill": {
              "color": "#C8D4E3"
             },
             "line": {
              "color": "white"
             }
            },
            "type": "table"
           }
          ]
         },
         "layout": {
          "annotationdefaults": {
           "arrowcolor": "#2a3f5f",
           "arrowhead": 0,
           "arrowwidth": 1
          },
          "autotypenumbers": "strict",
          "coloraxis": {
           "colorbar": {
            "outlinewidth": 0,
            "ticks": ""
           }
          },
          "colorscale": {
           "diverging": [
            [
             0,
             "#8e0152"
            ],
            [
             0.1,
             "#c51b7d"
            ],
            [
             0.2,
             "#de77ae"
            ],
            [
             0.3,
             "#f1b6da"
            ],
            [
             0.4,
             "#fde0ef"
            ],
            [
             0.5,
             "#f7f7f7"
            ],
            [
             0.6,
             "#e6f5d0"
            ],
            [
             0.7,
             "#b8e186"
            ],
            [
             0.8,
             "#7fbc41"
            ],
            [
             0.9,
             "#4d9221"
            ],
            [
             1,
             "#276419"
            ]
           ],
           "sequential": [
            [
             0,
             "#0d0887"
            ],
            [
             0.1111111111111111,
             "#46039f"
            ],
            [
             0.2222222222222222,
             "#7201a8"
            ],
            [
             0.3333333333333333,
             "#9c179e"
            ],
            [
             0.4444444444444444,
             "#bd3786"
            ],
            [
             0.5555555555555556,
             "#d8576b"
            ],
            [
             0.6666666666666666,
             "#ed7953"
            ],
            [
             0.7777777777777778,
             "#fb9f3a"
            ],
            [
             0.8888888888888888,
             "#fdca26"
            ],
            [
             1,
             "#f0f921"
            ]
           ],
           "sequentialminus": [
            [
             0,
             "#0d0887"
            ],
            [
             0.1111111111111111,
             "#46039f"
            ],
            [
             0.2222222222222222,
             "#7201a8"
            ],
            [
             0.3333333333333333,
             "#9c179e"
            ],
            [
             0.4444444444444444,
             "#bd3786"
            ],
            [
             0.5555555555555556,
             "#d8576b"
            ],
            [
             0.6666666666666666,
             "#ed7953"
            ],
            [
             0.7777777777777778,
             "#fb9f3a"
            ],
            [
             0.8888888888888888,
             "#fdca26"
            ],
            [
             1,
             "#f0f921"
            ]
           ]
          },
          "colorway": [
           "#636efa",
           "#EF553B",
           "#00cc96",
           "#ab63fa",
           "#FFA15A",
           "#19d3f3",
           "#FF6692",
           "#B6E880",
           "#FF97FF",
           "#FECB52"
          ],
          "font": {
           "color": "#2a3f5f"
          },
          "geo": {
           "bgcolor": "white",
           "lakecolor": "white",
           "landcolor": "#E5ECF6",
           "showlakes": true,
           "showland": true,
           "subunitcolor": "white"
          },
          "hoverlabel": {
           "align": "left"
          },
          "hovermode": "closest",
          "mapbox": {
           "style": "light"
          },
          "paper_bgcolor": "white",
          "plot_bgcolor": "#E5ECF6",
          "polar": {
           "angularaxis": {
            "gridcolor": "white",
            "linecolor": "white",
            "ticks": ""
           },
           "bgcolor": "#E5ECF6",
           "radialaxis": {
            "gridcolor": "white",
            "linecolor": "white",
            "ticks": ""
           }
          },
          "scene": {
           "xaxis": {
            "backgroundcolor": "#E5ECF6",
            "gridcolor": "white",
            "gridwidth": 2,
            "linecolor": "white",
            "showbackground": true,
            "ticks": "",
            "zerolinecolor": "white"
           },
           "yaxis": {
            "backgroundcolor": "#E5ECF6",
            "gridcolor": "white",
            "gridwidth": 2,
            "linecolor": "white",
            "showbackground": true,
            "ticks": "",
            "zerolinecolor": "white"
           },
           "zaxis": {
            "backgroundcolor": "#E5ECF6",
            "gridcolor": "white",
            "gridwidth": 2,
            "linecolor": "white",
            "showbackground": true,
            "ticks": "",
            "zerolinecolor": "white"
           }
          },
          "shapedefaults": {
           "line": {
            "color": "#2a3f5f"
           }
          },
          "ternary": {
           "aaxis": {
            "gridcolor": "white",
            "linecolor": "white",
            "ticks": ""
           },
           "baxis": {
            "gridcolor": "white",
            "linecolor": "white",
            "ticks": ""
           },
           "bgcolor": "#E5ECF6",
           "caxis": {
            "gridcolor": "white",
            "linecolor": "white",
            "ticks": ""
           }
          },
          "title": {
           "x": 0.05
          },
          "xaxis": {
           "automargin": true,
           "gridcolor": "white",
           "linecolor": "white",
           "ticks": "",
           "title": {
            "standoff": 15
           },
           "zerolinecolor": "white",
           "zerolinewidth": 2
          },
          "yaxis": {
           "automargin": true,
           "gridcolor": "white",
           "linecolor": "white",
           "ticks": "",
           "title": {
            "standoff": 15
           },
           "zerolinecolor": "white",
           "zerolinewidth": 2
          }
         }
        },
        "title": {
         "text": "Activity Distribution"
        },
        "xaxis": {
         "anchor": "y",
         "categoryarray": [
          "Hardlopen",
          "Zwembad",
          "Wegwielrennen",
          "Zwemmen in open water",
          "Virtueel fietsen"
         ],
         "categoryorder": "array",
         "domain": [
          0,
          1
         ],
         "title": {
          "text": "Activity Type"
         }
        },
        "yaxis": {
         "anchor": "x",
         "domain": [
          0,
          1
         ],
         "title": {
          "text": "Count"
         }
        }
       }
      },
      "text/html": [
       "<div>                            <div id=\"e54daf73-cc2c-4fc9-9265-e96fced4c4d2\" class=\"plotly-graph-div\" style=\"height:525px; width:100%;\"></div>            <script type=\"text/javascript\">                require([\"plotly\"], function(Plotly) {                    window.PLOTLYENV=window.PLOTLYENV || {};                                    if (document.getElementById(\"e54daf73-cc2c-4fc9-9265-e96fced4c4d2\")) {                    Plotly.newPlot(                        \"e54daf73-cc2c-4fc9-9265-e96fced4c4d2\",                        [{\"alignmentgroup\":\"True\",\"bingroup\":\"x\",\"hovertemplate\":\"Activity Type=%{x}<br>count=%{y}<extra></extra>\",\"legendgroup\":\"Hardlopen\",\"marker\":{\"color\":\"#636efa\",\"pattern\":{\"shape\":\"\"}},\"name\":\"Hardlopen\",\"offsetgroup\":\"Hardlopen\",\"orientation\":\"v\",\"showlegend\":true,\"x\":[\"Hardlopen\",\"Hardlopen\",\"Hardlopen\",\"Hardlopen\",\"Hardlopen\",\"Hardlopen\",\"Hardlopen\",\"Hardlopen\",\"Hardlopen\",\"Hardlopen\",\"Hardlopen\",\"Hardlopen\",\"Hardlopen\",\"Hardlopen\",\"Hardlopen\",\"Hardlopen\",\"Hardlopen\",\"Hardlopen\",\"Hardlopen\",\"Hardlopen\",\"Hardlopen\",\"Hardlopen\",\"Hardlopen\",\"Hardlopen\",\"Hardlopen\",\"Hardlopen\",\"Hardlopen\",\"Hardlopen\",\"Hardlopen\",\"Hardlopen\",\"Hardlopen\",\"Hardlopen\",\"Hardlopen\",\"Hardlopen\",\"Hardlopen\",\"Hardlopen\",\"Hardlopen\",\"Hardlopen\",\"Hardlopen\",\"Hardlopen\",\"Hardlopen\",\"Hardlopen\",\"Hardlopen\",\"Hardlopen\",\"Hardlopen\",\"Hardlopen\",\"Hardlopen\",\"Hardlopen\",\"Hardlopen\",\"Hardlopen\",\"Hardlopen\",\"Hardlopen\",\"Hardlopen\",\"Hardlopen\",\"Hardlopen\",\"Hardlopen\",\"Hardlopen\",\"Hardlopen\",\"Hardlopen\",\"Hardlopen\",\"Hardlopen\",\"Hardlopen\",\"Hardlopen\",\"Hardlopen\",\"Hardlopen\",\"Hardlopen\",\"Hardlopen\",\"Hardlopen\",\"Hardlopen\",\"Hardlopen\",\"Hardlopen\",\"Hardlopen\",\"Hardlopen\",\"Hardlopen\",\"Hardlopen\",\"Hardlopen\",\"Hardlopen\",\"Hardlopen\",\"Hardlopen\",\"Hardlopen\",\"Hardlopen\",\"Hardlopen\",\"Hardlopen\",\"Hardlopen\",\"Hardlopen\",\"Hardlopen\"],\"xaxis\":\"x\",\"yaxis\":\"y\",\"type\":\"histogram\"},{\"alignmentgroup\":\"True\",\"bingroup\":\"x\",\"hovertemplate\":\"Activity Type=%{x}<br>count=%{y}<extra></extra>\",\"legendgroup\":\"Zwembad\",\"marker\":{\"color\":\"#EF553B\",\"pattern\":{\"shape\":\"\"}},\"name\":\"Zwembad\",\"offsetgroup\":\"Zwembad\",\"orientation\":\"v\",\"showlegend\":true,\"x\":[\"Zwembad\",\"Zwembad\",\"Zwembad\",\"Zwembad\",\"Zwembad\",\"Zwembad\",\"Zwembad\",\"Zwembad\",\"Zwembad\",\"Zwembad\",\"Zwembad\",\"Zwembad\",\"Zwembad\",\"Zwembad\",\"Zwembad\",\"Zwembad\",\"Zwembad\",\"Zwembad\",\"Zwembad\",\"Zwembad\",\"Zwembad\",\"Zwembad\",\"Zwembad\",\"Zwembad\",\"Zwembad\",\"Zwembad\",\"Zwembad\",\"Zwembad\",\"Zwembad\",\"Zwembad\",\"Zwembad\",\"Zwembad\",\"Zwembad\",\"Zwembad\",\"Zwembad\",\"Zwembad\",\"Zwembad\",\"Zwembad\",\"Zwembad\",\"Zwembad\",\"Zwembad\",\"Zwembad\",\"Zwembad\",\"Zwembad\",\"Zwembad\",\"Zwembad\",\"Zwembad\"],\"xaxis\":\"x\",\"yaxis\":\"y\",\"type\":\"histogram\"},{\"alignmentgroup\":\"True\",\"bingroup\":\"x\",\"hovertemplate\":\"Activity Type=%{x}<br>count=%{y}<extra></extra>\",\"legendgroup\":\"Wegwielrennen\",\"marker\":{\"color\":\"#00cc96\",\"pattern\":{\"shape\":\"\"}},\"name\":\"Wegwielrennen\",\"offsetgroup\":\"Wegwielrennen\",\"orientation\":\"v\",\"showlegend\":true,\"x\":[\"Wegwielrennen\",\"Wegwielrennen\",\"Wegwielrennen\",\"Wegwielrennen\",\"Wegwielrennen\",\"Wegwielrennen\",\"Wegwielrennen\",\"Wegwielrennen\",\"Wegwielrennen\",\"Wegwielrennen\",\"Wegwielrennen\",\"Wegwielrennen\",\"Wegwielrennen\",\"Wegwielrennen\",\"Wegwielrennen\",\"Wegwielrennen\",\"Wegwielrennen\",\"Wegwielrennen\",\"Wegwielrennen\",\"Wegwielrennen\",\"Wegwielrennen\",\"Wegwielrennen\",\"Wegwielrennen\",\"Wegwielrennen\",\"Wegwielrennen\",\"Wegwielrennen\",\"Wegwielrennen\",\"Wegwielrennen\",\"Wegwielrennen\",\"Wegwielrennen\",\"Wegwielrennen\",\"Wegwielrennen\",\"Wegwielrennen\",\"Wegwielrennen\",\"Wegwielrennen\",\"Wegwielrennen\",\"Wegwielrennen\"],\"xaxis\":\"x\",\"yaxis\":\"y\",\"type\":\"histogram\"},{\"alignmentgroup\":\"True\",\"bingroup\":\"x\",\"hovertemplate\":\"Activity Type=%{x}<br>count=%{y}<extra></extra>\",\"legendgroup\":\"Zwemmen in open water\",\"marker\":{\"color\":\"#ab63fa\",\"pattern\":{\"shape\":\"\"}},\"name\":\"Zwemmen in open water\",\"offsetgroup\":\"Zwemmen in open water\",\"orientation\":\"v\",\"showlegend\":true,\"x\":[\"Zwemmen in open water\",\"Zwemmen in open water\",\"Zwemmen in open water\",\"Zwemmen in open water\",\"Zwemmen in open water\",\"Zwemmen in open water\",\"Zwemmen in open water\",\"Zwemmen in open water\"],\"xaxis\":\"x\",\"yaxis\":\"y\",\"type\":\"histogram\"},{\"alignmentgroup\":\"True\",\"bingroup\":\"x\",\"hovertemplate\":\"Activity Type=%{x}<br>count=%{y}<extra></extra>\",\"legendgroup\":\"Virtueel fietsen\",\"marker\":{\"color\":\"#FFA15A\",\"pattern\":{\"shape\":\"\"}},\"name\":\"Virtueel fietsen\",\"offsetgroup\":\"Virtueel fietsen\",\"orientation\":\"v\",\"showlegend\":true,\"x\":[\"Virtueel fietsen\",\"Virtueel fietsen\",\"Virtueel fietsen\",\"Virtueel fietsen\",\"Virtueel fietsen\"],\"xaxis\":\"x\",\"yaxis\":\"y\",\"type\":\"histogram\"}],                        {\"template\":{\"data\":{\"histogram2dcontour\":[{\"type\":\"histogram2dcontour\",\"colorbar\":{\"outlinewidth\":0,\"ticks\":\"\"},\"colorscale\":[[0.0,\"#0d0887\"],[0.1111111111111111,\"#46039f\"],[0.2222222222222222,\"#7201a8\"],[0.3333333333333333,\"#9c179e\"],[0.4444444444444444,\"#bd3786\"],[0.5555555555555556,\"#d8576b\"],[0.6666666666666666,\"#ed7953\"],[0.7777777777777778,\"#fb9f3a\"],[0.8888888888888888,\"#fdca26\"],[1.0,\"#f0f921\"]]}],\"choropleth\":[{\"type\":\"choropleth\",\"colorbar\":{\"outlinewidth\":0,\"ticks\":\"\"}}],\"histogram2d\":[{\"type\":\"histogram2d\",\"colorbar\":{\"outlinewidth\":0,\"ticks\":\"\"},\"colorscale\":[[0.0,\"#0d0887\"],[0.1111111111111111,\"#46039f\"],[0.2222222222222222,\"#7201a8\"],[0.3333333333333333,\"#9c179e\"],[0.4444444444444444,\"#bd3786\"],[0.5555555555555556,\"#d8576b\"],[0.6666666666666666,\"#ed7953\"],[0.7777777777777778,\"#fb9f3a\"],[0.8888888888888888,\"#fdca26\"],[1.0,\"#f0f921\"]]}],\"heatmap\":[{\"type\":\"heatmap\",\"colorbar\":{\"outlinewidth\":0,\"ticks\":\"\"},\"colorscale\":[[0.0,\"#0d0887\"],[0.1111111111111111,\"#46039f\"],[0.2222222222222222,\"#7201a8\"],[0.3333333333333333,\"#9c179e\"],[0.4444444444444444,\"#bd3786\"],[0.5555555555555556,\"#d8576b\"],[0.6666666666666666,\"#ed7953\"],[0.7777777777777778,\"#fb9f3a\"],[0.8888888888888888,\"#fdca26\"],[1.0,\"#f0f921\"]]}],\"heatmapgl\":[{\"type\":\"heatmapgl\",\"colorbar\":{\"outlinewidth\":0,\"ticks\":\"\"},\"colorscale\":[[0.0,\"#0d0887\"],[0.1111111111111111,\"#46039f\"],[0.2222222222222222,\"#7201a8\"],[0.3333333333333333,\"#9c179e\"],[0.4444444444444444,\"#bd3786\"],[0.5555555555555556,\"#d8576b\"],[0.6666666666666666,\"#ed7953\"],[0.7777777777777778,\"#fb9f3a\"],[0.8888888888888888,\"#fdca26\"],[1.0,\"#f0f921\"]]}],\"contourcarpet\":[{\"type\":\"contourcarpet\",\"colorbar\":{\"outlinewidth\":0,\"ticks\":\"\"}}],\"contour\":[{\"type\":\"contour\",\"colorbar\":{\"outlinewidth\":0,\"ticks\":\"\"},\"colorscale\":[[0.0,\"#0d0887\"],[0.1111111111111111,\"#46039f\"],[0.2222222222222222,\"#7201a8\"],[0.3333333333333333,\"#9c179e\"],[0.4444444444444444,\"#bd3786\"],[0.5555555555555556,\"#d8576b\"],[0.6666666666666666,\"#ed7953\"],[0.7777777777777778,\"#fb9f3a\"],[0.8888888888888888,\"#fdca26\"],[1.0,\"#f0f921\"]]}],\"surface\":[{\"type\":\"surface\",\"colorbar\":{\"outlinewidth\":0,\"ticks\":\"\"},\"colorscale\":[[0.0,\"#0d0887\"],[0.1111111111111111,\"#46039f\"],[0.2222222222222222,\"#7201a8\"],[0.3333333333333333,\"#9c179e\"],[0.4444444444444444,\"#bd3786\"],[0.5555555555555556,\"#d8576b\"],[0.6666666666666666,\"#ed7953\"],[0.7777777777777778,\"#fb9f3a\"],[0.8888888888888888,\"#fdca26\"],[1.0,\"#f0f921\"]]}],\"mesh3d\":[{\"type\":\"mesh3d\",\"colorbar\":{\"outlinewidth\":0,\"ticks\":\"\"}}],\"scatter\":[{\"fillpattern\":{\"fillmode\":\"overlay\",\"size\":10,\"solidity\":0.2},\"type\":\"scatter\"}],\"parcoords\":[{\"type\":\"parcoords\",\"line\":{\"colorbar\":{\"outlinewidth\":0,\"ticks\":\"\"}}}],\"scatterpolargl\":[{\"type\":\"scatterpolargl\",\"marker\":{\"colorbar\":{\"outlinewidth\":0,\"ticks\":\"\"}}}],\"bar\":[{\"error_x\":{\"color\":\"#2a3f5f\"},\"error_y\":{\"color\":\"#2a3f5f\"},\"marker\":{\"line\":{\"color\":\"#E5ECF6\",\"width\":0.5},\"pattern\":{\"fillmode\":\"overlay\",\"size\":10,\"solidity\":0.2}},\"type\":\"bar\"}],\"scattergeo\":[{\"type\":\"scattergeo\",\"marker\":{\"colorbar\":{\"outlinewidth\":0,\"ticks\":\"\"}}}],\"scatterpolar\":[{\"type\":\"scatterpolar\",\"marker\":{\"colorbar\":{\"outlinewidth\":0,\"ticks\":\"\"}}}],\"histogram\":[{\"marker\":{\"pattern\":{\"fillmode\":\"overlay\",\"size\":10,\"solidity\":0.2}},\"type\":\"histogram\"}],\"scattergl\":[{\"type\":\"scattergl\",\"marker\":{\"colorbar\":{\"outlinewidth\":0,\"ticks\":\"\"}}}],\"scatter3d\":[{\"type\":\"scatter3d\",\"line\":{\"colorbar\":{\"outlinewidth\":0,\"ticks\":\"\"}},\"marker\":{\"colorbar\":{\"outlinewidth\":0,\"ticks\":\"\"}}}],\"scattermapbox\":[{\"type\":\"scattermapbox\",\"marker\":{\"colorbar\":{\"outlinewidth\":0,\"ticks\":\"\"}}}],\"scatterternary\":[{\"type\":\"scatterternary\",\"marker\":{\"colorbar\":{\"outlinewidth\":0,\"ticks\":\"\"}}}],\"scattercarpet\":[{\"type\":\"scattercarpet\",\"marker\":{\"colorbar\":{\"outlinewidth\":0,\"ticks\":\"\"}}}],\"carpet\":[{\"aaxis\":{\"endlinecolor\":\"#2a3f5f\",\"gridcolor\":\"white\",\"linecolor\":\"white\",\"minorgridcolor\":\"white\",\"startlinecolor\":\"#2a3f5f\"},\"baxis\":{\"endlinecolor\":\"#2a3f5f\",\"gridcolor\":\"white\",\"linecolor\":\"white\",\"minorgridcolor\":\"white\",\"startlinecolor\":\"#2a3f5f\"},\"type\":\"carpet\"}],\"table\":[{\"cells\":{\"fill\":{\"color\":\"#EBF0F8\"},\"line\":{\"color\":\"white\"}},\"header\":{\"fill\":{\"color\":\"#C8D4E3\"},\"line\":{\"color\":\"white\"}},\"type\":\"table\"}],\"barpolar\":[{\"marker\":{\"line\":{\"color\":\"#E5ECF6\",\"width\":0.5},\"pattern\":{\"fillmode\":\"overlay\",\"size\":10,\"solidity\":0.2}},\"type\":\"barpolar\"}],\"pie\":[{\"automargin\":true,\"type\":\"pie\"}]},\"layout\":{\"autotypenumbers\":\"strict\",\"colorway\":[\"#636efa\",\"#EF553B\",\"#00cc96\",\"#ab63fa\",\"#FFA15A\",\"#19d3f3\",\"#FF6692\",\"#B6E880\",\"#FF97FF\",\"#FECB52\"],\"font\":{\"color\":\"#2a3f5f\"},\"hovermode\":\"closest\",\"hoverlabel\":{\"align\":\"left\"},\"paper_bgcolor\":\"white\",\"plot_bgcolor\":\"#E5ECF6\",\"polar\":{\"bgcolor\":\"#E5ECF6\",\"angularaxis\":{\"gridcolor\":\"white\",\"linecolor\":\"white\",\"ticks\":\"\"},\"radialaxis\":{\"gridcolor\":\"white\",\"linecolor\":\"white\",\"ticks\":\"\"}},\"ternary\":{\"bgcolor\":\"#E5ECF6\",\"aaxis\":{\"gridcolor\":\"white\",\"linecolor\":\"white\",\"ticks\":\"\"},\"baxis\":{\"gridcolor\":\"white\",\"linecolor\":\"white\",\"ticks\":\"\"},\"caxis\":{\"gridcolor\":\"white\",\"linecolor\":\"white\",\"ticks\":\"\"}},\"coloraxis\":{\"colorbar\":{\"outlinewidth\":0,\"ticks\":\"\"}},\"colorscale\":{\"sequential\":[[0.0,\"#0d0887\"],[0.1111111111111111,\"#46039f\"],[0.2222222222222222,\"#7201a8\"],[0.3333333333333333,\"#9c179e\"],[0.4444444444444444,\"#bd3786\"],[0.5555555555555556,\"#d8576b\"],[0.6666666666666666,\"#ed7953\"],[0.7777777777777778,\"#fb9f3a\"],[0.8888888888888888,\"#fdca26\"],[1.0,\"#f0f921\"]],\"sequentialminus\":[[0.0,\"#0d0887\"],[0.1111111111111111,\"#46039f\"],[0.2222222222222222,\"#7201a8\"],[0.3333333333333333,\"#9c179e\"],[0.4444444444444444,\"#bd3786\"],[0.5555555555555556,\"#d8576b\"],[0.6666666666666666,\"#ed7953\"],[0.7777777777777778,\"#fb9f3a\"],[0.8888888888888888,\"#fdca26\"],[1.0,\"#f0f921\"]],\"diverging\":[[0,\"#8e0152\"],[0.1,\"#c51b7d\"],[0.2,\"#de77ae\"],[0.3,\"#f1b6da\"],[0.4,\"#fde0ef\"],[0.5,\"#f7f7f7\"],[0.6,\"#e6f5d0\"],[0.7,\"#b8e186\"],[0.8,\"#7fbc41\"],[0.9,\"#4d9221\"],[1,\"#276419\"]]},\"xaxis\":{\"gridcolor\":\"white\",\"linecolor\":\"white\",\"ticks\":\"\",\"title\":{\"standoff\":15},\"zerolinecolor\":\"white\",\"automargin\":true,\"zerolinewidth\":2},\"yaxis\":{\"gridcolor\":\"white\",\"linecolor\":\"white\",\"ticks\":\"\",\"title\":{\"standoff\":15},\"zerolinecolor\":\"white\",\"automargin\":true,\"zerolinewidth\":2},\"scene\":{\"xaxis\":{\"backgroundcolor\":\"#E5ECF6\",\"gridcolor\":\"white\",\"linecolor\":\"white\",\"showbackground\":true,\"ticks\":\"\",\"zerolinecolor\":\"white\",\"gridwidth\":2},\"yaxis\":{\"backgroundcolor\":\"#E5ECF6\",\"gridcolor\":\"white\",\"linecolor\":\"white\",\"showbackground\":true,\"ticks\":\"\",\"zerolinecolor\":\"white\",\"gridwidth\":2},\"zaxis\":{\"backgroundcolor\":\"#E5ECF6\",\"gridcolor\":\"white\",\"linecolor\":\"white\",\"showbackground\":true,\"ticks\":\"\",\"zerolinecolor\":\"white\",\"gridwidth\":2}},\"shapedefaults\":{\"line\":{\"color\":\"#2a3f5f\"}},\"annotationdefaults\":{\"arrowcolor\":\"#2a3f5f\",\"arrowhead\":0,\"arrowwidth\":1},\"geo\":{\"bgcolor\":\"white\",\"landcolor\":\"#E5ECF6\",\"subunitcolor\":\"white\",\"showland\":true,\"showlakes\":true,\"lakecolor\":\"white\"},\"title\":{\"x\":0.05},\"mapbox\":{\"style\":\"light\"}}},\"xaxis\":{\"anchor\":\"y\",\"domain\":[0.0,1.0],\"title\":{\"text\":\"Activity Type\"},\"categoryorder\":\"array\",\"categoryarray\":[\"Hardlopen\",\"Zwembad\",\"Wegwielrennen\",\"Zwemmen in open water\",\"Virtueel fietsen\"]},\"yaxis\":{\"anchor\":\"x\",\"domain\":[0.0,1.0],\"title\":{\"text\":\"Count\"}},\"legend\":{\"title\":{\"text\":\"Activity Type\"},\"tracegroupgap\":0},\"title\":{\"text\":\"Activity Distribution\"},\"barmode\":\"relative\",\"bargap\":0.2},                        {\"responsive\": true}                    ).then(function(){\n",
       "                            \n",
       "var gd = document.getElementById('e54daf73-cc2c-4fc9-9265-e96fced4c4d2');\n",
       "var x = new MutationObserver(function (mutations, observer) {{\n",
       "        var display = window.getComputedStyle(gd).display;\n",
       "        if (!display || display === 'none') {{\n",
       "            console.log([gd, 'removed!']);\n",
       "            Plotly.purge(gd);\n",
       "            observer.disconnect();\n",
       "        }}\n",
       "}});\n",
       "\n",
       "// Listen for the removal of the full notebook cells\n",
       "var notebookContainer = gd.closest('#notebook-container');\n",
       "if (notebookContainer) {{\n",
       "    x.observe(notebookContainer, {childList: true});\n",
       "}}\n",
       "\n",
       "// Listen for the clearing of the current output cell\n",
       "var outputEl = gd.closest('.output');\n",
       "if (outputEl) {{\n",
       "    x.observe(outputEl, {childList: true});\n",
       "}}\n",
       "\n",
       "                        })                };                });            </script>        </div>"
      ]
     },
     "metadata": {},
     "output_type": "display_data"
    }
   ],
   "source": [
    "import plotly.express as px\n",
    "\n",
    "# Interactive countplot of activity types\n",
    "fig = px.histogram(df, x='Activity Type', color='Activity Type',\n",
    "                   title='Activity Distribution',\n",
    "                   category_orders={'Activity Type': df['Activity Type'].value_counts().index})\n",
    "fig.update_layout(bargap=0.2, xaxis_title='Activity Type', yaxis_title='Count')\n",
    "fig.show()"
   ]
  },
  {
   "cell_type": "code",
   "execution_count": 18,
   "id": "61ea89ff",
   "metadata": {},
   "outputs": [
    {
     "data": {
      "application/vnd.plotly.v1+json": {
       "config": {
        "plotlyServerURL": "https://plot.ly"
       },
       "data": [
        {
         "alignmentgroup": "True",
         "bingroup": "x",
         "hovertemplate": "Activity Category=%{x}<br>count=%{y}<extra></extra>",
         "legendgroup": "Running",
         "marker": {
          "color": "#636efa",
          "pattern": {
           "shape": ""
          }
         },
         "name": "Running",
         "offsetgroup": "Running",
         "orientation": "v",
         "showlegend": true,
         "type": "histogram",
         "x": [
          "Running",
          "Running",
          "Running",
          "Running",
          "Running",
          "Running",
          "Running",
          "Running",
          "Running",
          "Running",
          "Running",
          "Running",
          "Running",
          "Running",
          "Running",
          "Running",
          "Running",
          "Running",
          "Running",
          "Running",
          "Running",
          "Running",
          "Running",
          "Running",
          "Running",
          "Running",
          "Running",
          "Running",
          "Running",
          "Running",
          "Running",
          "Running",
          "Running",
          "Running",
          "Running",
          "Running",
          "Running",
          "Running",
          "Running",
          "Running",
          "Running",
          "Running",
          "Running",
          "Running",
          "Running",
          "Running",
          "Running",
          "Running",
          "Running",
          "Running",
          "Running",
          "Running",
          "Running",
          "Running",
          "Running",
          "Running",
          "Running",
          "Running",
          "Running",
          "Running",
          "Running",
          "Running",
          "Running",
          "Running",
          "Running",
          "Running",
          "Running",
          "Running",
          "Running",
          "Running",
          "Running",
          "Running",
          "Running",
          "Running",
          "Running",
          "Running",
          "Running",
          "Running",
          "Running",
          "Running",
          "Running",
          "Running",
          "Running",
          "Running",
          "Running",
          "Running"
         ],
         "xaxis": "x",
         "yaxis": "y"
        },
        {
         "alignmentgroup": "True",
         "bingroup": "x",
         "hovertemplate": "Activity Category=%{x}<br>count=%{y}<extra></extra>",
         "legendgroup": "Swimming",
         "marker": {
          "color": "#EF553B",
          "pattern": {
           "shape": ""
          }
         },
         "name": "Swimming",
         "offsetgroup": "Swimming",
         "orientation": "v",
         "showlegend": true,
         "type": "histogram",
         "x": [
          "Swimming",
          "Swimming",
          "Swimming",
          "Swimming",
          "Swimming",
          "Swimming",
          "Swimming",
          "Swimming",
          "Swimming",
          "Swimming",
          "Swimming",
          "Swimming",
          "Swimming",
          "Swimming",
          "Swimming",
          "Swimming",
          "Swimming",
          "Swimming",
          "Swimming",
          "Swimming",
          "Swimming",
          "Swimming",
          "Swimming",
          "Swimming",
          "Swimming",
          "Swimming",
          "Swimming",
          "Swimming",
          "Swimming",
          "Swimming",
          "Swimming",
          "Swimming",
          "Swimming",
          "Swimming",
          "Swimming",
          "Swimming",
          "Swimming",
          "Swimming",
          "Swimming",
          "Swimming",
          "Swimming",
          "Swimming",
          "Swimming",
          "Swimming",
          "Swimming",
          "Swimming",
          "Swimming",
          "Swimming",
          "Swimming",
          "Swimming",
          "Swimming",
          "Swimming",
          "Swimming",
          "Swimming",
          "Swimming"
         ],
         "xaxis": "x",
         "yaxis": "y"
        },
        {
         "alignmentgroup": "True",
         "bingroup": "x",
         "hovertemplate": "Activity Category=%{x}<br>count=%{y}<extra></extra>",
         "legendgroup": "Cycling",
         "marker": {
          "color": "#00cc96",
          "pattern": {
           "shape": ""
          }
         },
         "name": "Cycling",
         "offsetgroup": "Cycling",
         "orientation": "v",
         "showlegend": true,
         "type": "histogram",
         "x": [
          "Cycling",
          "Cycling",
          "Cycling",
          "Cycling",
          "Cycling",
          "Cycling",
          "Cycling",
          "Cycling",
          "Cycling",
          "Cycling",
          "Cycling",
          "Cycling",
          "Cycling",
          "Cycling",
          "Cycling",
          "Cycling",
          "Cycling",
          "Cycling",
          "Cycling",
          "Cycling",
          "Cycling",
          "Cycling",
          "Cycling",
          "Cycling",
          "Cycling",
          "Cycling",
          "Cycling",
          "Cycling",
          "Cycling",
          "Cycling",
          "Cycling",
          "Cycling",
          "Cycling",
          "Cycling",
          "Cycling",
          "Cycling",
          "Cycling",
          "Cycling",
          "Cycling",
          "Cycling",
          "Cycling",
          "Cycling"
         ],
         "xaxis": "x",
         "yaxis": "y"
        }
       ],
       "layout": {
        "bargap": 0.2,
        "barmode": "relative",
        "legend": {
         "title": {
          "text": "Activity Category"
         },
         "tracegroupgap": 0
        },
        "template": {
         "data": {
          "bar": [
           {
            "error_x": {
             "color": "#2a3f5f"
            },
            "error_y": {
             "color": "#2a3f5f"
            },
            "marker": {
             "line": {
              "color": "#E5ECF6",
              "width": 0.5
             },
             "pattern": {
              "fillmode": "overlay",
              "size": 10,
              "solidity": 0.2
             }
            },
            "type": "bar"
           }
          ],
          "barpolar": [
           {
            "marker": {
             "line": {
              "color": "#E5ECF6",
              "width": 0.5
             },
             "pattern": {
              "fillmode": "overlay",
              "size": 10,
              "solidity": 0.2
             }
            },
            "type": "barpolar"
           }
          ],
          "carpet": [
           {
            "aaxis": {
             "endlinecolor": "#2a3f5f",
             "gridcolor": "white",
             "linecolor": "white",
             "minorgridcolor": "white",
             "startlinecolor": "#2a3f5f"
            },
            "baxis": {
             "endlinecolor": "#2a3f5f",
             "gridcolor": "white",
             "linecolor": "white",
             "minorgridcolor": "white",
             "startlinecolor": "#2a3f5f"
            },
            "type": "carpet"
           }
          ],
          "choropleth": [
           {
            "colorbar": {
             "outlinewidth": 0,
             "ticks": ""
            },
            "type": "choropleth"
           }
          ],
          "contour": [
           {
            "colorbar": {
             "outlinewidth": 0,
             "ticks": ""
            },
            "colorscale": [
             [
              0,
              "#0d0887"
             ],
             [
              0.1111111111111111,
              "#46039f"
             ],
             [
              0.2222222222222222,
              "#7201a8"
             ],
             [
              0.3333333333333333,
              "#9c179e"
             ],
             [
              0.4444444444444444,
              "#bd3786"
             ],
             [
              0.5555555555555556,
              "#d8576b"
             ],
             [
              0.6666666666666666,
              "#ed7953"
             ],
             [
              0.7777777777777778,
              "#fb9f3a"
             ],
             [
              0.8888888888888888,
              "#fdca26"
             ],
             [
              1,
              "#f0f921"
             ]
            ],
            "type": "contour"
           }
          ],
          "contourcarpet": [
           {
            "colorbar": {
             "outlinewidth": 0,
             "ticks": ""
            },
            "type": "contourcarpet"
           }
          ],
          "heatmap": [
           {
            "colorbar": {
             "outlinewidth": 0,
             "ticks": ""
            },
            "colorscale": [
             [
              0,
              "#0d0887"
             ],
             [
              0.1111111111111111,
              "#46039f"
             ],
             [
              0.2222222222222222,
              "#7201a8"
             ],
             [
              0.3333333333333333,
              "#9c179e"
             ],
             [
              0.4444444444444444,
              "#bd3786"
             ],
             [
              0.5555555555555556,
              "#d8576b"
             ],
             [
              0.6666666666666666,
              "#ed7953"
             ],
             [
              0.7777777777777778,
              "#fb9f3a"
             ],
             [
              0.8888888888888888,
              "#fdca26"
             ],
             [
              1,
              "#f0f921"
             ]
            ],
            "type": "heatmap"
           }
          ],
          "heatmapgl": [
           {
            "colorbar": {
             "outlinewidth": 0,
             "ticks": ""
            },
            "colorscale": [
             [
              0,
              "#0d0887"
             ],
             [
              0.1111111111111111,
              "#46039f"
             ],
             [
              0.2222222222222222,
              "#7201a8"
             ],
             [
              0.3333333333333333,
              "#9c179e"
             ],
             [
              0.4444444444444444,
              "#bd3786"
             ],
             [
              0.5555555555555556,
              "#d8576b"
             ],
             [
              0.6666666666666666,
              "#ed7953"
             ],
             [
              0.7777777777777778,
              "#fb9f3a"
             ],
             [
              0.8888888888888888,
              "#fdca26"
             ],
             [
              1,
              "#f0f921"
             ]
            ],
            "type": "heatmapgl"
           }
          ],
          "histogram": [
           {
            "marker": {
             "pattern": {
              "fillmode": "overlay",
              "size": 10,
              "solidity": 0.2
             }
            },
            "type": "histogram"
           }
          ],
          "histogram2d": [
           {
            "colorbar": {
             "outlinewidth": 0,
             "ticks": ""
            },
            "colorscale": [
             [
              0,
              "#0d0887"
             ],
             [
              0.1111111111111111,
              "#46039f"
             ],
             [
              0.2222222222222222,
              "#7201a8"
             ],
             [
              0.3333333333333333,
              "#9c179e"
             ],
             [
              0.4444444444444444,
              "#bd3786"
             ],
             [
              0.5555555555555556,
              "#d8576b"
             ],
             [
              0.6666666666666666,
              "#ed7953"
             ],
             [
              0.7777777777777778,
              "#fb9f3a"
             ],
             [
              0.8888888888888888,
              "#fdca26"
             ],
             [
              1,
              "#f0f921"
             ]
            ],
            "type": "histogram2d"
           }
          ],
          "histogram2dcontour": [
           {
            "colorbar": {
             "outlinewidth": 0,
             "ticks": ""
            },
            "colorscale": [
             [
              0,
              "#0d0887"
             ],
             [
              0.1111111111111111,
              "#46039f"
             ],
             [
              0.2222222222222222,
              "#7201a8"
             ],
             [
              0.3333333333333333,
              "#9c179e"
             ],
             [
              0.4444444444444444,
              "#bd3786"
             ],
             [
              0.5555555555555556,
              "#d8576b"
             ],
             [
              0.6666666666666666,
              "#ed7953"
             ],
             [
              0.7777777777777778,
              "#fb9f3a"
             ],
             [
              0.8888888888888888,
              "#fdca26"
             ],
             [
              1,
              "#f0f921"
             ]
            ],
            "type": "histogram2dcontour"
           }
          ],
          "mesh3d": [
           {
            "colorbar": {
             "outlinewidth": 0,
             "ticks": ""
            },
            "type": "mesh3d"
           }
          ],
          "parcoords": [
           {
            "line": {
             "colorbar": {
              "outlinewidth": 0,
              "ticks": ""
             }
            },
            "type": "parcoords"
           }
          ],
          "pie": [
           {
            "automargin": true,
            "type": "pie"
           }
          ],
          "scatter": [
           {
            "fillpattern": {
             "fillmode": "overlay",
             "size": 10,
             "solidity": 0.2
            },
            "type": "scatter"
           }
          ],
          "scatter3d": [
           {
            "line": {
             "colorbar": {
              "outlinewidth": 0,
              "ticks": ""
             }
            },
            "marker": {
             "colorbar": {
              "outlinewidth": 0,
              "ticks": ""
             }
            },
            "type": "scatter3d"
           }
          ],
          "scattercarpet": [
           {
            "marker": {
             "colorbar": {
              "outlinewidth": 0,
              "ticks": ""
             }
            },
            "type": "scattercarpet"
           }
          ],
          "scattergeo": [
           {
            "marker": {
             "colorbar": {
              "outlinewidth": 0,
              "ticks": ""
             }
            },
            "type": "scattergeo"
           }
          ],
          "scattergl": [
           {
            "marker": {
             "colorbar": {
              "outlinewidth": 0,
              "ticks": ""
             }
            },
            "type": "scattergl"
           }
          ],
          "scattermapbox": [
           {
            "marker": {
             "colorbar": {
              "outlinewidth": 0,
              "ticks": ""
             }
            },
            "type": "scattermapbox"
           }
          ],
          "scatterpolar": [
           {
            "marker": {
             "colorbar": {
              "outlinewidth": 0,
              "ticks": ""
             }
            },
            "type": "scatterpolar"
           }
          ],
          "scatterpolargl": [
           {
            "marker": {
             "colorbar": {
              "outlinewidth": 0,
              "ticks": ""
             }
            },
            "type": "scatterpolargl"
           }
          ],
          "scatterternary": [
           {
            "marker": {
             "colorbar": {
              "outlinewidth": 0,
              "ticks": ""
             }
            },
            "type": "scatterternary"
           }
          ],
          "surface": [
           {
            "colorbar": {
             "outlinewidth": 0,
             "ticks": ""
            },
            "colorscale": [
             [
              0,
              "#0d0887"
             ],
             [
              0.1111111111111111,
              "#46039f"
             ],
             [
              0.2222222222222222,
              "#7201a8"
             ],
             [
              0.3333333333333333,
              "#9c179e"
             ],
             [
              0.4444444444444444,
              "#bd3786"
             ],
             [
              0.5555555555555556,
              "#d8576b"
             ],
             [
              0.6666666666666666,
              "#ed7953"
             ],
             [
              0.7777777777777778,
              "#fb9f3a"
             ],
             [
              0.8888888888888888,
              "#fdca26"
             ],
             [
              1,
              "#f0f921"
             ]
            ],
            "type": "surface"
           }
          ],
          "table": [
           {
            "cells": {
             "fill": {
              "color": "#EBF0F8"
             },
             "line": {
              "color": "white"
             }
            },
            "header": {
             "fill": {
              "color": "#C8D4E3"
             },
             "line": {
              "color": "white"
             }
            },
            "type": "table"
           }
          ]
         },
         "layout": {
          "annotationdefaults": {
           "arrowcolor": "#2a3f5f",
           "arrowhead": 0,
           "arrowwidth": 1
          },
          "autotypenumbers": "strict",
          "coloraxis": {
           "colorbar": {
            "outlinewidth": 0,
            "ticks": ""
           }
          },
          "colorscale": {
           "diverging": [
            [
             0,
             "#8e0152"
            ],
            [
             0.1,
             "#c51b7d"
            ],
            [
             0.2,
             "#de77ae"
            ],
            [
             0.3,
             "#f1b6da"
            ],
            [
             0.4,
             "#fde0ef"
            ],
            [
             0.5,
             "#f7f7f7"
            ],
            [
             0.6,
             "#e6f5d0"
            ],
            [
             0.7,
             "#b8e186"
            ],
            [
             0.8,
             "#7fbc41"
            ],
            [
             0.9,
             "#4d9221"
            ],
            [
             1,
             "#276419"
            ]
           ],
           "sequential": [
            [
             0,
             "#0d0887"
            ],
            [
             0.1111111111111111,
             "#46039f"
            ],
            [
             0.2222222222222222,
             "#7201a8"
            ],
            [
             0.3333333333333333,
             "#9c179e"
            ],
            [
             0.4444444444444444,
             "#bd3786"
            ],
            [
             0.5555555555555556,
             "#d8576b"
            ],
            [
             0.6666666666666666,
             "#ed7953"
            ],
            [
             0.7777777777777778,
             "#fb9f3a"
            ],
            [
             0.8888888888888888,
             "#fdca26"
            ],
            [
             1,
             "#f0f921"
            ]
           ],
           "sequentialminus": [
            [
             0,
             "#0d0887"
            ],
            [
             0.1111111111111111,
             "#46039f"
            ],
            [
             0.2222222222222222,
             "#7201a8"
            ],
            [
             0.3333333333333333,
             "#9c179e"
            ],
            [
             0.4444444444444444,
             "#bd3786"
            ],
            [
             0.5555555555555556,
             "#d8576b"
            ],
            [
             0.6666666666666666,
             "#ed7953"
            ],
            [
             0.7777777777777778,
             "#fb9f3a"
            ],
            [
             0.8888888888888888,
             "#fdca26"
            ],
            [
             1,
             "#f0f921"
            ]
           ]
          },
          "colorway": [
           "#636efa",
           "#EF553B",
           "#00cc96",
           "#ab63fa",
           "#FFA15A",
           "#19d3f3",
           "#FF6692",
           "#B6E880",
           "#FF97FF",
           "#FECB52"
          ],
          "font": {
           "color": "#2a3f5f"
          },
          "geo": {
           "bgcolor": "white",
           "lakecolor": "white",
           "landcolor": "#E5ECF6",
           "showlakes": true,
           "showland": true,
           "subunitcolor": "white"
          },
          "hoverlabel": {
           "align": "left"
          },
          "hovermode": "closest",
          "mapbox": {
           "style": "light"
          },
          "paper_bgcolor": "white",
          "plot_bgcolor": "#E5ECF6",
          "polar": {
           "angularaxis": {
            "gridcolor": "white",
            "linecolor": "white",
            "ticks": ""
           },
           "bgcolor": "#E5ECF6",
           "radialaxis": {
            "gridcolor": "white",
            "linecolor": "white",
            "ticks": ""
           }
          },
          "scene": {
           "xaxis": {
            "backgroundcolor": "#E5ECF6",
            "gridcolor": "white",
            "gridwidth": 2,
            "linecolor": "white",
            "showbackground": true,
            "ticks": "",
            "zerolinecolor": "white"
           },
           "yaxis": {
            "backgroundcolor": "#E5ECF6",
            "gridcolor": "white",
            "gridwidth": 2,
            "linecolor": "white",
            "showbackground": true,
            "ticks": "",
            "zerolinecolor": "white"
           },
           "zaxis": {
            "backgroundcolor": "#E5ECF6",
            "gridcolor": "white",
            "gridwidth": 2,
            "linecolor": "white",
            "showbackground": true,
            "ticks": "",
            "zerolinecolor": "white"
           }
          },
          "shapedefaults": {
           "line": {
            "color": "#2a3f5f"
           }
          },
          "ternary": {
           "aaxis": {
            "gridcolor": "white",
            "linecolor": "white",
            "ticks": ""
           },
           "baxis": {
            "gridcolor": "white",
            "linecolor": "white",
            "ticks": ""
           },
           "bgcolor": "#E5ECF6",
           "caxis": {
            "gridcolor": "white",
            "linecolor": "white",
            "ticks": ""
           }
          },
          "title": {
           "x": 0.05
          },
          "xaxis": {
           "automargin": true,
           "gridcolor": "white",
           "linecolor": "white",
           "ticks": "",
           "title": {
            "standoff": 15
           },
           "zerolinecolor": "white",
           "zerolinewidth": 2
          },
          "yaxis": {
           "automargin": true,
           "gridcolor": "white",
           "linecolor": "white",
           "ticks": "",
           "title": {
            "standoff": 15
           },
           "zerolinecolor": "white",
           "zerolinewidth": 2
          }
         }
        },
        "title": {
         "text": "Activity Distribution (Grouped)"
        },
        "xaxis": {
         "anchor": "y",
         "categoryarray": [
          "Running",
          "Swimming",
          "Cycling"
         ],
         "categoryorder": "array",
         "domain": [
          0,
          1
         ],
         "title": {
          "text": "Activity"
         }
        },
        "yaxis": {
         "anchor": "x",
         "domain": [
          0,
          1
         ],
         "title": {
          "text": "Count"
         }
        }
       }
      },
      "text/html": [
       "<div>                            <div id=\"9135d785-d90c-4124-924b-5d319bee8e00\" class=\"plotly-graph-div\" style=\"height:525px; width:100%;\"></div>            <script type=\"text/javascript\">                require([\"plotly\"], function(Plotly) {                    window.PLOTLYENV=window.PLOTLYENV || {};                                    if (document.getElementById(\"9135d785-d90c-4124-924b-5d319bee8e00\")) {                    Plotly.newPlot(                        \"9135d785-d90c-4124-924b-5d319bee8e00\",                        [{\"alignmentgroup\":\"True\",\"bingroup\":\"x\",\"hovertemplate\":\"Activity Category=%{x}<br>count=%{y}<extra></extra>\",\"legendgroup\":\"Running\",\"marker\":{\"color\":\"#636efa\",\"pattern\":{\"shape\":\"\"}},\"name\":\"Running\",\"offsetgroup\":\"Running\",\"orientation\":\"v\",\"showlegend\":true,\"x\":[\"Running\",\"Running\",\"Running\",\"Running\",\"Running\",\"Running\",\"Running\",\"Running\",\"Running\",\"Running\",\"Running\",\"Running\",\"Running\",\"Running\",\"Running\",\"Running\",\"Running\",\"Running\",\"Running\",\"Running\",\"Running\",\"Running\",\"Running\",\"Running\",\"Running\",\"Running\",\"Running\",\"Running\",\"Running\",\"Running\",\"Running\",\"Running\",\"Running\",\"Running\",\"Running\",\"Running\",\"Running\",\"Running\",\"Running\",\"Running\",\"Running\",\"Running\",\"Running\",\"Running\",\"Running\",\"Running\",\"Running\",\"Running\",\"Running\",\"Running\",\"Running\",\"Running\",\"Running\",\"Running\",\"Running\",\"Running\",\"Running\",\"Running\",\"Running\",\"Running\",\"Running\",\"Running\",\"Running\",\"Running\",\"Running\",\"Running\",\"Running\",\"Running\",\"Running\",\"Running\",\"Running\",\"Running\",\"Running\",\"Running\",\"Running\",\"Running\",\"Running\",\"Running\",\"Running\",\"Running\",\"Running\",\"Running\",\"Running\",\"Running\",\"Running\",\"Running\"],\"xaxis\":\"x\",\"yaxis\":\"y\",\"type\":\"histogram\"},{\"alignmentgroup\":\"True\",\"bingroup\":\"x\",\"hovertemplate\":\"Activity Category=%{x}<br>count=%{y}<extra></extra>\",\"legendgroup\":\"Swimming\",\"marker\":{\"color\":\"#EF553B\",\"pattern\":{\"shape\":\"\"}},\"name\":\"Swimming\",\"offsetgroup\":\"Swimming\",\"orientation\":\"v\",\"showlegend\":true,\"x\":[\"Swimming\",\"Swimming\",\"Swimming\",\"Swimming\",\"Swimming\",\"Swimming\",\"Swimming\",\"Swimming\",\"Swimming\",\"Swimming\",\"Swimming\",\"Swimming\",\"Swimming\",\"Swimming\",\"Swimming\",\"Swimming\",\"Swimming\",\"Swimming\",\"Swimming\",\"Swimming\",\"Swimming\",\"Swimming\",\"Swimming\",\"Swimming\",\"Swimming\",\"Swimming\",\"Swimming\",\"Swimming\",\"Swimming\",\"Swimming\",\"Swimming\",\"Swimming\",\"Swimming\",\"Swimming\",\"Swimming\",\"Swimming\",\"Swimming\",\"Swimming\",\"Swimming\",\"Swimming\",\"Swimming\",\"Swimming\",\"Swimming\",\"Swimming\",\"Swimming\",\"Swimming\",\"Swimming\",\"Swimming\",\"Swimming\",\"Swimming\",\"Swimming\",\"Swimming\",\"Swimming\",\"Swimming\",\"Swimming\"],\"xaxis\":\"x\",\"yaxis\":\"y\",\"type\":\"histogram\"},{\"alignmentgroup\":\"True\",\"bingroup\":\"x\",\"hovertemplate\":\"Activity Category=%{x}<br>count=%{y}<extra></extra>\",\"legendgroup\":\"Cycling\",\"marker\":{\"color\":\"#00cc96\",\"pattern\":{\"shape\":\"\"}},\"name\":\"Cycling\",\"offsetgroup\":\"Cycling\",\"orientation\":\"v\",\"showlegend\":true,\"x\":[\"Cycling\",\"Cycling\",\"Cycling\",\"Cycling\",\"Cycling\",\"Cycling\",\"Cycling\",\"Cycling\",\"Cycling\",\"Cycling\",\"Cycling\",\"Cycling\",\"Cycling\",\"Cycling\",\"Cycling\",\"Cycling\",\"Cycling\",\"Cycling\",\"Cycling\",\"Cycling\",\"Cycling\",\"Cycling\",\"Cycling\",\"Cycling\",\"Cycling\",\"Cycling\",\"Cycling\",\"Cycling\",\"Cycling\",\"Cycling\",\"Cycling\",\"Cycling\",\"Cycling\",\"Cycling\",\"Cycling\",\"Cycling\",\"Cycling\",\"Cycling\",\"Cycling\",\"Cycling\",\"Cycling\",\"Cycling\"],\"xaxis\":\"x\",\"yaxis\":\"y\",\"type\":\"histogram\"}],                        {\"template\":{\"data\":{\"histogram2dcontour\":[{\"type\":\"histogram2dcontour\",\"colorbar\":{\"outlinewidth\":0,\"ticks\":\"\"},\"colorscale\":[[0.0,\"#0d0887\"],[0.1111111111111111,\"#46039f\"],[0.2222222222222222,\"#7201a8\"],[0.3333333333333333,\"#9c179e\"],[0.4444444444444444,\"#bd3786\"],[0.5555555555555556,\"#d8576b\"],[0.6666666666666666,\"#ed7953\"],[0.7777777777777778,\"#fb9f3a\"],[0.8888888888888888,\"#fdca26\"],[1.0,\"#f0f921\"]]}],\"choropleth\":[{\"type\":\"choropleth\",\"colorbar\":{\"outlinewidth\":0,\"ticks\":\"\"}}],\"histogram2d\":[{\"type\":\"histogram2d\",\"colorbar\":{\"outlinewidth\":0,\"ticks\":\"\"},\"colorscale\":[[0.0,\"#0d0887\"],[0.1111111111111111,\"#46039f\"],[0.2222222222222222,\"#7201a8\"],[0.3333333333333333,\"#9c179e\"],[0.4444444444444444,\"#bd3786\"],[0.5555555555555556,\"#d8576b\"],[0.6666666666666666,\"#ed7953\"],[0.7777777777777778,\"#fb9f3a\"],[0.8888888888888888,\"#fdca26\"],[1.0,\"#f0f921\"]]}],\"heatmap\":[{\"type\":\"heatmap\",\"colorbar\":{\"outlinewidth\":0,\"ticks\":\"\"},\"colorscale\":[[0.0,\"#0d0887\"],[0.1111111111111111,\"#46039f\"],[0.2222222222222222,\"#7201a8\"],[0.3333333333333333,\"#9c179e\"],[0.4444444444444444,\"#bd3786\"],[0.5555555555555556,\"#d8576b\"],[0.6666666666666666,\"#ed7953\"],[0.7777777777777778,\"#fb9f3a\"],[0.8888888888888888,\"#fdca26\"],[1.0,\"#f0f921\"]]}],\"heatmapgl\":[{\"type\":\"heatmapgl\",\"colorbar\":{\"outlinewidth\":0,\"ticks\":\"\"},\"colorscale\":[[0.0,\"#0d0887\"],[0.1111111111111111,\"#46039f\"],[0.2222222222222222,\"#7201a8\"],[0.3333333333333333,\"#9c179e\"],[0.4444444444444444,\"#bd3786\"],[0.5555555555555556,\"#d8576b\"],[0.6666666666666666,\"#ed7953\"],[0.7777777777777778,\"#fb9f3a\"],[0.8888888888888888,\"#fdca26\"],[1.0,\"#f0f921\"]]}],\"contourcarpet\":[{\"type\":\"contourcarpet\",\"colorbar\":{\"outlinewidth\":0,\"ticks\":\"\"}}],\"contour\":[{\"type\":\"contour\",\"colorbar\":{\"outlinewidth\":0,\"ticks\":\"\"},\"colorscale\":[[0.0,\"#0d0887\"],[0.1111111111111111,\"#46039f\"],[0.2222222222222222,\"#7201a8\"],[0.3333333333333333,\"#9c179e\"],[0.4444444444444444,\"#bd3786\"],[0.5555555555555556,\"#d8576b\"],[0.6666666666666666,\"#ed7953\"],[0.7777777777777778,\"#fb9f3a\"],[0.8888888888888888,\"#fdca26\"],[1.0,\"#f0f921\"]]}],\"surface\":[{\"type\":\"surface\",\"colorbar\":{\"outlinewidth\":0,\"ticks\":\"\"},\"colorscale\":[[0.0,\"#0d0887\"],[0.1111111111111111,\"#46039f\"],[0.2222222222222222,\"#7201a8\"],[0.3333333333333333,\"#9c179e\"],[0.4444444444444444,\"#bd3786\"],[0.5555555555555556,\"#d8576b\"],[0.6666666666666666,\"#ed7953\"],[0.7777777777777778,\"#fb9f3a\"],[0.8888888888888888,\"#fdca26\"],[1.0,\"#f0f921\"]]}],\"mesh3d\":[{\"type\":\"mesh3d\",\"colorbar\":{\"outlinewidth\":0,\"ticks\":\"\"}}],\"scatter\":[{\"fillpattern\":{\"fillmode\":\"overlay\",\"size\":10,\"solidity\":0.2},\"type\":\"scatter\"}],\"parcoords\":[{\"type\":\"parcoords\",\"line\":{\"colorbar\":{\"outlinewidth\":0,\"ticks\":\"\"}}}],\"scatterpolargl\":[{\"type\":\"scatterpolargl\",\"marker\":{\"colorbar\":{\"outlinewidth\":0,\"ticks\":\"\"}}}],\"bar\":[{\"error_x\":{\"color\":\"#2a3f5f\"},\"error_y\":{\"color\":\"#2a3f5f\"},\"marker\":{\"line\":{\"color\":\"#E5ECF6\",\"width\":0.5},\"pattern\":{\"fillmode\":\"overlay\",\"size\":10,\"solidity\":0.2}},\"type\":\"bar\"}],\"scattergeo\":[{\"type\":\"scattergeo\",\"marker\":{\"colorbar\":{\"outlinewidth\":0,\"ticks\":\"\"}}}],\"scatterpolar\":[{\"type\":\"scatterpolar\",\"marker\":{\"colorbar\":{\"outlinewidth\":0,\"ticks\":\"\"}}}],\"histogram\":[{\"marker\":{\"pattern\":{\"fillmode\":\"overlay\",\"size\":10,\"solidity\":0.2}},\"type\":\"histogram\"}],\"scattergl\":[{\"type\":\"scattergl\",\"marker\":{\"colorbar\":{\"outlinewidth\":0,\"ticks\":\"\"}}}],\"scatter3d\":[{\"type\":\"scatter3d\",\"line\":{\"colorbar\":{\"outlinewidth\":0,\"ticks\":\"\"}},\"marker\":{\"colorbar\":{\"outlinewidth\":0,\"ticks\":\"\"}}}],\"scattermapbox\":[{\"type\":\"scattermapbox\",\"marker\":{\"colorbar\":{\"outlinewidth\":0,\"ticks\":\"\"}}}],\"scatterternary\":[{\"type\":\"scatterternary\",\"marker\":{\"colorbar\":{\"outlinewidth\":0,\"ticks\":\"\"}}}],\"scattercarpet\":[{\"type\":\"scattercarpet\",\"marker\":{\"colorbar\":{\"outlinewidth\":0,\"ticks\":\"\"}}}],\"carpet\":[{\"aaxis\":{\"endlinecolor\":\"#2a3f5f\",\"gridcolor\":\"white\",\"linecolor\":\"white\",\"minorgridcolor\":\"white\",\"startlinecolor\":\"#2a3f5f\"},\"baxis\":{\"endlinecolor\":\"#2a3f5f\",\"gridcolor\":\"white\",\"linecolor\":\"white\",\"minorgridcolor\":\"white\",\"startlinecolor\":\"#2a3f5f\"},\"type\":\"carpet\"}],\"table\":[{\"cells\":{\"fill\":{\"color\":\"#EBF0F8\"},\"line\":{\"color\":\"white\"}},\"header\":{\"fill\":{\"color\":\"#C8D4E3\"},\"line\":{\"color\":\"white\"}},\"type\":\"table\"}],\"barpolar\":[{\"marker\":{\"line\":{\"color\":\"#E5ECF6\",\"width\":0.5},\"pattern\":{\"fillmode\":\"overlay\",\"size\":10,\"solidity\":0.2}},\"type\":\"barpolar\"}],\"pie\":[{\"automargin\":true,\"type\":\"pie\"}]},\"layout\":{\"autotypenumbers\":\"strict\",\"colorway\":[\"#636efa\",\"#EF553B\",\"#00cc96\",\"#ab63fa\",\"#FFA15A\",\"#19d3f3\",\"#FF6692\",\"#B6E880\",\"#FF97FF\",\"#FECB52\"],\"font\":{\"color\":\"#2a3f5f\"},\"hovermode\":\"closest\",\"hoverlabel\":{\"align\":\"left\"},\"paper_bgcolor\":\"white\",\"plot_bgcolor\":\"#E5ECF6\",\"polar\":{\"bgcolor\":\"#E5ECF6\",\"angularaxis\":{\"gridcolor\":\"white\",\"linecolor\":\"white\",\"ticks\":\"\"},\"radialaxis\":{\"gridcolor\":\"white\",\"linecolor\":\"white\",\"ticks\":\"\"}},\"ternary\":{\"bgcolor\":\"#E5ECF6\",\"aaxis\":{\"gridcolor\":\"white\",\"linecolor\":\"white\",\"ticks\":\"\"},\"baxis\":{\"gridcolor\":\"white\",\"linecolor\":\"white\",\"ticks\":\"\"},\"caxis\":{\"gridcolor\":\"white\",\"linecolor\":\"white\",\"ticks\":\"\"}},\"coloraxis\":{\"colorbar\":{\"outlinewidth\":0,\"ticks\":\"\"}},\"colorscale\":{\"sequential\":[[0.0,\"#0d0887\"],[0.1111111111111111,\"#46039f\"],[0.2222222222222222,\"#7201a8\"],[0.3333333333333333,\"#9c179e\"],[0.4444444444444444,\"#bd3786\"],[0.5555555555555556,\"#d8576b\"],[0.6666666666666666,\"#ed7953\"],[0.7777777777777778,\"#fb9f3a\"],[0.8888888888888888,\"#fdca26\"],[1.0,\"#f0f921\"]],\"sequentialminus\":[[0.0,\"#0d0887\"],[0.1111111111111111,\"#46039f\"],[0.2222222222222222,\"#7201a8\"],[0.3333333333333333,\"#9c179e\"],[0.4444444444444444,\"#bd3786\"],[0.5555555555555556,\"#d8576b\"],[0.6666666666666666,\"#ed7953\"],[0.7777777777777778,\"#fb9f3a\"],[0.8888888888888888,\"#fdca26\"],[1.0,\"#f0f921\"]],\"diverging\":[[0,\"#8e0152\"],[0.1,\"#c51b7d\"],[0.2,\"#de77ae\"],[0.3,\"#f1b6da\"],[0.4,\"#fde0ef\"],[0.5,\"#f7f7f7\"],[0.6,\"#e6f5d0\"],[0.7,\"#b8e186\"],[0.8,\"#7fbc41\"],[0.9,\"#4d9221\"],[1,\"#276419\"]]},\"xaxis\":{\"gridcolor\":\"white\",\"linecolor\":\"white\",\"ticks\":\"\",\"title\":{\"standoff\":15},\"zerolinecolor\":\"white\",\"automargin\":true,\"zerolinewidth\":2},\"yaxis\":{\"gridcolor\":\"white\",\"linecolor\":\"white\",\"ticks\":\"\",\"title\":{\"standoff\":15},\"zerolinecolor\":\"white\",\"automargin\":true,\"zerolinewidth\":2},\"scene\":{\"xaxis\":{\"backgroundcolor\":\"#E5ECF6\",\"gridcolor\":\"white\",\"linecolor\":\"white\",\"showbackground\":true,\"ticks\":\"\",\"zerolinecolor\":\"white\",\"gridwidth\":2},\"yaxis\":{\"backgroundcolor\":\"#E5ECF6\",\"gridcolor\":\"white\",\"linecolor\":\"white\",\"showbackground\":true,\"ticks\":\"\",\"zerolinecolor\":\"white\",\"gridwidth\":2},\"zaxis\":{\"backgroundcolor\":\"#E5ECF6\",\"gridcolor\":\"white\",\"linecolor\":\"white\",\"showbackground\":true,\"ticks\":\"\",\"zerolinecolor\":\"white\",\"gridwidth\":2}},\"shapedefaults\":{\"line\":{\"color\":\"#2a3f5f\"}},\"annotationdefaults\":{\"arrowcolor\":\"#2a3f5f\",\"arrowhead\":0,\"arrowwidth\":1},\"geo\":{\"bgcolor\":\"white\",\"landcolor\":\"#E5ECF6\",\"subunitcolor\":\"white\",\"showland\":true,\"showlakes\":true,\"lakecolor\":\"white\"},\"title\":{\"x\":0.05},\"mapbox\":{\"style\":\"light\"}}},\"xaxis\":{\"anchor\":\"y\",\"domain\":[0.0,1.0],\"title\":{\"text\":\"Activity\"},\"categoryorder\":\"array\",\"categoryarray\":[\"Running\",\"Swimming\",\"Cycling\"]},\"yaxis\":{\"anchor\":\"x\",\"domain\":[0.0,1.0],\"title\":{\"text\":\"Count\"}},\"legend\":{\"title\":{\"text\":\"Activity Category\"},\"tracegroupgap\":0},\"title\":{\"text\":\"Activity Distribution (Grouped)\"},\"barmode\":\"relative\",\"bargap\":0.2},                        {\"responsive\": true}                    ).then(function(){\n",
       "                            \n",
       "var gd = document.getElementById('9135d785-d90c-4124-924b-5d319bee8e00');\n",
       "var x = new MutationObserver(function (mutations, observer) {{\n",
       "        var display = window.getComputedStyle(gd).display;\n",
       "        if (!display || display === 'none') {{\n",
       "            console.log([gd, 'removed!']);\n",
       "            Plotly.purge(gd);\n",
       "            observer.disconnect();\n",
       "        }}\n",
       "}});\n",
       "\n",
       "// Listen for the removal of the full notebook cells\n",
       "var notebookContainer = gd.closest('#notebook-container');\n",
       "if (notebookContainer) {{\n",
       "    x.observe(notebookContainer, {childList: true});\n",
       "}}\n",
       "\n",
       "// Listen for the clearing of the current output cell\n",
       "var outputEl = gd.closest('.output');\n",
       "if (outputEl) {{\n",
       "    x.observe(outputEl, {childList: true});\n",
       "}}\n",
       "\n",
       "                        })                };                });            </script>        </div>"
      ]
     },
     "metadata": {},
     "output_type": "display_data"
    }
   ],
   "source": [
    "import plotly.express as px\n",
    "fig = px.histogram(df, x='Activity Category', color='Activity Category',\n",
    "                   title='Activity Distribution (Grouped)',\n",
    "                   category_orders={'Activity Category': df['Activity Category'].value_counts().index})\n",
    "fig.update_layout(bargap=0.2, xaxis_title='Activity', yaxis_title='Count')\n",
    "fig.show()"
   ]
  },
  {
   "cell_type": "markdown",
   "id": "6e86756f",
   "metadata": {},
   "source": [
    "### 📈 1. Heart Rate Trends"
   ]
  },
  {
   "cell_type": "code",
   "execution_count": 90,
   "id": "a5986b9c",
   "metadata": {},
   "outputs": [
    {
     "data": {
      "image/png": "[encoded data removed]",
      "text/plain": [
       "<Figure size 1400x600 with 1 Axes>"
      ]
     },
     "metadata": {},
     "output_type": "display_data"
    }
   ],
   "source": [
    "plt.figure(figsize=(14,6))\n",
    "sns.lineplot(data=df.sort_values('Date'), x='Date', y='Avg Heart Rate', hue='Activity Category')\n",
    "plt.title('Average Heart Rate Over Time')\n",
    "plt.ylabel('Beats Per Minute (BPM)')\n",
    "plt.xlabel('Date')\n",
    "plt.xticks(rotation=45)\n",
    "plt.legend(title='Activity', loc='upper right', bbox_to_anchor=(1.15, 1))\n",
    "plt.tight_layout()\n",
    "plt.grid(True)\n",
    "plt.show()"
   ]
  },
  {
   "cell_type": "markdown",
   "id": "1bdff826",
   "metadata": {},
   "source": [
    "### 📊 2. Weekly Summary by Category"
   ]
  },
  {
   "cell_type": "code",
   "execution_count": 98,
   "id": "b038ab21",
   "metadata": {},
   "outputs": [
    {
     "name": "stderr",
     "output_type": "stream",
     "text": [
      "/var/folders/qy/1th4gkcx0vlb__rw8vzpddlh0000gn/T/ipykernel_6473/4229586498.py:1: SettingWithCopyWarning:\n",
      "\n",
      "\n",
      "A value is trying to be set on a copy of a slice from a DataFrame.\n",
      "Try using .loc[row_indexer,col_indexer] = value instead\n",
      "\n",
      "See the caveats in the documentation: https://pandas.pydata.org/pandas-docs/stable/user_guide/indexing.html#returning-a-view-versus-a-copy\n",
      "\n"
     ]
    },
    {
     "data": {
      "application/vnd.plotly.v1+json": {
       "config": {
        "plotlyServerURL": "https://plot.ly"
       },
       "data": [
        {
         "hovertemplate": "Activity Category=Running<br>Week=%{x}<br>Distance (km)=%{y}<extra></extra>",
         "legendgroup": "Running",
         "line": {
          "color": "#636efa",
          "dash": "solid"
         },
         "marker": {
          "symbol": "circle"
         },
         "mode": "lines",
         "name": "Running",
         "orientation": "v",
         "showlegend": true,
         "type": "scatter",
         "x": [
          "2024-06-17T00:00:00",
          "2024-06-24T00:00:00",
          "2024-07-08T00:00:00",
          "2024-07-15T00:00:00",
          "2024-07-22T00:00:00",
          "2024-07-29T00:00:00",
          "2024-08-05T00:00:00",
          "2024-08-12T00:00:00",
          "2024-08-19T00:00:00",
          "2024-08-26T00:00:00",
          "2024-09-02T00:00:00",
          "2024-09-09T00:00:00",
          "2024-09-16T00:00:00",
          "2024-09-23T00:00:00",
          "2024-09-30T00:00:00",
          "2024-10-14T00:00:00",
          "2024-10-21T00:00:00",
          "2024-10-28T00:00:00",
          "2024-11-04T00:00:00",
          "2024-11-18T00:00:00",
          "2024-11-25T00:00:00",
          "2024-12-02T00:00:00",
          "2024-12-09T00:00:00",
          "2024-12-16T00:00:00",
          "2024-12-23T00:00:00",
          "2024-12-30T00:00:00",
          "2025-01-06T00:00:00",
          "2025-01-13T00:00:00",
          "2025-01-20T00:00:00",
          "2025-01-27T00:00:00",
          "2025-02-03T00:00:00",
          "2025-02-10T00:00:00",
          "2025-02-17T00:00:00",
          "2025-02-24T00:00:00",
          "2025-03-03T00:00:00",
          "2025-03-10T00:00:00",
          "2025-03-31T00:00:00",
          "2025-04-14T00:00:00",
          "2025-04-21T00:00:00",
          "2025-04-28T00:00:00",
          "2025-05-05T00:00:00",
          "2025-05-12T00:00:00",
          "2025-05-19T00:00:00"
         ],
         "xaxis": "x",
         "y": [
          2.47,
          4.05,
          7.66,
          10.23,
          22.88,
          9.2,
          7.77,
          18.96,
          15.879999999999999,
          11.56,
          4.52,
          23.27,
          7.96,
          14.61,
          8.02,
          5.3,
          26.22,
          5.52,
          5.05,
          2.86,
          4.81,
          9.85,
          8.51,
          12.09,
          17.09,
          19.64,
          15.11,
          14.33,
          20.57,
          22.81,
          22.61,
          25.58,
          10.95,
          22.68,
          10.29,
          29.05,
          2.54,
          2.62,
          23.11,
          34.78,
          7.41,
          24.25,
          5.48
         ],
         "yaxis": "y"
        },
        {
         "hovertemplate": "Activity Category=Swimming<br>Week=%{x}<br>Distance (km)=%{y}<extra></extra>",
         "legendgroup": "Swimming",
         "line": {
          "color": "#EF553B",
          "dash": "solid"
         },
         "marker": {
          "symbol": "circle"
         },
         "mode": "lines",
         "name": "Swimming",
         "orientation": "v",
         "showlegend": true,
         "type": "scatter",
         "x": [
          "2024-06-17T00:00:00",
          "2024-07-01T00:00:00",
          "2024-07-08T00:00:00",
          "2024-07-15T00:00:00",
          "2024-07-22T00:00:00",
          "2024-07-29T00:00:00",
          "2024-08-05T00:00:00",
          "2024-08-12T00:00:00",
          "2024-08-19T00:00:00",
          "2024-08-26T00:00:00",
          "2024-09-02T00:00:00",
          "2024-09-09T00:00:00",
          "2024-10-21T00:00:00",
          "2024-10-28T00:00:00",
          "2024-11-04T00:00:00",
          "2024-11-11T00:00:00",
          "2024-12-16T00:00:00",
          "2025-01-13T00:00:00",
          "2025-01-27T00:00:00",
          "2025-02-03T00:00:00",
          "2025-02-10T00:00:00",
          "2025-02-17T00:00:00",
          "2025-02-24T00:00:00",
          "2025-03-03T00:00:00",
          "2025-03-10T00:00:00",
          "2025-03-17T00:00:00",
          "2025-03-31T00:00:00",
          "2025-04-07T00:00:00",
          "2025-04-14T00:00:00",
          "2025-04-21T00:00:00",
          "2025-04-28T00:00:00",
          "2025-05-05T00:00:00",
          "2025-05-12T00:00:00"
         ],
         "xaxis": "x",
         "y": [
          0.359,
          1.7,
          2.6,
          3.9499999999999997,
          2.35,
          1.825,
          3.449,
          2.5999999999999996,
          1.8,
          3.166,
          1.435,
          1.35,
          1.85,
          2.375,
          0.925,
          2.55,
          1.125,
          1.6,
          1.65,
          2.55,
          2.4,
          1.575,
          1.55,
          3.075,
          2.65,
          2.4749999999999996,
          3.3,
          2.875,
          3.575,
          2,
          5.625,
          1.65,
          1.725
         ],
         "yaxis": "y"
        },
        {
         "hovertemplate": "Activity Category=Cycling<br>Week=%{x}<br>Distance (km)=%{y}<extra></extra>",
         "legendgroup": "Cycling",
         "line": {
          "color": "#00cc96",
          "dash": "solid"
         },
         "marker": {
          "symbol": "circle"
         },
         "mode": "lines",
         "name": "Cycling",
         "orientation": "v",
         "showlegend": true,
         "type": "scatter",
         "x": [
          "2024-07-01T00:00:00",
          "2024-07-08T00:00:00",
          "2024-07-15T00:00:00",
          "2024-07-22T00:00:00",
          "2024-07-29T00:00:00",
          "2024-08-12T00:00:00",
          "2024-09-09T00:00:00",
          "2024-09-16T00:00:00",
          "2024-09-30T00:00:00",
          "2024-11-25T00:00:00",
          "2025-03-03T00:00:00",
          "2025-03-17T00:00:00",
          "2025-03-24T00:00:00",
          "2025-03-31T00:00:00",
          "2025-04-07T00:00:00",
          "2025-04-14T00:00:00",
          "2025-04-21T00:00:00",
          "2025-04-28T00:00:00",
          "2025-05-05T00:00:00",
          "2025-05-12T00:00:00"
         ],
         "xaxis": "x",
         "y": [
          77.14,
          94.28,
          144.36,
          85.77000000000001,
          172.58999999999997,
          106.05,
          70.91,
          53.59,
          7.04,
          26.06,
          92.18,
          57.73,
          41.68,
          412.74,
          106.98,
          174.48000000000002,
          156.87,
          94.95,
          62.190000000000005,
          184.53
         ],
         "yaxis": "y"
        }
       ],
       "layout": {
        "legend": {
         "title": {
          "text": "Activity"
         },
         "tracegroupgap": 0
        },
        "template": {
         "data": {
          "bar": [
           {
            "error_x": {
             "color": "#2a3f5f"
            },
            "error_y": {
             "color": "#2a3f5f"
            },
            "marker": {
             "line": {
              "color": "#E5ECF6",
              "width": 0.5
             },
             "pattern": {
              "fillmode": "overlay",
              "size": 10,
              "solidity": 0.2
             }
            },
            "type": "bar"
           }
          ],
          "barpolar": [
           {
            "marker": {
             "line": {
              "color": "#E5ECF6",
              "width": 0.5
             },
             "pattern": {
              "fillmode": "overlay",
              "size": 10,
              "solidity": 0.2
             }
            },
            "type": "barpolar"
           }
          ],
          "carpet": [
           {
            "aaxis": {
             "endlinecolor": "#2a3f5f",
             "gridcolor": "white",
             "linecolor": "white",
             "minorgridcolor": "white",
             "startlinecolor": "#2a3f5f"
            },
            "baxis": {
             "endlinecolor": "#2a3f5f",
             "gridcolor": "white",
             "linecolor": "white",
             "minorgridcolor": "white",
             "startlinecolor": "#2a3f5f"
            },
            "type": "carpet"
           }
          ],
          "choropleth": [
           {
            "colorbar": {
             "outlinewidth": 0,
             "ticks": ""
            },
            "type": "choropleth"
           }
          ],
          "contour": [
           {
            "colorbar": {
             "outlinewidth": 0,
             "ticks": ""
            },
            "colorscale": [
             [
              0,
              "#0d0887"
             ],
             [
              0.1111111111111111,
              "#46039f"
             ],
             [
              0.2222222222222222,
              "#7201a8"
             ],
             [
              0.3333333333333333,
              "#9c179e"
             ],
             [
              0.4444444444444444,
              "#bd3786"
             ],
             [
              0.5555555555555556,
              "#d8576b"
             ],
             [
              0.6666666666666666,
              "#ed7953"
             ],
             [
              0.7777777777777778,
              "#fb9f3a"
             ],
             [
              0.8888888888888888,
              "#fdca26"
             ],
             [
              1,
              "#f0f921"
             ]
            ],
            "type": "contour"
           }
          ],
          "contourcarpet": [
           {
            "colorbar": {
             "outlinewidth": 0,
             "ticks": ""
            },
            "type": "contourcarpet"
           }
          ],
          "heatmap": [
           {
            "colorbar": {
             "outlinewidth": 0,
             "ticks": ""
            },
            "colorscale": [
             [
              0,
              "#0d0887"
             ],
             [
              0.1111111111111111,
              "#46039f"
             ],
             [
              0.2222222222222222,
              "#7201a8"
             ],
             [
              0.3333333333333333,
              "#9c179e"
             ],
             [
              0.4444444444444444,
              "#bd3786"
             ],
             [
              0.5555555555555556,
              "#d8576b"
             ],
             [
              0.6666666666666666,
              "#ed7953"
             ],
             [
              0.7777777777777778,
              "#fb9f3a"
             ],
             [
              0.8888888888888888,
              "#fdca26"
             ],
             [
              1,
              "#f0f921"
             ]
            ],
            "type": "heatmap"
           }
          ],
          "heatmapgl": [
           {
            "colorbar": {
             "outlinewidth": 0,
             "ticks": ""
            },
            "colorscale": [
             [
              0,
              "#0d0887"
             ],
             [
              0.1111111111111111,
              "#46039f"
             ],
             [
              0.2222222222222222,
              "#7201a8"
             ],
             [
              0.3333333333333333,
              "#9c179e"
             ],
             [
              0.4444444444444444,
              "#bd3786"
             ],
             [
              0.5555555555555556,
              "#d8576b"
             ],
             [
              0.6666666666666666,
              "#ed7953"
             ],
             [
              0.7777777777777778,
              "#fb9f3a"
             ],
             [
              0.8888888888888888,
              "#fdca26"
             ],
             [
              1,
              "#f0f921"
             ]
            ],
            "type": "heatmapgl"
           }
          ],
          "histogram": [
           {
            "marker": {
             "pattern": {
              "fillmode": "overlay",
              "size": 10,
              "solidity": 0.2
             }
            },
            "type": "histogram"
           }
          ],
          "histogram2d": [
           {
            "colorbar": {
             "outlinewidth": 0,
             "ticks": ""
            },
            "colorscale": [
             [
              0,
              "#0d0887"
             ],
             [
              0.1111111111111111,
              "#46039f"
             ],
             [
              0.2222222222222222,
              "#7201a8"
             ],
             [
              0.3333333333333333,
              "#9c179e"
             ],
             [
              0.4444444444444444,
              "#bd3786"
             ],
             [
              0.5555555555555556,
              "#d8576b"
             ],
             [
              0.6666666666666666,
              "#ed7953"
             ],
             [
              0.7777777777777778,
              "#fb9f3a"
             ],
             [
              0.8888888888888888,
              "#fdca26"
             ],
             [
              1,
              "#f0f921"
             ]
            ],
            "type": "histogram2d"
           }
          ],
          "histogram2dcontour": [
           {
            "colorbar": {
             "outlinewidth": 0,
             "ticks": ""
            },
            "colorscale": [
             [
              0,
              "#0d0887"
             ],
             [
              0.1111111111111111,
              "#46039f"
             ],
             [
              0.2222222222222222,
              "#7201a8"
             ],
             [
              0.3333333333333333,
              "#9c179e"
             ],
             [
              0.4444444444444444,
              "#bd3786"
             ],
             [
              0.5555555555555556,
              "#d8576b"
             ],
             [
              0.6666666666666666,
              "#ed7953"
             ],
             [
              0.7777777777777778,
              "#fb9f3a"
             ],
             [
              0.8888888888888888,
              "#fdca26"
             ],
             [
              1,
              "#f0f921"
             ]
            ],
            "type": "histogram2dcontour"
           }
          ],
          "mesh3d": [
           {
            "colorbar": {
             "outlinewidth": 0,
             "ticks": ""
            },
            "type": "mesh3d"
           }
          ],
          "parcoords": [
           {
            "line": {
             "colorbar": {
              "outlinewidth": 0,
              "ticks": ""
             }
            },
            "type": "parcoords"
           }
          ],
          "pie": [
           {
            "automargin": true,
            "type": "pie"
           }
          ],
          "scatter": [
           {
            "fillpattern": {
             "fillmode": "overlay",
             "size": 10,
             "solidity": 0.2
            },
            "type": "scatter"
           }
          ],
          "scatter3d": [
           {
            "line": {
             "colorbar": {
              "outlinewidth": 0,
              "ticks": ""
             }
            },
            "marker": {
             "colorbar": {
              "outlinewidth": 0,
              "ticks": ""
             }
            },
            "type": "scatter3d"
           }
          ],
          "scattercarpet": [
           {
            "marker": {
             "colorbar": {
              "outlinewidth": 0,
              "ticks": ""
             }
            },
            "type": "scattercarpet"
           }
          ],
          "scattergeo": [
           {
            "marker": {
             "colorbar": {
              "outlinewidth": 0,
              "ticks": ""
             }
            },
            "type": "scattergeo"
           }
          ],
          "scattergl": [
           {
            "marker": {
             "colorbar": {
              "outlinewidth": 0,
              "ticks": ""
             }
            },
            "type": "scattergl"
           }
          ],
          "scattermapbox": [
           {
            "marker": {
             "colorbar": {
              "outlinewidth": 0,
              "ticks": ""
             }
            },
            "type": "scattermapbox"
           }
          ],
          "scatterpolar": [
           {
            "marker": {
             "colorbar": {
              "outlinewidth": 0,
              "ticks": ""
             }
            },
            "type": "scatterpolar"
           }
          ],
          "scatterpolargl": [
           {
            "marker": {
             "colorbar": {
              "outlinewidth": 0,
              "ticks": ""
             }
            },
            "type": "scatterpolargl"
           }
          ],
          "scatterternary": [
           {
            "marker": {
             "colorbar": {
              "outlinewidth": 0,
              "ticks": ""
             }
            },
            "type": "scatterternary"
           }
          ],
          "surface": [
           {
            "colorbar": {
             "outlinewidth": 0,
             "ticks": ""
            },
            "colorscale": [
             [
              0,
              "#0d0887"
             ],
             [
              0.1111111111111111,
              "#46039f"
             ],
             [
              0.2222222222222222,
              "#7201a8"
             ],
             [
              0.3333333333333333,
              "#9c179e"
             ],
             [
              0.4444444444444444,
              "#bd3786"
             ],
             [
              0.5555555555555556,
              "#d8576b"
             ],
             [
              0.6666666666666666,
              "#ed7953"
             ],
             [
              0.7777777777777778,
              "#fb9f3a"
             ],
             [
              0.8888888888888888,
              "#fdca26"
             ],
             [
              1,
              "#f0f921"
             ]
            ],
            "type": "surface"
           }
          ],
          "table": [
           {
            "cells": {
             "fill": {
              "color": "#EBF0F8"
             },
             "line": {
              "color": "white"
             }
            },
            "header": {
             "fill": {
              "color": "#C8D4E3"
             },
             "line": {
              "color": "white"
             }
            },
            "type": "table"
           }
          ]
         },
         "layout": {
          "annotationdefaults": {
           "arrowcolor": "#2a3f5f",
           "arrowhead": 0,
           "arrowwidth": 1
          },
          "autotypenumbers": "strict",
          "coloraxis": {
           "colorbar": {
            "outlinewidth": 0,
            "ticks": ""
           }
          },
          "colorscale": {
           "diverging": [
            [
             0,
             "#8e0152"
            ],
            [
             0.1,
             "#c51b7d"
            ],
            [
             0.2,
             "#de77ae"
            ],
            [
             0.3,
             "#f1b6da"
            ],
            [
             0.4,
             "#fde0ef"
            ],
            [
             0.5,
             "#f7f7f7"
            ],
            [
             0.6,
             "#e6f5d0"
            ],
            [
             0.7,
             "#b8e186"
            ],
            [
             0.8,
             "#7fbc41"
            ],
            [
             0.9,
             "#4d9221"
            ],
            [
             1,
             "#276419"
            ]
           ],
           "sequential": [
            [
             0,
             "#0d0887"
            ],
            [
             0.1111111111111111,
             "#46039f"
            ],
            [
             0.2222222222222222,
             "#7201a8"
            ],
            [
             0.3333333333333333,
             "#9c179e"
            ],
            [
             0.4444444444444444,
             "#bd3786"
            ],
            [
             0.5555555555555556,
             "#d8576b"
            ],
            [
             0.6666666666666666,
             "#ed7953"
            ],
            [
             0.7777777777777778,
             "#fb9f3a"
            ],
            [
             0.8888888888888888,
             "#fdca26"
            ],
            [
             1,
             "#f0f921"
            ]
           ],
           "sequentialminus": [
            [
             0,
             "#0d0887"
            ],
            [
             0.1111111111111111,
             "#46039f"
            ],
            [
             0.2222222222222222,
             "#7201a8"
            ],
            [
             0.3333333333333333,
             "#9c179e"
            ],
            [
             0.4444444444444444,
             "#bd3786"
            ],
            [
             0.5555555555555556,
             "#d8576b"
            ],
            [
             0.6666666666666666,
             "#ed7953"
            ],
            [
             0.7777777777777778,
             "#fb9f3a"
            ],
            [
             0.8888888888888888,
             "#fdca26"
            ],
            [
             1,
             "#f0f921"
            ]
           ]
          },
          "colorway": [
           "#636efa",
           "#EF553B",
           "#00cc96",
           "#ab63fa",
           "#FFA15A",
           "#19d3f3",
           "#FF6692",
           "#B6E880",
           "#FF97FF",
           "#FECB52"
          ],
          "font": {
           "color": "#2a3f5f"
          },
          "geo": {
           "bgcolor": "white",
           "lakecolor": "white",
           "landcolor": "#E5ECF6",
           "showlakes": true,
           "showland": true,
           "subunitcolor": "white"
          },
          "hoverlabel": {
           "align": "left"
          },
          "hovermode": "closest",
          "mapbox": {
           "style": "light"
          },
          "paper_bgcolor": "white",
          "plot_bgcolor": "#E5ECF6",
          "polar": {
           "angularaxis": {
            "gridcolor": "white",
            "linecolor": "white",
            "ticks": ""
           },
           "bgcolor": "#E5ECF6",
           "radialaxis": {
            "gridcolor": "white",
            "linecolor": "white",
            "ticks": ""
           }
          },
          "scene": {
           "xaxis": {
            "backgroundcolor": "#E5ECF6",
            "gridcolor": "white",
            "gridwidth": 2,
            "linecolor": "white",
            "showbackground": true,
            "ticks": "",
            "zerolinecolor": "white"
           },
           "yaxis": {
            "backgroundcolor": "#E5ECF6",
            "gridcolor": "white",
            "gridwidth": 2,
            "linecolor": "white",
            "showbackground": true,
            "ticks": "",
            "zerolinecolor": "white"
           },
           "zaxis": {
            "backgroundcolor": "#E5ECF6",
            "gridcolor": "white",
            "gridwidth": 2,
            "linecolor": "white",
            "showbackground": true,
            "ticks": "",
            "zerolinecolor": "white"
           }
          },
          "shapedefaults": {
           "line": {
            "color": "#2a3f5f"
           }
          },
          "ternary": {
           "aaxis": {
            "gridcolor": "white",
            "linecolor": "white",
            "ticks": ""
           },
           "baxis": {
            "gridcolor": "white",
            "linecolor": "white",
            "ticks": ""
           },
           "bgcolor": "#E5ECF6",
           "caxis": {
            "gridcolor": "white",
            "linecolor": "white",
            "ticks": ""
           }
          },
          "title": {
           "x": 0.05
          },
          "xaxis": {
           "automargin": true,
           "gridcolor": "white",
           "linecolor": "white",
           "ticks": "",
           "title": {
            "standoff": 15
           },
           "zerolinecolor": "white",
           "zerolinewidth": 2
          },
          "yaxis": {
           "automargin": true,
           "gridcolor": "white",
           "linecolor": "white",
           "ticks": "",
           "title": {
            "standoff": 15
           },
           "zerolinecolor": "white",
           "zerolinewidth": 2
          }
         }
        },
        "title": {
         "text": "Weekly Distance per Sport"
        },
        "xaxis": {
         "anchor": "y",
         "domain": [
          0,
          1
         ],
         "title": {
          "text": "Week"
         }
        },
        "yaxis": {
         "anchor": "x",
         "domain": [
          0,
          1
         ],
         "title": {
          "text": "Distance (km)"
         }
        }
       }
      },
      "text/html": [
       "<div>                            <div id=\"34f4a533-e5f5-44a5-a94b-d4f5854bfb98\" class=\"plotly-graph-div\" style=\"height:525px; width:100%;\"></div>            <script type=\"text/javascript\">                require([\"plotly\"], function(Plotly) {                    window.PLOTLYENV=window.PLOTLYENV || {};                                    if (document.getElementById(\"34f4a533-e5f5-44a5-a94b-d4f5854bfb98\")) {                    Plotly.newPlot(                        \"34f4a533-e5f5-44a5-a94b-d4f5854bfb98\",                        [{\"hovertemplate\":\"Activity Category=Running<br>Week=%{x}<br>Distance (km)=%{y}<extra></extra>\",\"legendgroup\":\"Running\",\"line\":{\"color\":\"#636efa\",\"dash\":\"solid\"},\"marker\":{\"symbol\":\"circle\"},\"mode\":\"lines\",\"name\":\"Running\",\"orientation\":\"v\",\"showlegend\":true,\"x\":[\"2024-06-17T00:00:00\",\"2024-06-24T00:00:00\",\"2024-07-08T00:00:00\",\"2024-07-15T00:00:00\",\"2024-07-22T00:00:00\",\"2024-07-29T00:00:00\",\"2024-08-05T00:00:00\",\"2024-08-12T00:00:00\",\"2024-08-19T00:00:00\",\"2024-08-26T00:00:00\",\"2024-09-02T00:00:00\",\"2024-09-09T00:00:00\",\"2024-09-16T00:00:00\",\"2024-09-23T00:00:00\",\"2024-09-30T00:00:00\",\"2024-10-14T00:00:00\",\"2024-10-21T00:00:00\",\"2024-10-28T00:00:00\",\"2024-11-04T00:00:00\",\"2024-11-18T00:00:00\",\"2024-11-25T00:00:00\",\"2024-12-02T00:00:00\",\"2024-12-09T00:00:00\",\"2024-12-16T00:00:00\",\"2024-12-23T00:00:00\",\"2024-12-30T00:00:00\",\"2025-01-06T00:00:00\",\"2025-01-13T00:00:00\",\"2025-01-20T00:00:00\",\"2025-01-27T00:00:00\",\"2025-02-03T00:00:00\",\"2025-02-10T00:00:00\",\"2025-02-17T00:00:00\",\"2025-02-24T00:00:00\",\"2025-03-03T00:00:00\",\"2025-03-10T00:00:00\",\"2025-03-31T00:00:00\",\"2025-04-14T00:00:00\",\"2025-04-21T00:00:00\",\"2025-04-28T00:00:00\",\"2025-05-05T00:00:00\",\"2025-05-12T00:00:00\",\"2025-05-19T00:00:00\"],\"xaxis\":\"x\",\"y\":[2.47,4.05,7.66,10.23,22.88,9.2,7.77,18.96,15.879999999999999,11.56,4.52,23.27,7.96,14.61,8.02,5.3,26.22,5.52,5.05,2.86,4.81,9.85,8.51,12.09,17.09,19.64,15.11,14.33,20.57,22.81,22.61,25.58,10.95,22.68,10.29,29.05,2.54,2.62,23.11,34.78,7.41,24.25,5.48],\"yaxis\":\"y\",\"type\":\"scatter\"},{\"hovertemplate\":\"Activity Category=Swimming<br>Week=%{x}<br>Distance (km)=%{y}<extra></extra>\",\"legendgroup\":\"Swimming\",\"line\":{\"color\":\"#EF553B\",\"dash\":\"solid\"},\"marker\":{\"symbol\":\"circle\"},\"mode\":\"lines\",\"name\":\"Swimming\",\"orientation\":\"v\",\"showlegend\":true,\"x\":[\"2024-06-17T00:00:00\",\"2024-07-01T00:00:00\",\"2024-07-08T00:00:00\",\"2024-07-15T00:00:00\",\"2024-07-22T00:00:00\",\"2024-07-29T00:00:00\",\"2024-08-05T00:00:00\",\"2024-08-12T00:00:00\",\"2024-08-19T00:00:00\",\"2024-08-26T00:00:00\",\"2024-09-02T00:00:00\",\"2024-09-09T00:00:00\",\"2024-10-21T00:00:00\",\"2024-10-28T00:00:00\",\"2024-11-04T00:00:00\",\"2024-11-11T00:00:00\",\"2024-12-16T00:00:00\",\"2025-01-13T00:00:00\",\"2025-01-27T00:00:00\",\"2025-02-03T00:00:00\",\"2025-02-10T00:00:00\",\"2025-02-17T00:00:00\",\"2025-02-24T00:00:00\",\"2025-03-03T00:00:00\",\"2025-03-10T00:00:00\",\"2025-03-17T00:00:00\",\"2025-03-31T00:00:00\",\"2025-04-07T00:00:00\",\"2025-04-14T00:00:00\",\"2025-04-21T00:00:00\",\"2025-04-28T00:00:00\",\"2025-05-05T00:00:00\",\"2025-05-12T00:00:00\"],\"xaxis\":\"x\",\"y\":[0.359,1.7,2.6,3.9499999999999997,2.35,1.825,3.449,2.5999999999999996,1.8,3.166,1.435,1.35,1.85,2.375,0.925,2.55,1.125,1.6,1.65,2.55,2.4,1.575,1.55,3.075,2.65,2.4749999999999996,3.3,2.875,3.575,2.0,5.625,1.65,1.725],\"yaxis\":\"y\",\"type\":\"scatter\"},{\"hovertemplate\":\"Activity Category=Cycling<br>Week=%{x}<br>Distance (km)=%{y}<extra></extra>\",\"legendgroup\":\"Cycling\",\"line\":{\"color\":\"#00cc96\",\"dash\":\"solid\"},\"marker\":{\"symbol\":\"circle\"},\"mode\":\"lines\",\"name\":\"Cycling\",\"orientation\":\"v\",\"showlegend\":true,\"x\":[\"2024-07-01T00:00:00\",\"2024-07-08T00:00:00\",\"2024-07-15T00:00:00\",\"2024-07-22T00:00:00\",\"2024-07-29T00:00:00\",\"2024-08-12T00:00:00\",\"2024-09-09T00:00:00\",\"2024-09-16T00:00:00\",\"2024-09-30T00:00:00\",\"2024-11-25T00:00:00\",\"2025-03-03T00:00:00\",\"2025-03-17T00:00:00\",\"2025-03-24T00:00:00\",\"2025-03-31T00:00:00\",\"2025-04-07T00:00:00\",\"2025-04-14T00:00:00\",\"2025-04-21T00:00:00\",\"2025-04-28T00:00:00\",\"2025-05-05T00:00:00\",\"2025-05-12T00:00:00\"],\"xaxis\":\"x\",\"y\":[77.14,94.28,144.36,85.77000000000001,172.58999999999997,106.05,70.91,53.59,7.04,26.06,92.18,57.73,41.68,412.74,106.98,174.48000000000002,156.87,94.95,62.190000000000005,184.53],\"yaxis\":\"y\",\"type\":\"scatter\"}],                        {\"template\":{\"data\":{\"histogram2dcontour\":[{\"type\":\"histogram2dcontour\",\"colorbar\":{\"outlinewidth\":0,\"ticks\":\"\"},\"colorscale\":[[0.0,\"#0d0887\"],[0.1111111111111111,\"#46039f\"],[0.2222222222222222,\"#7201a8\"],[0.3333333333333333,\"#9c179e\"],[0.4444444444444444,\"#bd3786\"],[0.5555555555555556,\"#d8576b\"],[0.6666666666666666,\"#ed7953\"],[0.7777777777777778,\"#fb9f3a\"],[0.8888888888888888,\"#fdca26\"],[1.0,\"#f0f921\"]]}],\"choropleth\":[{\"type\":\"choropleth\",\"colorbar\":{\"outlinewidth\":0,\"ticks\":\"\"}}],\"histogram2d\":[{\"type\":\"histogram2d\",\"colorbar\":{\"outlinewidth\":0,\"ticks\":\"\"},\"colorscale\":[[0.0,\"#0d0887\"],[0.1111111111111111,\"#46039f\"],[0.2222222222222222,\"#7201a8\"],[0.3333333333333333,\"#9c179e\"],[0.4444444444444444,\"#bd3786\"],[0.5555555555555556,\"#d8576b\"],[0.6666666666666666,\"#ed7953\"],[0.7777777777777778,\"#fb9f3a\"],[0.8888888888888888,\"#fdca26\"],[1.0,\"#f0f921\"]]}],\"heatmap\":[{\"type\":\"heatmap\",\"colorbar\":{\"outlinewidth\":0,\"ticks\":\"\"},\"colorscale\":[[0.0,\"#0d0887\"],[0.1111111111111111,\"#46039f\"],[0.2222222222222222,\"#7201a8\"],[0.3333333333333333,\"#9c179e\"],[0.4444444444444444,\"#bd3786\"],[0.5555555555555556,\"#d8576b\"],[0.6666666666666666,\"#ed7953\"],[0.7777777777777778,\"#fb9f3a\"],[0.8888888888888888,\"#fdca26\"],[1.0,\"#f0f921\"]]}],\"heatmapgl\":[{\"type\":\"heatmapgl\",\"colorbar\":{\"outlinewidth\":0,\"ticks\":\"\"},\"colorscale\":[[0.0,\"#0d0887\"],[0.1111111111111111,\"#46039f\"],[0.2222222222222222,\"#7201a8\"],[0.3333333333333333,\"#9c179e\"],[0.4444444444444444,\"#bd3786\"],[0.5555555555555556,\"#d8576b\"],[0.6666666666666666,\"#ed7953\"],[0.7777777777777778,\"#fb9f3a\"],[0.8888888888888888,\"#fdca26\"],[1.0,\"#f0f921\"]]}],\"contourcarpet\":[{\"type\":\"contourcarpet\",\"colorbar\":{\"outlinewidth\":0,\"ticks\":\"\"}}],\"contour\":[{\"type\":\"contour\",\"colorbar\":{\"outlinewidth\":0,\"ticks\":\"\"},\"colorscale\":[[0.0,\"#0d0887\"],[0.1111111111111111,\"#46039f\"],[0.2222222222222222,\"#7201a8\"],[0.3333333333333333,\"#9c179e\"],[0.4444444444444444,\"#bd3786\"],[0.5555555555555556,\"#d8576b\"],[0.6666666666666666,\"#ed7953\"],[0.7777777777777778,\"#fb9f3a\"],[0.8888888888888888,\"#fdca26\"],[1.0,\"#f0f921\"]]}],\"surface\":[{\"type\":\"surface\",\"colorbar\":{\"outlinewidth\":0,\"ticks\":\"\"},\"colorscale\":[[0.0,\"#0d0887\"],[0.1111111111111111,\"#46039f\"],[0.2222222222222222,\"#7201a8\"],[0.3333333333333333,\"#9c179e\"],[0.4444444444444444,\"#bd3786\"],[0.5555555555555556,\"#d8576b\"],[0.6666666666666666,\"#ed7953\"],[0.7777777777777778,\"#fb9f3a\"],[0.8888888888888888,\"#fdca26\"],[1.0,\"#f0f921\"]]}],\"mesh3d\":[{\"type\":\"mesh3d\",\"colorbar\":{\"outlinewidth\":0,\"ticks\":\"\"}}],\"scatter\":[{\"fillpattern\":{\"fillmode\":\"overlay\",\"size\":10,\"solidity\":0.2},\"type\":\"scatter\"}],\"parcoords\":[{\"type\":\"parcoords\",\"line\":{\"colorbar\":{\"outlinewidth\":0,\"ticks\":\"\"}}}],\"scatterpolargl\":[{\"type\":\"scatterpolargl\",\"marker\":{\"colorbar\":{\"outlinewidth\":0,\"ticks\":\"\"}}}],\"bar\":[{\"error_x\":{\"color\":\"#2a3f5f\"},\"error_y\":{\"color\":\"#2a3f5f\"},\"marker\":{\"line\":{\"color\":\"#E5ECF6\",\"width\":0.5},\"pattern\":{\"fillmode\":\"overlay\",\"size\":10,\"solidity\":0.2}},\"type\":\"bar\"}],\"scattergeo\":[{\"type\":\"scattergeo\",\"marker\":{\"colorbar\":{\"outlinewidth\":0,\"ticks\":\"\"}}}],\"scatterpolar\":[{\"type\":\"scatterpolar\",\"marker\":{\"colorbar\":{\"outlinewidth\":0,\"ticks\":\"\"}}}],\"histogram\":[{\"marker\":{\"pattern\":{\"fillmode\":\"overlay\",\"size\":10,\"solidity\":0.2}},\"type\":\"histogram\"}],\"scattergl\":[{\"type\":\"scattergl\",\"marker\":{\"colorbar\":{\"outlinewidth\":0,\"ticks\":\"\"}}}],\"scatter3d\":[{\"type\":\"scatter3d\",\"line\":{\"colorbar\":{\"outlinewidth\":0,\"ticks\":\"\"}},\"marker\":{\"colorbar\":{\"outlinewidth\":0,\"ticks\":\"\"}}}],\"scattermapbox\":[{\"type\":\"scattermapbox\",\"marker\":{\"colorbar\":{\"outlinewidth\":0,\"ticks\":\"\"}}}],\"scatterternary\":[{\"type\":\"scatterternary\",\"marker\":{\"colorbar\":{\"outlinewidth\":0,\"ticks\":\"\"}}}],\"scattercarpet\":[{\"type\":\"scattercarpet\",\"marker\":{\"colorbar\":{\"outlinewidth\":0,\"ticks\":\"\"}}}],\"carpet\":[{\"aaxis\":{\"endlinecolor\":\"#2a3f5f\",\"gridcolor\":\"white\",\"linecolor\":\"white\",\"minorgridcolor\":\"white\",\"startlinecolor\":\"#2a3f5f\"},\"baxis\":{\"endlinecolor\":\"#2a3f5f\",\"gridcolor\":\"white\",\"linecolor\":\"white\",\"minorgridcolor\":\"white\",\"startlinecolor\":\"#2a3f5f\"},\"type\":\"carpet\"}],\"table\":[{\"cells\":{\"fill\":{\"color\":\"#EBF0F8\"},\"line\":{\"color\":\"white\"}},\"header\":{\"fill\":{\"color\":\"#C8D4E3\"},\"line\":{\"color\":\"white\"}},\"type\":\"table\"}],\"barpolar\":[{\"marker\":{\"line\":{\"color\":\"#E5ECF6\",\"width\":0.5},\"pattern\":{\"fillmode\":\"overlay\",\"size\":10,\"solidity\":0.2}},\"type\":\"barpolar\"}],\"pie\":[{\"automargin\":true,\"type\":\"pie\"}]},\"layout\":{\"autotypenumbers\":\"strict\",\"colorway\":[\"#636efa\",\"#EF553B\",\"#00cc96\",\"#ab63fa\",\"#FFA15A\",\"#19d3f3\",\"#FF6692\",\"#B6E880\",\"#FF97FF\",\"#FECB52\"],\"font\":{\"color\":\"#2a3f5f\"},\"hovermode\":\"closest\",\"hoverlabel\":{\"align\":\"left\"},\"paper_bgcolor\":\"white\",\"plot_bgcolor\":\"#E5ECF6\",\"polar\":{\"bgcolor\":\"#E5ECF6\",\"angularaxis\":{\"gridcolor\":\"white\",\"linecolor\":\"white\",\"ticks\":\"\"},\"radialaxis\":{\"gridcolor\":\"white\",\"linecolor\":\"white\",\"ticks\":\"\"}},\"ternary\":{\"bgcolor\":\"#E5ECF6\",\"aaxis\":{\"gridcolor\":\"white\",\"linecolor\":\"white\",\"ticks\":\"\"},\"baxis\":{\"gridcolor\":\"white\",\"linecolor\":\"white\",\"ticks\":\"\"},\"caxis\":{\"gridcolor\":\"white\",\"linecolor\":\"white\",\"ticks\":\"\"}},\"coloraxis\":{\"colorbar\":{\"outlinewidth\":0,\"ticks\":\"\"}},\"colorscale\":{\"sequential\":[[0.0,\"#0d0887\"],[0.1111111111111111,\"#46039f\"],[0.2222222222222222,\"#7201a8\"],[0.3333333333333333,\"#9c179e\"],[0.4444444444444444,\"#bd3786\"],[0.5555555555555556,\"#d8576b\"],[0.6666666666666666,\"#ed7953\"],[0.7777777777777778,\"#fb9f3a\"],[0.8888888888888888,\"#fdca26\"],[1.0,\"#f0f921\"]],\"sequentialminus\":[[0.0,\"#0d0887\"],[0.1111111111111111,\"#46039f\"],[0.2222222222222222,\"#7201a8\"],[0.3333333333333333,\"#9c179e\"],[0.4444444444444444,\"#bd3786\"],[0.5555555555555556,\"#d8576b\"],[0.6666666666666666,\"#ed7953\"],[0.7777777777777778,\"#fb9f3a\"],[0.8888888888888888,\"#fdca26\"],[1.0,\"#f0f921\"]],\"diverging\":[[0,\"#8e0152\"],[0.1,\"#c51b7d\"],[0.2,\"#de77ae\"],[0.3,\"#f1b6da\"],[0.4,\"#fde0ef\"],[0.5,\"#f7f7f7\"],[0.6,\"#e6f5d0\"],[0.7,\"#b8e186\"],[0.8,\"#7fbc41\"],[0.9,\"#4d9221\"],[1,\"#276419\"]]},\"xaxis\":{\"gridcolor\":\"white\",\"linecolor\":\"white\",\"ticks\":\"\",\"title\":{\"standoff\":15},\"zerolinecolor\":\"white\",\"automargin\":true,\"zerolinewidth\":2},\"yaxis\":{\"gridcolor\":\"white\",\"linecolor\":\"white\",\"ticks\":\"\",\"title\":{\"standoff\":15},\"zerolinecolor\":\"white\",\"automargin\":true,\"zerolinewidth\":2},\"scene\":{\"xaxis\":{\"backgroundcolor\":\"#E5ECF6\",\"gridcolor\":\"white\",\"linecolor\":\"white\",\"showbackground\":true,\"ticks\":\"\",\"zerolinecolor\":\"white\",\"gridwidth\":2},\"yaxis\":{\"backgroundcolor\":\"#E5ECF6\",\"gridcolor\":\"white\",\"linecolor\":\"white\",\"showbackground\":true,\"ticks\":\"\",\"zerolinecolor\":\"white\",\"gridwidth\":2},\"zaxis\":{\"backgroundcolor\":\"#E5ECF6\",\"gridcolor\":\"white\",\"linecolor\":\"white\",\"showbackground\":true,\"ticks\":\"\",\"zerolinecolor\":\"white\",\"gridwidth\":2}},\"shapedefaults\":{\"line\":{\"color\":\"#2a3f5f\"}},\"annotationdefaults\":{\"arrowcolor\":\"#2a3f5f\",\"arrowhead\":0,\"arrowwidth\":1},\"geo\":{\"bgcolor\":\"white\",\"landcolor\":\"#E5ECF6\",\"subunitcolor\":\"white\",\"showland\":true,\"showlakes\":true,\"lakecolor\":\"white\"},\"title\":{\"x\":0.05},\"mapbox\":{\"style\":\"light\"}}},\"xaxis\":{\"anchor\":\"y\",\"domain\":[0.0,1.0],\"title\":{\"text\":\"Week\"}},\"yaxis\":{\"anchor\":\"x\",\"domain\":[0.0,1.0],\"title\":{\"text\":\"Distance (km)\"}},\"legend\":{\"title\":{\"text\":\"Activity\"},\"tracegroupgap\":0},\"title\":{\"text\":\"Weekly Distance per Sport\"}},                        {\"responsive\": true}                    ).then(function(){\n",
       "                            \n",
       "var gd = document.getElementById('34f4a533-e5f5-44a5-a94b-d4f5854bfb98');\n",
       "var x = new MutationObserver(function (mutations, observer) {{\n",
       "        var display = window.getComputedStyle(gd).display;\n",
       "        if (!display || display === 'none') {{\n",
       "            console.log([gd, 'removed!']);\n",
       "            Plotly.purge(gd);\n",
       "            observer.disconnect();\n",
       "        }}\n",
       "}});\n",
       "\n",
       "// Listen for the removal of the full notebook cells\n",
       "var notebookContainer = gd.closest('#notebook-container');\n",
       "if (notebookContainer) {{\n",
       "    x.observe(notebookContainer, {childList: true});\n",
       "}}\n",
       "\n",
       "// Listen for the clearing of the current output cell\n",
       "var outputEl = gd.closest('.output');\n",
       "if (outputEl) {{\n",
       "    x.observe(outputEl, {childList: true});\n",
       "}}\n",
       "\n",
       "                        })                };                });            </script>        </div>"
      ]
     },
     "metadata": {},
     "output_type": "display_data"
    }
   ],
   "source": [
    "df['Week'] = df['Date'].dt.to_period('W').apply(lambda r: r.start_time)\n",
    "\n",
    "weekly_summary = df.groupby(['Week', 'Activity Category']).agg({\n",
    "    'Distance (km)': 'sum',\n",
    "    'Calories': 'sum',\n",
    "    'Avg Heart Rate': 'mean',\n",
    "    'Aerobic TE': 'mean'\n",
    "}).reset_index()\n",
    "\n",
    "# Example: plot weekly distance per category\n",
    "fig = px.line(weekly_summary, x='Week', y='Distance (km)', color='Activity Category',\n",
    "              title='Weekly Distance per Sport')\n",
    "fig.update_layout(xaxis_title='Week', yaxis_title='Distance (km)', legend_title='Activity')\n",
    "fig.show()"
   ]
  },
  {
   "cell_type": "markdown",
   "id": "404484a0",
   "metadata": {},
   "source": [
    "### 📍 Case Observation: Mallorca Triathlon Camp (Week of March 31, 2025)\n",
    "\n",
    "In the week starting **March 31, 2025**, I attended a triathlon training camp in Mallorca. This week included intensive daily cycling sessions across various terrains. \n",
    "\n",
    "As shown in the graph, there is a significant spike in cycling distance, totaling approximately **412 kilometers** — a sharp peak that stands out clearly in comparison to the surrounding weeks.\n",
    "\n",
    "This kind of sudden load increase is a great example of how specific training blocks (like camps) can impact training data, and why identifying these patterns is important when analyzing training stress and potential overtraining risks."
   ]
  },
  {
   "cell_type": "code",
   "execution_count": 99,
   "id": "d647bdeb",
   "metadata": {},
   "outputs": [
    {
     "data": {
      "text/html": [
       "<div>\n",
       "<style scoped>\n",
       "    .dataframe tbody tr th:only-of-type {\n",
       "        vertical-align: middle;\n",
       "    }\n",
       "\n",
       "    .dataframe tbody tr th {\n",
       "        vertical-align: top;\n",
       "    }\n",
       "\n",
       "    .dataframe thead th {\n",
       "        text-align: right;\n",
       "    }\n",
       "</style>\n",
       "<table border=\"1\" class=\"dataframe\">\n",
       "  <thead>\n",
       "    <tr style=\"text-align: right;\">\n",
       "      <th></th>\n",
       "      <th>Activity Type</th>\n",
       "      <th>Date</th>\n",
       "      <th>Favoriet</th>\n",
       "      <th>Titel</th>\n",
       "      <th>Distance (km)</th>\n",
       "      <th>Calories</th>\n",
       "      <th>Duration</th>\n",
       "      <th>Avg Heart Rate</th>\n",
       "      <th>Max Heart Rate</th>\n",
       "      <th>Aerobic TE</th>\n",
       "      <th>...</th>\n",
       "      <th>Stress vooraf</th>\n",
       "      <th>Stress achteraf</th>\n",
       "      <th>Gemiddelde stress</th>\n",
       "      <th>Max stress</th>\n",
       "      <th>Moving Time</th>\n",
       "      <th>Elapsed Time</th>\n",
       "      <th>Min Altitude</th>\n",
       "      <th>Max Altitude</th>\n",
       "      <th>Activity Category</th>\n",
       "      <th>Week</th>\n",
       "    </tr>\n",
       "  </thead>\n",
       "  <tbody>\n",
       "    <tr>\n",
       "      <th>0</th>\n",
       "      <td>Hardlopen</td>\n",
       "      <td>2025-05-19 09:50:28</td>\n",
       "      <td>False</td>\n",
       "      <td>Amsterdam Hardlopen</td>\n",
       "      <td>5.48</td>\n",
       "      <td>281</td>\n",
       "      <td>00:28:01</td>\n",
       "      <td>151.0</td>\n",
       "      <td>169.0</td>\n",
       "      <td>3.2</td>\n",
       "      <td>...</td>\n",
       "      <td>--</td>\n",
       "      <td>--</td>\n",
       "      <td>--</td>\n",
       "      <td>--</td>\n",
       "      <td>00:27:52</td>\n",
       "      <td>00:34:55</td>\n",
       "      <td>1</td>\n",
       "      <td>10</td>\n",
       "      <td>Running</td>\n",
       "      <td>2025-05-19</td>\n",
       "    </tr>\n",
       "    <tr>\n",
       "      <th>1</th>\n",
       "      <td>Hardlopen</td>\n",
       "      <td>2025-05-18 20:03:44</td>\n",
       "      <td>False</td>\n",
       "      <td>Amsterdam Hardlopen</td>\n",
       "      <td>5.25</td>\n",
       "      <td>280</td>\n",
       "      <td>00:30:28</td>\n",
       "      <td>141.0</td>\n",
       "      <td>151.0</td>\n",
       "      <td>3.0</td>\n",
       "      <td>...</td>\n",
       "      <td>--</td>\n",
       "      <td>--</td>\n",
       "      <td>--</td>\n",
       "      <td>--</td>\n",
       "      <td>00:30:24</td>\n",
       "      <td>00:30:28</td>\n",
       "      <td>-2</td>\n",
       "      <td>7</td>\n",
       "      <td>Running</td>\n",
       "      <td>2025-05-12</td>\n",
       "    </tr>\n",
       "    <tr>\n",
       "      <th>2</th>\n",
       "      <td>Wegwielrennen</td>\n",
       "      <td>2025-05-18 09:22:31</td>\n",
       "      <td>False</td>\n",
       "      <td>Renkum Wegwielrennen</td>\n",
       "      <td>120.19</td>\n",
       "      <td>1812</td>\n",
       "      <td>04:16:05</td>\n",
       "      <td>151.0</td>\n",
       "      <td>181.0</td>\n",
       "      <td>5.0</td>\n",
       "      <td>...</td>\n",
       "      <td>--</td>\n",
       "      <td>--</td>\n",
       "      <td>--</td>\n",
       "      <td>--</td>\n",
       "      <td>04:15:16</td>\n",
       "      <td>05:04:08</td>\n",
       "      <td>4</td>\n",
       "      <td>108</td>\n",
       "      <td>Cycling</td>\n",
       "      <td>2025-05-12</td>\n",
       "    </tr>\n",
       "    <tr>\n",
       "      <th>3</th>\n",
       "      <td>Hardlopen</td>\n",
       "      <td>2025-05-16 10:52:12</td>\n",
       "      <td>False</td>\n",
       "      <td>Amsterdam Hardlopen</td>\n",
       "      <td>8.83</td>\n",
       "      <td>457</td>\n",
       "      <td>00:47:10</td>\n",
       "      <td>145.0</td>\n",
       "      <td>167.0</td>\n",
       "      <td>3.8</td>\n",
       "      <td>...</td>\n",
       "      <td>--</td>\n",
       "      <td>--</td>\n",
       "      <td>--</td>\n",
       "      <td>--</td>\n",
       "      <td>00:46:55</td>\n",
       "      <td>00:56:41</td>\n",
       "      <td>-2</td>\n",
       "      <td>10</td>\n",
       "      <td>Running</td>\n",
       "      <td>2025-05-12</td>\n",
       "    </tr>\n",
       "    <tr>\n",
       "      <th>4</th>\n",
       "      <td>Wegwielrennen</td>\n",
       "      <td>2025-05-15 18:46:39</td>\n",
       "      <td>False</td>\n",
       "      <td>Diemen Wegwielrennen</td>\n",
       "      <td>64.34</td>\n",
       "      <td>944</td>\n",
       "      <td>02:21:15</td>\n",
       "      <td>149.0</td>\n",
       "      <td>180.0</td>\n",
       "      <td>5.0</td>\n",
       "      <td>...</td>\n",
       "      <td>--</td>\n",
       "      <td>--</td>\n",
       "      <td>--</td>\n",
       "      <td>--</td>\n",
       "      <td>02:20:50</td>\n",
       "      <td>02:27:12</td>\n",
       "      <td>-5</td>\n",
       "      <td>11</td>\n",
       "      <td>Cycling</td>\n",
       "      <td>2025-05-12</td>\n",
       "    </tr>\n",
       "  </tbody>\n",
       "</table>\n",
       "<p>5 rows × 54 columns</p>\n",
       "</div>"
      ],
      "text/plain": [
       "   Activity Type                Date  Favoriet                 Titel  \\\n",
       "0      Hardlopen 2025-05-19 09:50:28     False   Amsterdam Hardlopen   \n",
       "1      Hardlopen 2025-05-18 20:03:44     False   Amsterdam Hardlopen   \n",
       "2  Wegwielrennen 2025-05-18 09:22:31     False  Renkum Wegwielrennen   \n",
       "3      Hardlopen 2025-05-16 10:52:12     False   Amsterdam Hardlopen   \n",
       "4  Wegwielrennen 2025-05-15 18:46:39     False  Diemen Wegwielrennen   \n",
       "\n",
       "   Distance (km)  Calories  Duration  Avg Heart Rate  Max Heart Rate  \\\n",
       "0           5.48       281  00:28:01           151.0           169.0   \n",
       "1           5.25       280  00:30:28           141.0           151.0   \n",
       "2         120.19      1812  04:16:05           151.0           181.0   \n",
       "3           8.83       457  00:47:10           145.0           167.0   \n",
       "4          64.34       944  02:21:15           149.0           180.0   \n",
       "\n",
       "   Aerobic TE  ... Stress vooraf Stress achteraf Gemiddelde stress Max stress  \\\n",
       "0         3.2  ...            --              --                --         --   \n",
       "1         3.0  ...            --              --                --         --   \n",
       "2         5.0  ...            --              --                --         --   \n",
       "3         3.8  ...            --              --                --         --   \n",
       "4         5.0  ...            --              --                --         --   \n",
       "\n",
       "  Moving Time Elapsed Time Min Altitude Max Altitude Activity Category  \\\n",
       "0    00:27:52     00:34:55            1           10           Running   \n",
       "1    00:30:24     00:30:28           -2            7           Running   \n",
       "2    04:15:16     05:04:08            4          108           Cycling   \n",
       "3    00:46:55     00:56:41           -2           10           Running   \n",
       "4    02:20:50     02:27:12           -5           11           Cycling   \n",
       "\n",
       "        Week  \n",
       "0 2025-05-19  \n",
       "1 2025-05-12  \n",
       "2 2025-05-12  \n",
       "3 2025-05-12  \n",
       "4 2025-05-12  \n",
       "\n",
       "[5 rows x 54 columns]"
      ]
     },
     "execution_count": 99,
     "metadata": {},
     "output_type": "execute_result"
    }
   ],
   "source": [
    "df.head()"
   ]
  },
  {
   "cell_type": "markdown",
   "id": "7ac58142",
   "metadata": {},
   "source": [
    "### 📦 3. Feature Engineering for Modeling\n",
    "\n",
    "We’ll aggregate key training indicators by week and activity type to observe trends and prepare for modeling:\n",
    "- Weekly distance per sport\n",
    "- Average heart rate\n",
    "- Aerobic training effect"
   ]
  },
  {
   "cell_type": "code",
   "execution_count": 110,
   "id": "58971d02",
   "metadata": {},
   "outputs": [
    {
     "data": {
      "text/html": [
       "<div>\n",
       "<style scoped>\n",
       "    .dataframe tbody tr th:only-of-type {\n",
       "        vertical-align: middle;\n",
       "    }\n",
       "\n",
       "    .dataframe tbody tr th {\n",
       "        vertical-align: top;\n",
       "    }\n",
       "\n",
       "    .dataframe thead th {\n",
       "        text-align: right;\n",
       "    }\n",
       "</style>\n",
       "<table border=\"1\" class=\"dataframe\">\n",
       "  <thead>\n",
       "    <tr style=\"text-align: right;\">\n",
       "      <th></th>\n",
       "      <th>Week</th>\n",
       "      <th>Cycling</th>\n",
       "      <th>Running</th>\n",
       "      <th>Swimming</th>\n",
       "    </tr>\n",
       "  </thead>\n",
       "  <tbody>\n",
       "    <tr>\n",
       "      <th>0</th>\n",
       "      <td>2024-06-17</td>\n",
       "      <td>0.00</td>\n",
       "      <td>2.47</td>\n",
       "      <td>0.359</td>\n",
       "    </tr>\n",
       "    <tr>\n",
       "      <th>1</th>\n",
       "      <td>2024-06-24</td>\n",
       "      <td>0.00</td>\n",
       "      <td>4.05</td>\n",
       "      <td>0.000</td>\n",
       "    </tr>\n",
       "    <tr>\n",
       "      <th>2</th>\n",
       "      <td>2024-07-01</td>\n",
       "      <td>77.14</td>\n",
       "      <td>0.00</td>\n",
       "      <td>1.700</td>\n",
       "    </tr>\n",
       "    <tr>\n",
       "      <th>3</th>\n",
       "      <td>2024-07-08</td>\n",
       "      <td>94.28</td>\n",
       "      <td>7.66</td>\n",
       "      <td>2.600</td>\n",
       "    </tr>\n",
       "    <tr>\n",
       "      <th>4</th>\n",
       "      <td>2024-07-15</td>\n",
       "      <td>144.36</td>\n",
       "      <td>10.23</td>\n",
       "      <td>3.950</td>\n",
       "    </tr>\n",
       "  </tbody>\n",
       "</table>\n",
       "</div>"
      ],
      "text/plain": [
       "        Week  Cycling  Running  Swimming\n",
       "0 2024-06-17     0.00     2.47     0.359\n",
       "1 2024-06-24     0.00     4.05     0.000\n",
       "2 2024-07-01    77.14     0.00     1.700\n",
       "3 2024-07-08    94.28     7.66     2.600\n",
       "4 2024-07-15   144.36    10.23     3.950"
      ]
     },
     "execution_count": 110,
     "metadata": {},
     "output_type": "execute_result"
    }
   ],
   "source": [
    "# Pivot to make each activity type a column\n",
    "weekly_pivot = weekly_summary.pivot(index='Week', columns='Activity Category', values='Distance (km)').fillna(0)\n",
    "weekly_pivot.columns.name = None\n",
    "weekly_pivot.reset_index(inplace=True)\n",
    "\n",
    "# Preview result\n",
    "weekly_pivot.head()"
   ]
  },
  {
   "cell_type": "code",
   "execution_count": 111,
   "id": "3c748669",
   "metadata": {},
   "outputs": [
    {
     "data": {
      "text/html": [
       "<div>\n",
       "<style scoped>\n",
       "    .dataframe tbody tr th:only-of-type {\n",
       "        vertical-align: middle;\n",
       "    }\n",
       "\n",
       "    .dataframe tbody tr th {\n",
       "        vertical-align: top;\n",
       "    }\n",
       "\n",
       "    .dataframe thead th {\n",
       "        text-align: right;\n",
       "    }\n",
       "</style>\n",
       "<table border=\"1\" class=\"dataframe\">\n",
       "  <thead>\n",
       "    <tr style=\"text-align: right;\">\n",
       "      <th></th>\n",
       "      <th>Week</th>\n",
       "      <th>Total Distance (km)</th>\n",
       "      <th>Load_3w</th>\n",
       "      <th>Load_7w</th>\n",
       "      <th>ACWR</th>\n",
       "      <th>Risk_Flag</th>\n",
       "    </tr>\n",
       "  </thead>\n",
       "  <tbody>\n",
       "    <tr>\n",
       "      <th>43</th>\n",
       "      <td>2025-04-21</td>\n",
       "      <td>181.980</td>\n",
       "      <td>472.510</td>\n",
       "      <td>146.382143</td>\n",
       "      <td>3.227921</td>\n",
       "      <td>1</td>\n",
       "    </tr>\n",
       "    <tr>\n",
       "      <th>44</th>\n",
       "      <td>2025-04-28</td>\n",
       "      <td>135.355</td>\n",
       "      <td>498.010</td>\n",
       "      <td>161.190000</td>\n",
       "      <td>3.089584</td>\n",
       "      <td>1</td>\n",
       "    </tr>\n",
       "    <tr>\n",
       "      <th>45</th>\n",
       "      <td>2025-05-05</td>\n",
       "      <td>71.250</td>\n",
       "      <td>388.585</td>\n",
       "      <td>162.767857</td>\n",
       "      <td>2.387357</td>\n",
       "      <td>1</td>\n",
       "    </tr>\n",
       "    <tr>\n",
       "      <th>46</th>\n",
       "      <td>2025-05-12</td>\n",
       "      <td>210.505</td>\n",
       "      <td>417.110</td>\n",
       "      <td>186.885714</td>\n",
       "      <td>2.231899</td>\n",
       "      <td>1</td>\n",
       "    </tr>\n",
       "    <tr>\n",
       "      <th>47</th>\n",
       "      <td>2025-05-19</td>\n",
       "      <td>5.480</td>\n",
       "      <td>287.235</td>\n",
       "      <td>127.871429</td>\n",
       "      <td>2.246280</td>\n",
       "      <td>1</td>\n",
       "    </tr>\n",
       "  </tbody>\n",
       "</table>\n",
       "</div>"
      ],
      "text/plain": [
       "         Week  Total Distance (km)  Load_3w     Load_7w      ACWR  Risk_Flag\n",
       "43 2025-04-21              181.980  472.510  146.382143  3.227921          1\n",
       "44 2025-04-28              135.355  498.010  161.190000  3.089584          1\n",
       "45 2025-05-05               71.250  388.585  162.767857  2.387357          1\n",
       "46 2025-05-12              210.505  417.110  186.885714  2.231899          1\n",
       "47 2025-05-19                5.480  287.235  127.871429  2.246280          1"
      ]
     },
     "execution_count": 111,
     "metadata": {},
     "output_type": "execute_result"
    }
   ],
   "source": [
    "# Sort by week\n",
    "weekly_pivot = weekly_pivot.sort_values('Week')\n",
    "\n",
    "# Focus on total training load (you can also do per sport separately)\n",
    "weekly_pivot['Total Distance (km)'] = weekly_pivot[['Running', 'Cycling', 'Swimming']].sum(axis=1)\n",
    "\n",
    "# Calculate rolling training load metrics\n",
    "weekly_pivot['Load_3w'] = weekly_pivot['Total Distance (km)'].rolling(window=3, min_periods=1).sum()\n",
    "weekly_pivot['Load_7w'] = weekly_pivot['Total Distance (km)'].rolling(window=7, min_periods=1).mean()\n",
    "\n",
    "# Calculate Acute:Chronic Workload Ratio (ACWR)\n",
    "weekly_pivot['ACWR'] = weekly_pivot['Load_3w'] / weekly_pivot['Load_7w']\n",
    "\n",
    "# Optional: Create a basic risk label\n",
    "weekly_pivot['Risk_Flag'] = weekly_pivot['ACWR'].apply(lambda x: 1 if x > 1.5 else 0)\n",
    "\n",
    "# View result\n",
    "weekly_pivot[['Week', 'Total Distance (km)', 'Load_3w', 'Load_7w', 'ACWR', 'Risk_Flag']].tail()"
   ]
  },
  {
   "cell_type": "markdown",
   "id": "70863d91",
   "metadata": {},
   "source": [
    "Load_3w: sum of distance over last 3 weeks = \"acute load\"\n",
    "\n",
    "Load_7w: average load over last 7 weeks = \"fitness\"\n",
    "\n",
    "ACWR: if >1.5 → possible overload (body not ready for the spike)\n",
    "\n",
    "Risk_Flag: 1 = risky week, 0 = stable"
   ]
  },
  {
   "cell_type": "code",
   "execution_count": 113,
   "id": "94019780",
   "metadata": {},
   "outputs": [
    {
     "data": {
      "text/html": [
       "<div>\n",
       "<style scoped>\n",
       "    .dataframe tbody tr th:only-of-type {\n",
       "        vertical-align: middle;\n",
       "    }\n",
       "\n",
       "    .dataframe tbody tr th {\n",
       "        vertical-align: top;\n",
       "    }\n",
       "\n",
       "    .dataframe thead th {\n",
       "        text-align: right;\n",
       "    }\n",
       "</style>\n",
       "<table border=\"1\" class=\"dataframe\">\n",
       "  <thead>\n",
       "    <tr style=\"text-align: right;\">\n",
       "      <th></th>\n",
       "      <th>Week</th>\n",
       "      <th>Cycling</th>\n",
       "      <th>Running</th>\n",
       "      <th>Swimming</th>\n",
       "      <th>Total Distance (km)</th>\n",
       "      <th>Load_3w</th>\n",
       "      <th>Load_7w</th>\n",
       "      <th>ACWR</th>\n",
       "      <th>Risk_Flag</th>\n",
       "    </tr>\n",
       "  </thead>\n",
       "  <tbody>\n",
       "    <tr>\n",
       "      <th>47</th>\n",
       "      <td>2025-05-19</td>\n",
       "      <td>0.00</td>\n",
       "      <td>5.48</td>\n",
       "      <td>0.000</td>\n",
       "      <td>5.480</td>\n",
       "      <td>287.235</td>\n",
       "      <td>127.871429</td>\n",
       "      <td>2.246280</td>\n",
       "      <td>1</td>\n",
       "    </tr>\n",
       "    <tr>\n",
       "      <th>46</th>\n",
       "      <td>2025-05-12</td>\n",
       "      <td>184.53</td>\n",
       "      <td>24.25</td>\n",
       "      <td>1.725</td>\n",
       "      <td>210.505</td>\n",
       "      <td>417.110</td>\n",
       "      <td>186.885714</td>\n",
       "      <td>2.231899</td>\n",
       "      <td>1</td>\n",
       "    </tr>\n",
       "    <tr>\n",
       "      <th>45</th>\n",
       "      <td>2025-05-05</td>\n",
       "      <td>62.19</td>\n",
       "      <td>7.41</td>\n",
       "      <td>1.650</td>\n",
       "      <td>71.250</td>\n",
       "      <td>388.585</td>\n",
       "      <td>162.767857</td>\n",
       "      <td>2.387357</td>\n",
       "      <td>1</td>\n",
       "    </tr>\n",
       "    <tr>\n",
       "      <th>44</th>\n",
       "      <td>2025-04-28</td>\n",
       "      <td>94.95</td>\n",
       "      <td>34.78</td>\n",
       "      <td>5.625</td>\n",
       "      <td>135.355</td>\n",
       "      <td>498.010</td>\n",
       "      <td>161.190000</td>\n",
       "      <td>3.089584</td>\n",
       "      <td>1</td>\n",
       "    </tr>\n",
       "    <tr>\n",
       "      <th>43</th>\n",
       "      <td>2025-04-21</td>\n",
       "      <td>156.87</td>\n",
       "      <td>23.11</td>\n",
       "      <td>2.000</td>\n",
       "      <td>181.980</td>\n",
       "      <td>472.510</td>\n",
       "      <td>146.382143</td>\n",
       "      <td>3.227921</td>\n",
       "      <td>1</td>\n",
       "    </tr>\n",
       "    <tr>\n",
       "      <th>42</th>\n",
       "      <td>2025-04-14</td>\n",
       "      <td>174.48</td>\n",
       "      <td>2.62</td>\n",
       "      <td>3.575</td>\n",
       "      <td>180.675</td>\n",
       "      <td>709.110</td>\n",
       "      <td>135.462857</td>\n",
       "      <td>5.234719</td>\n",
       "      <td>1</td>\n",
       "    </tr>\n",
       "    <tr>\n",
       "      <th>41</th>\n",
       "      <td>2025-04-07</td>\n",
       "      <td>106.98</td>\n",
       "      <td>0.00</td>\n",
       "      <td>2.875</td>\n",
       "      <td>109.855</td>\n",
       "      <td>570.115</td>\n",
       "      <td>113.113571</td>\n",
       "      <td>5.040200</td>\n",
       "      <td>1</td>\n",
       "    </tr>\n",
       "    <tr>\n",
       "      <th>40</th>\n",
       "      <td>2025-03-31</td>\n",
       "      <td>412.74</td>\n",
       "      <td>2.54</td>\n",
       "      <td>3.300</td>\n",
       "      <td>418.580</td>\n",
       "      <td>520.465</td>\n",
       "      <td>99.209286</td>\n",
       "      <td>5.246132</td>\n",
       "      <td>1</td>\n",
       "    </tr>\n",
       "    <tr>\n",
       "      <th>39</th>\n",
       "      <td>2025-03-24</td>\n",
       "      <td>41.68</td>\n",
       "      <td>0.00</td>\n",
       "      <td>0.000</td>\n",
       "      <td>41.680</td>\n",
       "      <td>133.585</td>\n",
       "      <td>43.409286</td>\n",
       "      <td>3.077337</td>\n",
       "      <td>1</td>\n",
       "    </tr>\n",
       "    <tr>\n",
       "      <th>38</th>\n",
       "      <td>2025-03-17</td>\n",
       "      <td>57.73</td>\n",
       "      <td>0.00</td>\n",
       "      <td>2.475</td>\n",
       "      <td>60.205</td>\n",
       "      <td>197.450</td>\n",
       "      <td>41.049286</td>\n",
       "      <td>4.810072</td>\n",
       "      <td>1</td>\n",
       "    </tr>\n",
       "    <tr>\n",
       "      <th>37</th>\n",
       "      <td>2025-03-10</td>\n",
       "      <td>0.00</td>\n",
       "      <td>29.05</td>\n",
       "      <td>2.650</td>\n",
       "      <td>31.700</td>\n",
       "      <td>161.475</td>\n",
       "      <td>35.942857</td>\n",
       "      <td>4.492548</td>\n",
       "      <td>1</td>\n",
       "    </tr>\n",
       "    <tr>\n",
       "      <th>36</th>\n",
       "      <td>2025-03-03</td>\n",
       "      <td>92.18</td>\n",
       "      <td>10.29</td>\n",
       "      <td>3.075</td>\n",
       "      <td>105.545</td>\n",
       "      <td>142.300</td>\n",
       "      <td>34.352857</td>\n",
       "      <td>4.142305</td>\n",
       "      <td>1</td>\n",
       "    </tr>\n",
       "    <tr>\n",
       "      <th>35</th>\n",
       "      <td>2025-02-24</td>\n",
       "      <td>0.00</td>\n",
       "      <td>22.68</td>\n",
       "      <td>1.550</td>\n",
       "      <td>24.230</td>\n",
       "      <td>64.735</td>\n",
       "      <td>21.550714</td>\n",
       "      <td>3.003845</td>\n",
       "      <td>1</td>\n",
       "    </tr>\n",
       "    <tr>\n",
       "      <th>34</th>\n",
       "      <td>2025-02-17</td>\n",
       "      <td>0.00</td>\n",
       "      <td>10.95</td>\n",
       "      <td>1.575</td>\n",
       "      <td>12.525</td>\n",
       "      <td>65.665</td>\n",
       "      <td>20.247857</td>\n",
       "      <td>3.243059</td>\n",
       "      <td>1</td>\n",
       "    </tr>\n",
       "    <tr>\n",
       "      <th>33</th>\n",
       "      <td>2025-02-10</td>\n",
       "      <td>0.00</td>\n",
       "      <td>25.58</td>\n",
       "      <td>2.400</td>\n",
       "      <td>27.980</td>\n",
       "      <td>77.600</td>\n",
       "      <td>21.264286</td>\n",
       "      <td>3.649311</td>\n",
       "      <td>1</td>\n",
       "    </tr>\n",
       "    <tr>\n",
       "      <th>32</th>\n",
       "      <td>2025-02-03</td>\n",
       "      <td>0.00</td>\n",
       "      <td>22.61</td>\n",
       "      <td>2.550</td>\n",
       "      <td>25.160</td>\n",
       "      <td>70.190</td>\n",
       "      <td>19.708571</td>\n",
       "      <td>3.561395</td>\n",
       "      <td>1</td>\n",
       "    </tr>\n",
       "    <tr>\n",
       "      <th>31</th>\n",
       "      <td>2025-01-27</td>\n",
       "      <td>0.00</td>\n",
       "      <td>22.81</td>\n",
       "      <td>1.650</td>\n",
       "      <td>24.460</td>\n",
       "      <td>60.960</td>\n",
       "      <td>18.002143</td>\n",
       "      <td>3.386264</td>\n",
       "      <td>1</td>\n",
       "    </tr>\n",
       "    <tr>\n",
       "      <th>30</th>\n",
       "      <td>2025-01-20</td>\n",
       "      <td>0.00</td>\n",
       "      <td>20.57</td>\n",
       "      <td>0.000</td>\n",
       "      <td>20.570</td>\n",
       "      <td>51.610</td>\n",
       "      <td>15.723571</td>\n",
       "      <td>3.282333</td>\n",
       "      <td>1</td>\n",
       "    </tr>\n",
       "    <tr>\n",
       "      <th>29</th>\n",
       "      <td>2025-01-13</td>\n",
       "      <td>0.00</td>\n",
       "      <td>14.33</td>\n",
       "      <td>1.600</td>\n",
       "      <td>15.930</td>\n",
       "      <td>50.680</td>\n",
       "      <td>14.192143</td>\n",
       "      <td>3.570990</td>\n",
       "      <td>1</td>\n",
       "    </tr>\n",
       "    <tr>\n",
       "      <th>28</th>\n",
       "      <td>2025-01-06</td>\n",
       "      <td>0.00</td>\n",
       "      <td>15.11</td>\n",
       "      <td>0.000</td>\n",
       "      <td>15.110</td>\n",
       "      <td>51.840</td>\n",
       "      <td>16.326429</td>\n",
       "      <td>3.175220</td>\n",
       "      <td>1</td>\n",
       "    </tr>\n",
       "    <tr>\n",
       "      <th>27</th>\n",
       "      <td>2024-12-30</td>\n",
       "      <td>0.00</td>\n",
       "      <td>19.64</td>\n",
       "      <td>0.000</td>\n",
       "      <td>19.640</td>\n",
       "      <td>49.945</td>\n",
       "      <td>14.576429</td>\n",
       "      <td>3.426422</td>\n",
       "      <td>1</td>\n",
       "    </tr>\n",
       "    <tr>\n",
       "      <th>26</th>\n",
       "      <td>2024-12-23</td>\n",
       "      <td>0.00</td>\n",
       "      <td>17.09</td>\n",
       "      <td>0.000</td>\n",
       "      <td>17.090</td>\n",
       "      <td>38.815</td>\n",
       "      <td>12.135000</td>\n",
       "      <td>3.198599</td>\n",
       "      <td>1</td>\n",
       "    </tr>\n",
       "    <tr>\n",
       "      <th>25</th>\n",
       "      <td>2024-12-16</td>\n",
       "      <td>0.00</td>\n",
       "      <td>12.09</td>\n",
       "      <td>1.125</td>\n",
       "      <td>13.215</td>\n",
       "      <td>31.575</td>\n",
       "      <td>10.547143</td>\n",
       "      <td>2.993702</td>\n",
       "      <td>1</td>\n",
       "    </tr>\n",
       "    <tr>\n",
       "      <th>24</th>\n",
       "      <td>2024-12-09</td>\n",
       "      <td>0.00</td>\n",
       "      <td>8.51</td>\n",
       "      <td>0.000</td>\n",
       "      <td>8.510</td>\n",
       "      <td>49.230</td>\n",
       "      <td>9.787143</td>\n",
       "      <td>5.030069</td>\n",
       "      <td>1</td>\n",
       "    </tr>\n",
       "    <tr>\n",
       "      <th>23</th>\n",
       "      <td>2024-12-02</td>\n",
       "      <td>0.00</td>\n",
       "      <td>9.85</td>\n",
       "      <td>0.000</td>\n",
       "      <td>9.850</td>\n",
       "      <td>43.580</td>\n",
       "      <td>12.581429</td>\n",
       "      <td>3.463836</td>\n",
       "      <td>1</td>\n",
       "    </tr>\n",
       "    <tr>\n",
       "      <th>22</th>\n",
       "      <td>2024-11-25</td>\n",
       "      <td>26.06</td>\n",
       "      <td>4.81</td>\n",
       "      <td>0.000</td>\n",
       "      <td>30.870</td>\n",
       "      <td>36.280</td>\n",
       "      <td>11.931429</td>\n",
       "      <td>3.040709</td>\n",
       "      <td>1</td>\n",
       "    </tr>\n",
       "    <tr>\n",
       "      <th>21</th>\n",
       "      <td>2024-11-18</td>\n",
       "      <td>0.00</td>\n",
       "      <td>2.86</td>\n",
       "      <td>0.000</td>\n",
       "      <td>2.860</td>\n",
       "      <td>11.385</td>\n",
       "      <td>9.672857</td>\n",
       "      <td>1.177005</td>\n",
       "      <td>0</td>\n",
       "    </tr>\n",
       "    <tr>\n",
       "      <th>20</th>\n",
       "      <td>2024-11-11</td>\n",
       "      <td>0.00</td>\n",
       "      <td>0.00</td>\n",
       "      <td>2.550</td>\n",
       "      <td>2.550</td>\n",
       "      <td>16.420</td>\n",
       "      <td>11.351429</td>\n",
       "      <td>1.446514</td>\n",
       "      <td>0</td>\n",
       "    </tr>\n",
       "    <tr>\n",
       "      <th>19</th>\n",
       "      <td>2024-11-04</td>\n",
       "      <td>0.00</td>\n",
       "      <td>5.05</td>\n",
       "      <td>0.925</td>\n",
       "      <td>5.975</td>\n",
       "      <td>41.940</td>\n",
       "      <td>19.780000</td>\n",
       "      <td>2.120324</td>\n",
       "      <td>1</td>\n",
       "    </tr>\n",
       "    <tr>\n",
       "      <th>18</th>\n",
       "      <td>2024-10-28</td>\n",
       "      <td>0.00</td>\n",
       "      <td>5.52</td>\n",
       "      <td>2.375</td>\n",
       "      <td>7.895</td>\n",
       "      <td>41.265</td>\n",
       "      <td>32.573571</td>\n",
       "      <td>1.266825</td>\n",
       "      <td>0</td>\n",
       "    </tr>\n",
       "    <tr>\n",
       "      <th>17</th>\n",
       "      <td>2024-10-21</td>\n",
       "      <td>0.00</td>\n",
       "      <td>26.22</td>\n",
       "      <td>1.850</td>\n",
       "      <td>28.070</td>\n",
       "      <td>48.430</td>\n",
       "      <td>32.296429</td>\n",
       "      <td>1.499547</td>\n",
       "      <td>0</td>\n",
       "    </tr>\n",
       "    <tr>\n",
       "      <th>16</th>\n",
       "      <td>2024-10-14</td>\n",
       "      <td>0.00</td>\n",
       "      <td>5.30</td>\n",
       "      <td>0.000</td>\n",
       "      <td>5.300</td>\n",
       "      <td>34.970</td>\n",
       "      <td>30.390143</td>\n",
       "      <td>1.150702</td>\n",
       "      <td>0</td>\n",
       "    </tr>\n",
       "    <tr>\n",
       "      <th>15</th>\n",
       "      <td>2024-09-30</td>\n",
       "      <td>7.04</td>\n",
       "      <td>8.02</td>\n",
       "      <td>0.000</td>\n",
       "      <td>15.060</td>\n",
       "      <td>91.220</td>\n",
       "      <td>32.158714</td>\n",
       "      <td>2.836556</td>\n",
       "      <td>1</td>\n",
       "    </tr>\n",
       "    <tr>\n",
       "      <th>14</th>\n",
       "      <td>2024-09-23</td>\n",
       "      <td>0.00</td>\n",
       "      <td>14.61</td>\n",
       "      <td>0.000</td>\n",
       "      <td>14.610</td>\n",
       "      <td>171.690</td>\n",
       "      <td>48.237286</td>\n",
       "      <td>3.559280</td>\n",
       "      <td>1</td>\n",
       "    </tr>\n",
       "    <tr>\n",
       "      <th>13</th>\n",
       "      <td>2024-09-16</td>\n",
       "      <td>53.59</td>\n",
       "      <td>7.96</td>\n",
       "      <td>0.000</td>\n",
       "      <td>61.550</td>\n",
       "      <td>163.035</td>\n",
       "      <td>47.752857</td>\n",
       "      <td>3.414141</td>\n",
       "      <td>1</td>\n",
       "    </tr>\n",
       "    <tr>\n",
       "      <th>12</th>\n",
       "      <td>2024-09-09</td>\n",
       "      <td>70.91</td>\n",
       "      <td>23.27</td>\n",
       "      <td>1.350</td>\n",
       "      <td>95.530</td>\n",
       "      <td>116.211</td>\n",
       "      <td>65.190714</td>\n",
       "      <td>1.782631</td>\n",
       "      <td>1</td>\n",
       "    </tr>\n",
       "    <tr>\n",
       "      <th>11</th>\n",
       "      <td>2024-09-02</td>\n",
       "      <td>0.00</td>\n",
       "      <td>4.52</td>\n",
       "      <td>1.435</td>\n",
       "      <td>5.955</td>\n",
       "      <td>38.361</td>\n",
       "      <td>67.400714</td>\n",
       "      <td>0.569148</td>\n",
       "      <td>0</td>\n",
       "    </tr>\n",
       "    <tr>\n",
       "      <th>10</th>\n",
       "      <td>2024-08-26</td>\n",
       "      <td>0.00</td>\n",
       "      <td>11.56</td>\n",
       "      <td>3.166</td>\n",
       "      <td>14.726</td>\n",
       "      <td>160.016</td>\n",
       "      <td>89.198571</td>\n",
       "      <td>1.793930</td>\n",
       "      <td>1</td>\n",
       "    </tr>\n",
       "    <tr>\n",
       "      <th>9</th>\n",
       "      <td>2024-08-19</td>\n",
       "      <td>0.00</td>\n",
       "      <td>15.88</td>\n",
       "      <td>1.800</td>\n",
       "      <td>17.680</td>\n",
       "      <td>156.509</td>\n",
       "      <td>102.029143</td>\n",
       "      <td>1.533964</td>\n",
       "      <td>1</td>\n",
       "    </tr>\n",
       "    <tr>\n",
       "      <th>8</th>\n",
       "      <td>2024-08-12</td>\n",
       "      <td>106.05</td>\n",
       "      <td>18.96</td>\n",
       "      <td>2.600</td>\n",
       "      <td>127.610</td>\n",
       "      <td>322.444</td>\n",
       "      <td>110.766286</td>\n",
       "      <td>2.911030</td>\n",
       "      <td>1</td>\n",
       "    </tr>\n",
       "    <tr>\n",
       "      <th>7</th>\n",
       "      <td>2024-08-05</td>\n",
       "      <td>0.00</td>\n",
       "      <td>7.77</td>\n",
       "      <td>3.449</td>\n",
       "      <td>11.219</td>\n",
       "      <td>305.834</td>\n",
       "      <td>93.114857</td>\n",
       "      <td>3.284481</td>\n",
       "      <td>1</td>\n",
       "    </tr>\n",
       "    <tr>\n",
       "      <th>6</th>\n",
       "      <td>2024-07-29</td>\n",
       "      <td>172.59</td>\n",
       "      <td>9.20</td>\n",
       "      <td>1.825</td>\n",
       "      <td>183.615</td>\n",
       "      <td>453.155</td>\n",
       "      <td>91.916286</td>\n",
       "      <td>4.930084</td>\n",
       "      <td>1</td>\n",
       "    </tr>\n",
       "    <tr>\n",
       "      <th>5</th>\n",
       "      <td>2024-07-22</td>\n",
       "      <td>85.77</td>\n",
       "      <td>22.88</td>\n",
       "      <td>2.350</td>\n",
       "      <td>111.000</td>\n",
       "      <td>374.080</td>\n",
       "      <td>76.633167</td>\n",
       "      <td>4.881437</td>\n",
       "      <td>1</td>\n",
       "    </tr>\n",
       "    <tr>\n",
       "      <th>4</th>\n",
       "      <td>2024-07-15</td>\n",
       "      <td>144.36</td>\n",
       "      <td>10.23</td>\n",
       "      <td>3.950</td>\n",
       "      <td>158.540</td>\n",
       "      <td>341.920</td>\n",
       "      <td>69.759800</td>\n",
       "      <td>4.901390</td>\n",
       "      <td>1</td>\n",
       "    </tr>\n",
       "    <tr>\n",
       "      <th>3</th>\n",
       "      <td>2024-07-08</td>\n",
       "      <td>94.28</td>\n",
       "      <td>7.66</td>\n",
       "      <td>2.600</td>\n",
       "      <td>104.540</td>\n",
       "      <td>187.430</td>\n",
       "      <td>47.564750</td>\n",
       "      <td>3.940523</td>\n",
       "      <td>1</td>\n",
       "    </tr>\n",
       "    <tr>\n",
       "      <th>2</th>\n",
       "      <td>2024-07-01</td>\n",
       "      <td>77.14</td>\n",
       "      <td>0.00</td>\n",
       "      <td>1.700</td>\n",
       "      <td>78.840</td>\n",
       "      <td>85.719</td>\n",
       "      <td>28.573000</td>\n",
       "      <td>3.000000</td>\n",
       "      <td>1</td>\n",
       "    </tr>\n",
       "    <tr>\n",
       "      <th>1</th>\n",
       "      <td>2024-06-24</td>\n",
       "      <td>0.00</td>\n",
       "      <td>4.05</td>\n",
       "      <td>0.000</td>\n",
       "      <td>4.050</td>\n",
       "      <td>6.879</td>\n",
       "      <td>3.439500</td>\n",
       "      <td>2.000000</td>\n",
       "      <td>1</td>\n",
       "    </tr>\n",
       "    <tr>\n",
       "      <th>0</th>\n",
       "      <td>2024-06-17</td>\n",
       "      <td>0.00</td>\n",
       "      <td>2.47</td>\n",
       "      <td>0.359</td>\n",
       "      <td>2.829</td>\n",
       "      <td>2.829</td>\n",
       "      <td>2.829000</td>\n",
       "      <td>1.000000</td>\n",
       "      <td>0</td>\n",
       "    </tr>\n",
       "  </tbody>\n",
       "</table>\n",
       "</div>"
      ],
      "text/plain": [
       "         Week  Cycling  Running  Swimming  Total Distance (km)  Load_3w  \\\n",
       "47 2025-05-19     0.00     5.48     0.000                5.480  287.235   \n",
       "46 2025-05-12   184.53    24.25     1.725              210.505  417.110   \n",
       "45 2025-05-05    62.19     7.41     1.650               71.250  388.585   \n",
       "44 2025-04-28    94.95    34.78     5.625              135.355  498.010   \n",
       "43 2025-04-21   156.87    23.11     2.000              181.980  472.510   \n",
       "42 2025-04-14   174.48     2.62     3.575              180.675  709.110   \n",
       "41 2025-04-07   106.98     0.00     2.875              109.855  570.115   \n",
       "40 2025-03-31   412.74     2.54     3.300              418.580  520.465   \n",
       "39 2025-03-24    41.68     0.00     0.000               41.680  133.585   \n",
       "38 2025-03-17    57.73     0.00     2.475               60.205  197.450   \n",
       "37 2025-03-10     0.00    29.05     2.650               31.700  161.475   \n",
       "36 2025-03-03    92.18    10.29     3.075              105.545  142.300   \n",
       "35 2025-02-24     0.00    22.68     1.550               24.230   64.735   \n",
       "34 2025-02-17     0.00    10.95     1.575               12.525   65.665   \n",
       "33 2025-02-10     0.00    25.58     2.400               27.980   77.600   \n",
       "32 2025-02-03     0.00    22.61     2.550               25.160   70.190   \n",
       "31 2025-01-27     0.00    22.81     1.650               24.460   60.960   \n",
       "30 2025-01-20     0.00    20.57     0.000               20.570   51.610   \n",
       "29 2025-01-13     0.00    14.33     1.600               15.930   50.680   \n",
       "28 2025-01-06     0.00    15.11     0.000               15.110   51.840   \n",
       "27 2024-12-30     0.00    19.64     0.000               19.640   49.945   \n",
       "26 2024-12-23     0.00    17.09     0.000               17.090   38.815   \n",
       "25 2024-12-16     0.00    12.09     1.125               13.215   31.575   \n",
       "24 2024-12-09     0.00     8.51     0.000                8.510   49.230   \n",
       "23 2024-12-02     0.00     9.85     0.000                9.850   43.580   \n",
       "22 2024-11-25    26.06     4.81     0.000               30.870   36.280   \n",
       "21 2024-11-18     0.00     2.86     0.000                2.860   11.385   \n",
       "20 2024-11-11     0.00     0.00     2.550                2.550   16.420   \n",
       "19 2024-11-04     0.00     5.05     0.925                5.975   41.940   \n",
       "18 2024-10-28     0.00     5.52     2.375                7.895   41.265   \n",
       "17 2024-10-21     0.00    26.22     1.850               28.070   48.430   \n",
       "16 2024-10-14     0.00     5.30     0.000                5.300   34.970   \n",
       "15 2024-09-30     7.04     8.02     0.000               15.060   91.220   \n",
       "14 2024-09-23     0.00    14.61     0.000               14.610  171.690   \n",
       "13 2024-09-16    53.59     7.96     0.000               61.550  163.035   \n",
       "12 2024-09-09    70.91    23.27     1.350               95.530  116.211   \n",
       "11 2024-09-02     0.00     4.52     1.435                5.955   38.361   \n",
       "10 2024-08-26     0.00    11.56     3.166               14.726  160.016   \n",
       "9  2024-08-19     0.00    15.88     1.800               17.680  156.509   \n",
       "8  2024-08-12   106.05    18.96     2.600              127.610  322.444   \n",
       "7  2024-08-05     0.00     7.77     3.449               11.219  305.834   \n",
       "6  2024-07-29   172.59     9.20     1.825              183.615  453.155   \n",
       "5  2024-07-22    85.77    22.88     2.350              111.000  374.080   \n",
       "4  2024-07-15   144.36    10.23     3.950              158.540  341.920   \n",
       "3  2024-07-08    94.28     7.66     2.600              104.540  187.430   \n",
       "2  2024-07-01    77.14     0.00     1.700               78.840   85.719   \n",
       "1  2024-06-24     0.00     4.05     0.000                4.050    6.879   \n",
       "0  2024-06-17     0.00     2.47     0.359                2.829    2.829   \n",
       "\n",
       "       Load_7w      ACWR  Risk_Flag  \n",
       "47  127.871429  2.246280          1  \n",
       "46  186.885714  2.231899          1  \n",
       "45  162.767857  2.387357          1  \n",
       "44  161.190000  3.089584          1  \n",
       "43  146.382143  3.227921          1  \n",
       "42  135.462857  5.234719          1  \n",
       "41  113.113571  5.040200          1  \n",
       "40   99.209286  5.246132          1  \n",
       "39   43.409286  3.077337          1  \n",
       "38   41.049286  4.810072          1  \n",
       "37   35.942857  4.492548          1  \n",
       "36   34.352857  4.142305          1  \n",
       "35   21.550714  3.003845          1  \n",
       "34   20.247857  3.243059          1  \n",
       "33   21.264286  3.649311          1  \n",
       "32   19.708571  3.561395          1  \n",
       "31   18.002143  3.386264          1  \n",
       "30   15.723571  3.282333          1  \n",
       "29   14.192143  3.570990          1  \n",
       "28   16.326429  3.175220          1  \n",
       "27   14.576429  3.426422          1  \n",
       "26   12.135000  3.198599          1  \n",
       "25   10.547143  2.993702          1  \n",
       "24    9.787143  5.030069          1  \n",
       "23   12.581429  3.463836          1  \n",
       "22   11.931429  3.040709          1  \n",
       "21    9.672857  1.177005          0  \n",
       "20   11.351429  1.446514          0  \n",
       "19   19.780000  2.120324          1  \n",
       "18   32.573571  1.266825          0  \n",
       "17   32.296429  1.499547          0  \n",
       "16   30.390143  1.150702          0  \n",
       "15   32.158714  2.836556          1  \n",
       "14   48.237286  3.559280          1  \n",
       "13   47.752857  3.414141          1  \n",
       "12   65.190714  1.782631          1  \n",
       "11   67.400714  0.569148          0  \n",
       "10   89.198571  1.793930          1  \n",
       "9   102.029143  1.533964          1  \n",
       "8   110.766286  2.911030          1  \n",
       "7    93.114857  3.284481          1  \n",
       "6    91.916286  4.930084          1  \n",
       "5    76.633167  4.881437          1  \n",
       "4    69.759800  4.901390          1  \n",
       "3    47.564750  3.940523          1  \n",
       "2    28.573000  3.000000          1  \n",
       "1     3.439500  2.000000          1  \n",
       "0     2.829000  1.000000          0  "
      ]
     },
     "execution_count": 113,
     "metadata": {},
     "output_type": "execute_result"
    }
   ],
   "source": [
    "weekly_pivot.sort_values(by='Week', ascending=False)"
   ]
  },
  {
   "cell_type": "markdown",
   "id": "b695ca2d",
   "metadata": {},
   "source": [
    "### 📊 ACWR Visualization\n",
    "\n",
    "The Acute:Chronic Workload Ratio (ACWR) helps detect sudden increases in training load that the body may not be ready for. \n",
    "\n",
    "- A value above **1.5** is commonly seen as a threshold for elevated risk of overtraining or injury.\n",
    "- In the plot below, **red points** highlight weeks where the ACWR exceeds this threshold."
   ]
  },
  {
   "cell_type": "code",
   "execution_count": 123,
   "id": "00f13bef",
   "metadata": {},
   "outputs": [
    {
     "data": {
      "image/png": "[encoded data removed]",
      "text/plain": [
       "<Figure size 1400x600 with 1 Axes>"
      ]
     },
     "metadata": {},
     "output_type": "display_data"
    }
   ],
   "source": [
    "plt.figure(figsize=(14,6))\n",
    "\n",
    "# Line plot\n",
    "plt.plot(weekly_pivot['Week'], weekly_pivot['ACWR'], marker='o', label='ACWR (3w / 7w)', zorder=3)\n",
    "\n",
    "# Risk line\n",
    "plt.axhline(1.5, color='red', linestyle='--', label='Risk Threshold (1.5)', zorder=1)\n",
    "\n",
    "# Risky weeks only\n",
    "risky_weeks = weekly_pivot[weekly_pivot['Risk_Flag'] == 1]\n",
    "\n",
    "# Add scatter dots above the line\n",
    "plt.scatter(risky_weeks['Week'], risky_weeks['ACWR'], color='red', s=100, label='Flagged Risk Weeks', zorder=5)\n",
    "\n",
    "# Labels and styling\n",
    "plt.title('Acute:Chronic Workload Ratio (ACWR) Over Time')\n",
    "plt.xlabel('Week')\n",
    "plt.ylabel('ACWR')\n",
    "plt.xticks(rotation=45)\n",
    "plt.grid(True)\n",
    "plt.legend()\n",
    "plt.tight_layout()\n",
    "plt.show()"
   ]
  },
  {
   "cell_type": "code",
   "execution_count": null,
   "id": "4869a594",
   "metadata": {},
   "outputs": [],
   "source": []
  }
 ],
 "metadata": {
  "kernelspec": {
   "display_name": "Python 3 (ipykernel)",
   "language": "python",
   "name": "python3"
  },
  "language_info": {
   "codemirror_mode": {
    "name": "ipython",
    "version": 3
   },
   "file_extension": ".py",
   "mimetype": "text/x-python",
   "name": "python",
   "nbconvert_exporter": "python",
   "pygments_lexer": "ipython3",
   "version": "3.9.13"
  }
 },
 "nbformat": 4,
 "nbformat_minor": 5
}
